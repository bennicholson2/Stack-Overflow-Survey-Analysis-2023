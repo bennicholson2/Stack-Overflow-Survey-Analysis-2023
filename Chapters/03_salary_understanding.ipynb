{
 "cells": [
  {
   "attachments": {},
   "cell_type": "markdown",
   "metadata": {},
   "source": [
    "# Stack Overflow Survey Analysis 2023"
   ]
  },
  {
   "attachments": {},
   "cell_type": "markdown",
   "metadata": {},
   "source": [
    "## 3. Salary of Respondents\n",
    "One of the key insights that arises from the Stack Overflow Survey is the tech industry's financial compensation for their skills. It will be very beneficial to understand the distribution of salary across different parameters.\n",
    "Goals\n",
    "1. Explore different parameters related to salary\n",
    "2. Create predictive model"
   ]
  },
  {
   "attachments": {},
   "cell_type": "markdown",
   "metadata": {},
   "source": [
    "### Import Packages and Load Data"
   ]
  },
  {
   "cell_type": "code",
   "execution_count": 1,
   "metadata": {},
   "outputs": [],
   "source": [
    "# import packages\n",
    "import numpy as np\n",
    "import pandas as pd\n",
    "import matplotlib.pyplot as plt"
   ]
  },
  {
   "cell_type": "code",
   "execution_count": 2,
   "metadata": {},
   "outputs": [
    {
     "data": {
      "text/html": [
       "<div>\n",
       "<style scoped>\n",
       "    .dataframe tbody tr th:only-of-type {\n",
       "        vertical-align: middle;\n",
       "    }\n",
       "\n",
       "    .dataframe tbody tr th {\n",
       "        vertical-align: top;\n",
       "    }\n",
       "\n",
       "    .dataframe thead th {\n",
       "        text-align: right;\n",
       "    }\n",
       "</style>\n",
       "<table border=\"1\" class=\"dataframe\">\n",
       "  <thead>\n",
       "    <tr style=\"text-align: right;\">\n",
       "      <th></th>\n",
       "      <th>Q120</th>\n",
       "      <th>MainBranch</th>\n",
       "      <th>Age</th>\n",
       "      <th>Employment</th>\n",
       "      <th>RemoteWork</th>\n",
       "      <th>CodingActivities</th>\n",
       "      <th>EdLevel</th>\n",
       "      <th>LearnCode</th>\n",
       "      <th>LearnCodeOnline</th>\n",
       "      <th>YearsCode</th>\n",
       "      <th>YearsCodePro</th>\n",
       "      <th>DevType</th>\n",
       "      <th>OrgSize</th>\n",
       "      <th>PurchaseInfluence</th>\n",
       "      <th>Country</th>\n",
       "      <th>Currency</th>\n",
       "      <th>LanguageHaveWorkedWith</th>\n",
       "      <th>LanguageWantToWorkWith</th>\n",
       "      <th>DatabaseHaveWorkedWith</th>\n",
       "      <th>DatabaseWantToWorkWith</th>\n",
       "      <th>PlatformHaveWorkedWith</th>\n",
       "      <th>PlatformWantToWorkWith</th>\n",
       "      <th>WebframeHaveWorkedWith</th>\n",
       "      <th>WebframeWantToWorkWith</th>\n",
       "      <th>MiscTechHaveWorkedWith</th>\n",
       "      <th>MiscTechWantToWorkWith</th>\n",
       "      <th>ToolsTechHaveWorkedWith</th>\n",
       "      <th>ToolsTechWantToWorkWith</th>\n",
       "      <th>NEWCollabToolsHaveWorkedWith</th>\n",
       "      <th>NEWCollabToolsWantToWorkWith</th>\n",
       "      <th>OpSysPersonal use</th>\n",
       "      <th>OpSysProfessional use</th>\n",
       "      <th>OfficeStackAsyncHaveWorkedWith</th>\n",
       "      <th>OfficeStackAsyncWantToWorkWith</th>\n",
       "      <th>OfficeStackSyncHaveWorkedWith</th>\n",
       "      <th>OfficeStackSyncWantToWorkWith</th>\n",
       "      <th>AISearchHaveWorkedWith</th>\n",
       "      <th>AISearchWantToWorkWith</th>\n",
       "      <th>Industry</th>\n",
       "      <th>Salary</th>\n",
       "    </tr>\n",
       "    <tr>\n",
       "      <th>ResponseId</th>\n",
       "      <th></th>\n",
       "      <th></th>\n",
       "      <th></th>\n",
       "      <th></th>\n",
       "      <th></th>\n",
       "      <th></th>\n",
       "      <th></th>\n",
       "      <th></th>\n",
       "      <th></th>\n",
       "      <th></th>\n",
       "      <th></th>\n",
       "      <th></th>\n",
       "      <th></th>\n",
       "      <th></th>\n",
       "      <th></th>\n",
       "      <th></th>\n",
       "      <th></th>\n",
       "      <th></th>\n",
       "      <th></th>\n",
       "      <th></th>\n",
       "      <th></th>\n",
       "      <th></th>\n",
       "      <th></th>\n",
       "      <th></th>\n",
       "      <th></th>\n",
       "      <th></th>\n",
       "      <th></th>\n",
       "      <th></th>\n",
       "      <th></th>\n",
       "      <th></th>\n",
       "      <th></th>\n",
       "      <th></th>\n",
       "      <th></th>\n",
       "      <th></th>\n",
       "      <th></th>\n",
       "      <th></th>\n",
       "      <th></th>\n",
       "      <th></th>\n",
       "      <th></th>\n",
       "      <th></th>\n",
       "    </tr>\n",
       "  </thead>\n",
       "  <tbody>\n",
       "    <tr>\n",
       "      <th>1</th>\n",
       "      <td>I agree</td>\n",
       "      <td>None of these</td>\n",
       "      <td>18-24 years old</td>\n",
       "      <td>NaN</td>\n",
       "      <td>NaN</td>\n",
       "      <td>NaN</td>\n",
       "      <td>NaN</td>\n",
       "      <td>NaN</td>\n",
       "      <td>NaN</td>\n",
       "      <td>NaN</td>\n",
       "      <td>NaN</td>\n",
       "      <td>NaN</td>\n",
       "      <td>NaN</td>\n",
       "      <td>NaN</td>\n",
       "      <td>NaN</td>\n",
       "      <td>NaN</td>\n",
       "      <td>NaN</td>\n",
       "      <td>NaN</td>\n",
       "      <td>NaN</td>\n",
       "      <td>NaN</td>\n",
       "      <td>NaN</td>\n",
       "      <td>NaN</td>\n",
       "      <td>NaN</td>\n",
       "      <td>NaN</td>\n",
       "      <td>NaN</td>\n",
       "      <td>NaN</td>\n",
       "      <td>NaN</td>\n",
       "      <td>NaN</td>\n",
       "      <td>NaN</td>\n",
       "      <td>NaN</td>\n",
       "      <td>NaN</td>\n",
       "      <td>NaN</td>\n",
       "      <td>NaN</td>\n",
       "      <td>NaN</td>\n",
       "      <td>NaN</td>\n",
       "      <td>NaN</td>\n",
       "      <td>NaN</td>\n",
       "      <td>NaN</td>\n",
       "      <td>NaN</td>\n",
       "      <td>NaN</td>\n",
       "    </tr>\n",
       "    <tr>\n",
       "      <th>2</th>\n",
       "      <td>I agree</td>\n",
       "      <td>I am a developer by profession</td>\n",
       "      <td>25-34 years old</td>\n",
       "      <td>Employed, full-time</td>\n",
       "      <td>Remote</td>\n",
       "      <td>Hobby;Contribute to open-source projects;Boots...</td>\n",
       "      <td>Bachelor’s degree (B.A., B.S., B.Eng., etc.)</td>\n",
       "      <td>Books / Physical media;Colleague;Friend or fam...</td>\n",
       "      <td>Formal documentation provided by the owner of ...</td>\n",
       "      <td>18</td>\n",
       "      <td>9</td>\n",
       "      <td>Senior Executive (C-Suite, VP, etc.)</td>\n",
       "      <td>2 to 9 employees</td>\n",
       "      <td>I have a great deal of influence</td>\n",
       "      <td>United States of America</td>\n",
       "      <td>USD\\tUnited States dollar</td>\n",
       "      <td>HTML/CSS;JavaScript;Python</td>\n",
       "      <td>Bash/Shell (all shells);C#;Dart;Elixir;GDScrip...</td>\n",
       "      <td>Supabase</td>\n",
       "      <td>Firebase Realtime Database;Supabase</td>\n",
       "      <td>Amazon Web Services (AWS);Netlify;Vercel</td>\n",
       "      <td>Fly.io;Netlify;Render</td>\n",
       "      <td>Next.js;React;Remix;Vue.js</td>\n",
       "      <td>Deno;Elm;Nuxt.js;React;Svelte;Vue.js</td>\n",
       "      <td>Electron;React Native;Tauri</td>\n",
       "      <td>Capacitor;Electron;Tauri;Uno Platform;Xamarin</td>\n",
       "      <td>Docker;Kubernetes;npm;Pip;Vite;Webpack;Yarn</td>\n",
       "      <td>Godot;npm;pnpm;Unity 3D;Unreal Engine;Vite;Web...</td>\n",
       "      <td>Vim;Visual Studio Code</td>\n",
       "      <td>Vim;Visual Studio Code</td>\n",
       "      <td>iOS;iPadOS;MacOS;Windows;Windows Subsystem for...</td>\n",
       "      <td>MacOS;Windows;Windows Subsystem for Linux (WSL)</td>\n",
       "      <td>Asana;Basecamp;GitHub Discussions;Jira;Linear;...</td>\n",
       "      <td>GitHub Discussions;Linear;Notion;Trello</td>\n",
       "      <td>Cisco Webex Teams;Discord;Google Chat;Google M...</td>\n",
       "      <td>Discord;Signal;Slack;Zoom</td>\n",
       "      <td>ChatGPT</td>\n",
       "      <td>ChatGPT;Neeva AI</td>\n",
       "      <td>Information Services, IT, Software Development...</td>\n",
       "      <td>285000.00</td>\n",
       "    </tr>\n",
       "    <tr>\n",
       "      <th>3</th>\n",
       "      <td>I agree</td>\n",
       "      <td>I am a developer by profession</td>\n",
       "      <td>45-54 years old</td>\n",
       "      <td>Employed, full-time</td>\n",
       "      <td>Hybrid (some remote, some in-person)</td>\n",
       "      <td>Hobby;Professional development or self-paced l...</td>\n",
       "      <td>Bachelor’s degree (B.A., B.S., B.Eng., etc.)</td>\n",
       "      <td>Books / Physical media;Colleague;On the job tr...</td>\n",
       "      <td>Formal documentation provided by the owner of ...</td>\n",
       "      <td>27</td>\n",
       "      <td>23</td>\n",
       "      <td>Developer, back-end</td>\n",
       "      <td>5,000 to 9,999 employees</td>\n",
       "      <td>I have some influence</td>\n",
       "      <td>United States of America</td>\n",
       "      <td>USD\\tUnited States dollar</td>\n",
       "      <td>Bash/Shell (all shells);Go</td>\n",
       "      <td>Haskell;OCaml;Rust</td>\n",
       "      <td>NaN</td>\n",
       "      <td>NaN</td>\n",
       "      <td>Amazon Web Services (AWS);Google Cloud;OpenSta...</td>\n",
       "      <td>NaN</td>\n",
       "      <td>NaN</td>\n",
       "      <td>NaN</td>\n",
       "      <td>NaN</td>\n",
       "      <td>NaN</td>\n",
       "      <td>Cargo;Docker;Kubernetes;Make;Nix</td>\n",
       "      <td>Cargo;Kubernetes;Nix</td>\n",
       "      <td>Emacs;Helix</td>\n",
       "      <td>Emacs;Helix</td>\n",
       "      <td>MacOS;Other Linux-based</td>\n",
       "      <td>MacOS;Other Linux-based</td>\n",
       "      <td>Markdown File;Stack Overflow for Teams</td>\n",
       "      <td>Markdown File</td>\n",
       "      <td>Microsoft Teams;Slack;Zoom</td>\n",
       "      <td>Slack;Zoom</td>\n",
       "      <td>NaN</td>\n",
       "      <td>NaN</td>\n",
       "      <td>Information Services, IT, Software Development...</td>\n",
       "      <td>250000.00</td>\n",
       "    </tr>\n",
       "    <tr>\n",
       "      <th>4</th>\n",
       "      <td>I agree</td>\n",
       "      <td>I am a developer by profession</td>\n",
       "      <td>25-34 years old</td>\n",
       "      <td>Employed, full-time</td>\n",
       "      <td>Hybrid (some remote, some in-person)</td>\n",
       "      <td>Hobby</td>\n",
       "      <td>Bachelor’s degree (B.A., B.S., B.Eng., etc.)</td>\n",
       "      <td>Colleague;Friend or family member;Other online...</td>\n",
       "      <td>Formal documentation provided by the owner of ...</td>\n",
       "      <td>12</td>\n",
       "      <td>7</td>\n",
       "      <td>Developer, front-end</td>\n",
       "      <td>100 to 499 employees</td>\n",
       "      <td>I have some influence</td>\n",
       "      <td>United States of America</td>\n",
       "      <td>USD\\tUnited States dollar</td>\n",
       "      <td>Bash/Shell (all shells);HTML/CSS;JavaScript;PH...</td>\n",
       "      <td>Bash/Shell (all shells);HTML/CSS;JavaScript;Ru...</td>\n",
       "      <td>PostgreSQL;Redis</td>\n",
       "      <td>PostgreSQL;Redis</td>\n",
       "      <td>Cloudflare;Heroku</td>\n",
       "      <td>Cloudflare;Heroku</td>\n",
       "      <td>Node.js;React;Ruby on Rails;Vue.js;WordPress</td>\n",
       "      <td>Node.js;Ruby on Rails;Vue.js</td>\n",
       "      <td>NaN</td>\n",
       "      <td>NaN</td>\n",
       "      <td>Homebrew;npm;Vite;Webpack;Yarn</td>\n",
       "      <td>Homebrew;npm;Vite</td>\n",
       "      <td>IntelliJ IDEA;Vim;Visual Studio Code;WebStorm</td>\n",
       "      <td>IntelliJ IDEA;Vim;WebStorm</td>\n",
       "      <td>iOS;iPadOS;MacOS</td>\n",
       "      <td>iOS;iPadOS;MacOS</td>\n",
       "      <td>Jira</td>\n",
       "      <td>Jira</td>\n",
       "      <td>Discord;Google Meet;Microsoft Teams;Slack;Zoom</td>\n",
       "      <td>Discord;Google Meet;Slack;Zoom</td>\n",
       "      <td>NaN</td>\n",
       "      <td>NaN</td>\n",
       "      <td>NaN</td>\n",
       "      <td>156000.00</td>\n",
       "    </tr>\n",
       "    <tr>\n",
       "      <th>5</th>\n",
       "      <td>I agree</td>\n",
       "      <td>I am a developer by profession</td>\n",
       "      <td>25-34 years old</td>\n",
       "      <td>Employed, full-time;Independent contractor, fr...</td>\n",
       "      <td>Remote</td>\n",
       "      <td>Hobby;Contribute to open-source projects;Profe...</td>\n",
       "      <td>Bachelor’s degree (B.A., B.S., B.Eng., etc.)</td>\n",
       "      <td>Books / Physical media;Online Courses or Certi...</td>\n",
       "      <td>Formal documentation provided by the owner of ...</td>\n",
       "      <td>6</td>\n",
       "      <td>4</td>\n",
       "      <td>Developer, full-stack</td>\n",
       "      <td>20 to 99 employees</td>\n",
       "      <td>I have some influence</td>\n",
       "      <td>Philippines</td>\n",
       "      <td>PHP\\tPhilippine peso</td>\n",
       "      <td>HTML/CSS;JavaScript;TypeScript</td>\n",
       "      <td>HTML/CSS;JavaScript;Python;Rust;TypeScript</td>\n",
       "      <td>BigQuery;Elasticsearch;MongoDB;PostgreSQL</td>\n",
       "      <td>Elasticsearch;MongoDB;PostgreSQL;Redis;Supabase</td>\n",
       "      <td>Amazon Web Services (AWS);Firebase;Heroku;Netl...</td>\n",
       "      <td>Amazon Web Services (AWS);Cloudflare;Digital O...</td>\n",
       "      <td>Express;Gatsby;NestJS;Next.js;Node.js;React</td>\n",
       "      <td>Express;NestJS;Next.js;Node.js;React;Remix;Vue.js</td>\n",
       "      <td>NaN</td>\n",
       "      <td>NaN</td>\n",
       "      <td>Docker;npm;Webpack;Yarn</td>\n",
       "      <td>Docker;npm;Yarn</td>\n",
       "      <td>Vim;Visual Studio Code</td>\n",
       "      <td>Vim;Visual Studio Code</td>\n",
       "      <td>Other (Please Specify):</td>\n",
       "      <td>Other (Please Specify):</td>\n",
       "      <td>Confluence;Jira;Notion</td>\n",
       "      <td>Confluence;Jira;Notion</td>\n",
       "      <td>Discord;Google Meet;Slack;Zoom</td>\n",
       "      <td>Discord;Google Meet;Slack;Zoom</td>\n",
       "      <td>ChatGPT</td>\n",
       "      <td>ChatGPT</td>\n",
       "      <td>Other</td>\n",
       "      <td>23456.00</td>\n",
       "    </tr>\n",
       "    <tr>\n",
       "      <th>...</th>\n",
       "      <td>...</td>\n",
       "      <td>...</td>\n",
       "      <td>...</td>\n",
       "      <td>...</td>\n",
       "      <td>...</td>\n",
       "      <td>...</td>\n",
       "      <td>...</td>\n",
       "      <td>...</td>\n",
       "      <td>...</td>\n",
       "      <td>...</td>\n",
       "      <td>...</td>\n",
       "      <td>...</td>\n",
       "      <td>...</td>\n",
       "      <td>...</td>\n",
       "      <td>...</td>\n",
       "      <td>...</td>\n",
       "      <td>...</td>\n",
       "      <td>...</td>\n",
       "      <td>...</td>\n",
       "      <td>...</td>\n",
       "      <td>...</td>\n",
       "      <td>...</td>\n",
       "      <td>...</td>\n",
       "      <td>...</td>\n",
       "      <td>...</td>\n",
       "      <td>...</td>\n",
       "      <td>...</td>\n",
       "      <td>...</td>\n",
       "      <td>...</td>\n",
       "      <td>...</td>\n",
       "      <td>...</td>\n",
       "      <td>...</td>\n",
       "      <td>...</td>\n",
       "      <td>...</td>\n",
       "      <td>...</td>\n",
       "      <td>...</td>\n",
       "      <td>...</td>\n",
       "      <td>...</td>\n",
       "      <td>...</td>\n",
       "      <td>...</td>\n",
       "    </tr>\n",
       "    <tr>\n",
       "      <th>89180</th>\n",
       "      <td>I agree</td>\n",
       "      <td>I am a developer by profession</td>\n",
       "      <td>25-34 years old</td>\n",
       "      <td>Employed, full-time;Independent contractor, fr...</td>\n",
       "      <td>Remote</td>\n",
       "      <td>Hobby;Bootstrapping a business;Freelance/contr...</td>\n",
       "      <td>Associate degree (A.A., A.S., etc.)</td>\n",
       "      <td>Online Courses or Certification;Other online r...</td>\n",
       "      <td>Formal documentation provided by the owner of ...</td>\n",
       "      <td>20</td>\n",
       "      <td>5</td>\n",
       "      <td>Developer, front-end</td>\n",
       "      <td>100 to 499 employees</td>\n",
       "      <td>I have some influence</td>\n",
       "      <td>Brazil</td>\n",
       "      <td>BRL\\tBrazilian real</td>\n",
       "      <td>HTML/CSS;Java;JavaScript;SQL;TypeScript</td>\n",
       "      <td>Bash/Shell (all shells);C;Go;HTML/CSS;JavaScri...</td>\n",
       "      <td>MongoDB;MySQL;PostgreSQL;SQLite</td>\n",
       "      <td>PostgreSQL;SQLite</td>\n",
       "      <td>Digital Ocean;Firebase;Google Cloud;Heroku;Vercel</td>\n",
       "      <td>Amazon Web Services (AWS);Heroku;Netlify;Vercel</td>\n",
       "      <td>Angular;AngularJS;Express;jQuery;Node.js;Nuxt....</td>\n",
       "      <td>Express;Node.js;Nuxt.js;Svelte;Vue.js</td>\n",
       "      <td>Flutter</td>\n",
       "      <td>NaN</td>\n",
       "      <td>Chocolatey;CMake;Docker;Maven (build tool);npm...</td>\n",
       "      <td>Docker;npm;Pip;Vite;Yarn</td>\n",
       "      <td>Android Studio;Atom;Eclipse;IntelliJ IDEA;Netb...</td>\n",
       "      <td>Visual Studio Code</td>\n",
       "      <td>Android;Windows</td>\n",
       "      <td>Android;Ubuntu;Windows</td>\n",
       "      <td>Asana;Confluence;Jira;Markdown File;Miro;Notio...</td>\n",
       "      <td>Markdown File;Miro;Wikis</td>\n",
       "      <td>Discord;Google Meet;Jitsi;Microsoft Teams;Slac...</td>\n",
       "      <td>Discord;Google Meet;Jitsi;Microsoft Teams;Tele...</td>\n",
       "      <td>ChatGPT</td>\n",
       "      <td>ChatGPT</td>\n",
       "      <td>NaN</td>\n",
       "      <td>NaN</td>\n",
       "    </tr>\n",
       "    <tr>\n",
       "      <th>89181</th>\n",
       "      <td>I agree</td>\n",
       "      <td>I am a developer by profession</td>\n",
       "      <td>18-24 years old</td>\n",
       "      <td>Student, full-time;Employed, part-time</td>\n",
       "      <td>Hybrid (some remote, some in-person)</td>\n",
       "      <td>School or academic work</td>\n",
       "      <td>Bachelor’s degree (B.A., B.S., B.Eng., etc.)</td>\n",
       "      <td>Colleague;Online Courses or Certification;Othe...</td>\n",
       "      <td>Formal documentation provided by the owner of ...</td>\n",
       "      <td>5</td>\n",
       "      <td>NaN</td>\n",
       "      <td>Developer, back-end</td>\n",
       "      <td>NaN</td>\n",
       "      <td>NaN</td>\n",
       "      <td>Romania</td>\n",
       "      <td>NaN</td>\n",
       "      <td>Dart;Java;Python;SQL</td>\n",
       "      <td>Java;JavaScript;Python;SQL;TypeScript</td>\n",
       "      <td>PostgreSQL</td>\n",
       "      <td>PostgreSQL</td>\n",
       "      <td>NaN</td>\n",
       "      <td>NaN</td>\n",
       "      <td>Spring Boot</td>\n",
       "      <td>Spring Boot</td>\n",
       "      <td>Flutter;Opencv;RabbitMQ;Spring Framework;Torch...</td>\n",
       "      <td>RabbitMQ;Spring Framework;Torch/PyTorch</td>\n",
       "      <td>Maven (build tool);Pip</td>\n",
       "      <td>Maven (build tool);Pip</td>\n",
       "      <td>Android Studio;IntelliJ IDEA;PyCharm</td>\n",
       "      <td>IntelliJ IDEA;PyCharm</td>\n",
       "      <td>Windows</td>\n",
       "      <td>Windows</td>\n",
       "      <td>Jira</td>\n",
       "      <td>Jira</td>\n",
       "      <td>Microsoft Teams</td>\n",
       "      <td>Microsoft Teams</td>\n",
       "      <td>ChatGPT</td>\n",
       "      <td>ChatGPT</td>\n",
       "      <td>NaN</td>\n",
       "      <td>NaN</td>\n",
       "    </tr>\n",
       "    <tr>\n",
       "      <th>89182</th>\n",
       "      <td>I agree</td>\n",
       "      <td>I code primarily as a hobby</td>\n",
       "      <td>Prefer not to say</td>\n",
       "      <td>I prefer not to say</td>\n",
       "      <td>NaN</td>\n",
       "      <td>NaN</td>\n",
       "      <td>Something else</td>\n",
       "      <td>Books / Physical media;Hackathons (virtual or ...</td>\n",
       "      <td>NaN</td>\n",
       "      <td>10</td>\n",
       "      <td>NaN</td>\n",
       "      <td>NaN</td>\n",
       "      <td>NaN</td>\n",
       "      <td>NaN</td>\n",
       "      <td>Israel</td>\n",
       "      <td>NaN</td>\n",
       "      <td>Assembly;Bash/Shell (all shells);C;C#;Python;R...</td>\n",
       "      <td>Python;Rust</td>\n",
       "      <td>SQLite</td>\n",
       "      <td>NaN</td>\n",
       "      <td>Amazon Web Services (AWS)</td>\n",
       "      <td>Amazon Web Services (AWS);Microsoft Azure</td>\n",
       "      <td>NaN</td>\n",
       "      <td>NaN</td>\n",
       "      <td>NumPy;Pandas;TensorFlow</td>\n",
       "      <td>NumPy;Pandas;Torch/PyTorch</td>\n",
       "      <td>Cargo</td>\n",
       "      <td>Cargo;Docker;Kubernetes;Terraform</td>\n",
       "      <td>Jupyter Notebook/JupyterLab;Neovim;Visual Stud...</td>\n",
       "      <td>Jupyter Notebook/JupyterLab;Neovim;Visual Stud...</td>\n",
       "      <td>Windows</td>\n",
       "      <td>NaN</td>\n",
       "      <td>NaN</td>\n",
       "      <td>NaN</td>\n",
       "      <td>NaN</td>\n",
       "      <td>NaN</td>\n",
       "      <td>ChatGPT;Quora Poe</td>\n",
       "      <td>ChatGPT;Quora Poe</td>\n",
       "      <td>NaN</td>\n",
       "      <td>NaN</td>\n",
       "    </tr>\n",
       "    <tr>\n",
       "      <th>89183</th>\n",
       "      <td>I agree</td>\n",
       "      <td>I am a developer by profession</td>\n",
       "      <td>Under 18 years old</td>\n",
       "      <td>Employed, part-time;Student, part-time</td>\n",
       "      <td>Hybrid (some remote, some in-person)</td>\n",
       "      <td>Hobby;School or academic work</td>\n",
       "      <td>Secondary school (e.g. American high school, G...</td>\n",
       "      <td>Online Courses or Certification;Other online r...</td>\n",
       "      <td>Formal documentation provided by the owner of ...</td>\n",
       "      <td>3</td>\n",
       "      <td>NaN</td>\n",
       "      <td>System administrator</td>\n",
       "      <td>NaN</td>\n",
       "      <td>NaN</td>\n",
       "      <td>Switzerland</td>\n",
       "      <td>NaN</td>\n",
       "      <td>Bash/Shell (all shells);C#;HTML/CSS;Java;JavaS...</td>\n",
       "      <td>Bash/Shell (all shells);HTML/CSS;JavaScript;Po...</td>\n",
       "      <td>MariaDB;Microsoft SQL Server;MongoDB;MySQL;Red...</td>\n",
       "      <td>Cassandra;Cosmos DB;Dynamodb;MariaDB;Microsoft...</td>\n",
       "      <td>Amazon Web Services (AWS);Cloudflare;Google Cl...</td>\n",
       "      <td>Amazon Web Services (AWS);Cloudflare;Digital O...</td>\n",
       "      <td>Express;Next.js;Node.js;React;WordPress</td>\n",
       "      <td>Angular;AngularJS;Express;Next.js;Node.js;Reac...</td>\n",
       "      <td>CUDA;NumPy;Torch/PyTorch</td>\n",
       "      <td>CUDA;Flutter;NumPy;TensorFlow;Torch/PyTorch</td>\n",
       "      <td>Docker;Kubernetes;npm;Podman;Vite</td>\n",
       "      <td>Ansible;APT;Docker;Kubernetes;npm;Pip;Podman;T...</td>\n",
       "      <td>Eclipse;IntelliJ IDEA;Nano;Notepad++;PyCharm;V...</td>\n",
       "      <td>Jupyter Notebook/JupyterLab;Notepad++;Visual S...</td>\n",
       "      <td>Arch;Debian;iOS;iPadOS;MacOS;Ubuntu;Windows;Wi...</td>\n",
       "      <td>BSD;Red Hat;Solaris;Ubuntu;Windows</td>\n",
       "      <td>Confluence;Jira;Trello</td>\n",
       "      <td>Azure Devops;Confluence;Jira</td>\n",
       "      <td>Cisco Webex Teams;Discord;Microsoft Teams;Sign...</td>\n",
       "      <td>Discord;Microsoft Teams;Skype</td>\n",
       "      <td>Bing AI;ChatGPT;WolframAlpha</td>\n",
       "      <td>Bing AI;ChatGPT;Google Bard AI</td>\n",
       "      <td>NaN</td>\n",
       "      <td>NaN</td>\n",
       "    </tr>\n",
       "    <tr>\n",
       "      <th>89184</th>\n",
       "      <td>I agree</td>\n",
       "      <td>I am a developer by profession</td>\n",
       "      <td>35-44 years old</td>\n",
       "      <td>Employed, full-time</td>\n",
       "      <td>Hybrid (some remote, some in-person)</td>\n",
       "      <td>Hobby;Professional development or self-paced l...</td>\n",
       "      <td>Bachelor’s degree (B.A., B.S., B.Eng., etc.)</td>\n",
       "      <td>Colleague;Online Courses or Certification;Othe...</td>\n",
       "      <td>Formal documentation provided by the owner of ...</td>\n",
       "      <td>17</td>\n",
       "      <td>12</td>\n",
       "      <td>Developer, full-stack</td>\n",
       "      <td>100 to 499 employees</td>\n",
       "      <td>I have some influence</td>\n",
       "      <td>Iran, Islamic Republic of...</td>\n",
       "      <td>IRR\\tIranian rial</td>\n",
       "      <td>C#;Go;JavaScript;SQL;TypeScript</td>\n",
       "      <td>C#;Go;JavaScript;SQL;TypeScript</td>\n",
       "      <td>Microsoft SQL Server;Redis;SQLite</td>\n",
       "      <td>Microsoft SQL Server;Redis;SQLite</td>\n",
       "      <td>Hetzner</td>\n",
       "      <td>Hetzner;Microsoft Azure</td>\n",
       "      <td>Angular;ASP.NET;ASP.NET CORE;Blazor;Node.js</td>\n",
       "      <td>Angular;ASP.NET;ASP.NET CORE;Blazor;Deno;Node....</td>\n",
       "      <td>.NET (5+) ;.NET Framework (1.0 - 4.8)</td>\n",
       "      <td>.NET (5+) ;Apache Kafka;RabbitMQ;Tauri</td>\n",
       "      <td>Docker;npm;NuGet;pnpm;Vite;Webpack;Yarn</td>\n",
       "      <td>Bun;Docker;npm;NuGet;pnpm;Vite;Yarn</td>\n",
       "      <td>Visual Studio;Visual Studio Code</td>\n",
       "      <td>Visual Studio;Visual Studio Code</td>\n",
       "      <td>Windows</td>\n",
       "      <td>Windows</td>\n",
       "      <td>NaN</td>\n",
       "      <td>NaN</td>\n",
       "      <td>Google Meet;Skype;Telegram;Whatsapp</td>\n",
       "      <td>Google Meet;Skype;Telegram;Whatsapp</td>\n",
       "      <td>ChatGPT</td>\n",
       "      <td>ChatGPT</td>\n",
       "      <td>Information Services, IT, Software Development...</td>\n",
       "      <td>NaN</td>\n",
       "    </tr>\n",
       "  </tbody>\n",
       "</table>\n",
       "<p>87981 rows × 40 columns</p>\n",
       "</div>"
      ],
      "text/plain": [
       "               Q120                      MainBranch                 Age  \\\n",
       "ResponseId                                                                \n",
       "1           I agree                   None of these     18-24 years old   \n",
       "2           I agree  I am a developer by profession     25-34 years old   \n",
       "3           I agree  I am a developer by profession     45-54 years old   \n",
       "4           I agree  I am a developer by profession     25-34 years old   \n",
       "5           I agree  I am a developer by profession     25-34 years old   \n",
       "...             ...                             ...                 ...   \n",
       "89180       I agree  I am a developer by profession     25-34 years old   \n",
       "89181       I agree  I am a developer by profession     18-24 years old   \n",
       "89182       I agree     I code primarily as a hobby   Prefer not to say   \n",
       "89183       I agree  I am a developer by profession  Under 18 years old   \n",
       "89184       I agree  I am a developer by profession     35-44 years old   \n",
       "\n",
       "                                                   Employment  \\\n",
       "ResponseId                                                      \n",
       "1                                                         NaN   \n",
       "2                                         Employed, full-time   \n",
       "3                                         Employed, full-time   \n",
       "4                                         Employed, full-time   \n",
       "5           Employed, full-time;Independent contractor, fr...   \n",
       "...                                                       ...   \n",
       "89180       Employed, full-time;Independent contractor, fr...   \n",
       "89181                  Student, full-time;Employed, part-time   \n",
       "89182                                     I prefer not to say   \n",
       "89183                  Employed, part-time;Student, part-time   \n",
       "89184                                     Employed, full-time   \n",
       "\n",
       "                                      RemoteWork  \\\n",
       "ResponseId                                         \n",
       "1                                            NaN   \n",
       "2                                         Remote   \n",
       "3           Hybrid (some remote, some in-person)   \n",
       "4           Hybrid (some remote, some in-person)   \n",
       "5                                         Remote   \n",
       "...                                          ...   \n",
       "89180                                     Remote   \n",
       "89181       Hybrid (some remote, some in-person)   \n",
       "89182                                        NaN   \n",
       "89183       Hybrid (some remote, some in-person)   \n",
       "89184       Hybrid (some remote, some in-person)   \n",
       "\n",
       "                                             CodingActivities  \\\n",
       "ResponseId                                                      \n",
       "1                                                         NaN   \n",
       "2           Hobby;Contribute to open-source projects;Boots...   \n",
       "3           Hobby;Professional development or self-paced l...   \n",
       "4                                                       Hobby   \n",
       "5           Hobby;Contribute to open-source projects;Profe...   \n",
       "...                                                       ...   \n",
       "89180       Hobby;Bootstrapping a business;Freelance/contr...   \n",
       "89181                                 School or academic work   \n",
       "89182                                                     NaN   \n",
       "89183                           Hobby;School or academic work   \n",
       "89184       Hobby;Professional development or self-paced l...   \n",
       "\n",
       "                                                      EdLevel  \\\n",
       "ResponseId                                                      \n",
       "1                                                         NaN   \n",
       "2                Bachelor’s degree (B.A., B.S., B.Eng., etc.)   \n",
       "3                Bachelor’s degree (B.A., B.S., B.Eng., etc.)   \n",
       "4                Bachelor’s degree (B.A., B.S., B.Eng., etc.)   \n",
       "5                Bachelor’s degree (B.A., B.S., B.Eng., etc.)   \n",
       "...                                                       ...   \n",
       "89180                     Associate degree (A.A., A.S., etc.)   \n",
       "89181            Bachelor’s degree (B.A., B.S., B.Eng., etc.)   \n",
       "89182                                          Something else   \n",
       "89183       Secondary school (e.g. American high school, G...   \n",
       "89184            Bachelor’s degree (B.A., B.S., B.Eng., etc.)   \n",
       "\n",
       "                                                    LearnCode  \\\n",
       "ResponseId                                                      \n",
       "1                                                         NaN   \n",
       "2           Books / Physical media;Colleague;Friend or fam...   \n",
       "3           Books / Physical media;Colleague;On the job tr...   \n",
       "4           Colleague;Friend or family member;Other online...   \n",
       "5           Books / Physical media;Online Courses or Certi...   \n",
       "...                                                       ...   \n",
       "89180       Online Courses or Certification;Other online r...   \n",
       "89181       Colleague;Online Courses or Certification;Othe...   \n",
       "89182       Books / Physical media;Hackathons (virtual or ...   \n",
       "89183       Online Courses or Certification;Other online r...   \n",
       "89184       Colleague;Online Courses or Certification;Othe...   \n",
       "\n",
       "                                              LearnCodeOnline YearsCode  \\\n",
       "ResponseId                                                                \n",
       "1                                                         NaN       NaN   \n",
       "2           Formal documentation provided by the owner of ...        18   \n",
       "3           Formal documentation provided by the owner of ...        27   \n",
       "4           Formal documentation provided by the owner of ...        12   \n",
       "5           Formal documentation provided by the owner of ...         6   \n",
       "...                                                       ...       ...   \n",
       "89180       Formal documentation provided by the owner of ...        20   \n",
       "89181       Formal documentation provided by the owner of ...         5   \n",
       "89182                                                     NaN        10   \n",
       "89183       Formal documentation provided by the owner of ...         3   \n",
       "89184       Formal documentation provided by the owner of ...        17   \n",
       "\n",
       "           YearsCodePro                               DevType  \\\n",
       "ResponseId                                                      \n",
       "1                   NaN                                   NaN   \n",
       "2                     9  Senior Executive (C-Suite, VP, etc.)   \n",
       "3                    23                   Developer, back-end   \n",
       "4                     7                  Developer, front-end   \n",
       "5                     4                 Developer, full-stack   \n",
       "...                 ...                                   ...   \n",
       "89180                 5                  Developer, front-end   \n",
       "89181               NaN                   Developer, back-end   \n",
       "89182               NaN                                   NaN   \n",
       "89183               NaN                  System administrator   \n",
       "89184                12                 Developer, full-stack   \n",
       "\n",
       "                             OrgSize                 PurchaseInfluence  \\\n",
       "ResponseId                                                               \n",
       "1                                NaN                               NaN   \n",
       "2                   2 to 9 employees  I have a great deal of influence   \n",
       "3           5,000 to 9,999 employees             I have some influence   \n",
       "4               100 to 499 employees             I have some influence   \n",
       "5                 20 to 99 employees             I have some influence   \n",
       "...                              ...                               ...   \n",
       "89180           100 to 499 employees             I have some influence   \n",
       "89181                            NaN                               NaN   \n",
       "89182                            NaN                               NaN   \n",
       "89183                            NaN                               NaN   \n",
       "89184           100 to 499 employees             I have some influence   \n",
       "\n",
       "                                 Country                   Currency  \\\n",
       "ResponseId                                                            \n",
       "1                                    NaN                        NaN   \n",
       "2               United States of America  USD\\tUnited States dollar   \n",
       "3               United States of America  USD\\tUnited States dollar   \n",
       "4               United States of America  USD\\tUnited States dollar   \n",
       "5                            Philippines       PHP\\tPhilippine peso   \n",
       "...                                  ...                        ...   \n",
       "89180                             Brazil        BRL\\tBrazilian real   \n",
       "89181                            Romania                        NaN   \n",
       "89182                             Israel                        NaN   \n",
       "89183                        Switzerland                        NaN   \n",
       "89184       Iran, Islamic Republic of...          IRR\\tIranian rial   \n",
       "\n",
       "                                       LanguageHaveWorkedWith  \\\n",
       "ResponseId                                                      \n",
       "1                                                         NaN   \n",
       "2                                  HTML/CSS;JavaScript;Python   \n",
       "3                                  Bash/Shell (all shells);Go   \n",
       "4           Bash/Shell (all shells);HTML/CSS;JavaScript;PH...   \n",
       "5                              HTML/CSS;JavaScript;TypeScript   \n",
       "...                                                       ...   \n",
       "89180                 HTML/CSS;Java;JavaScript;SQL;TypeScript   \n",
       "89181                                    Dart;Java;Python;SQL   \n",
       "89182       Assembly;Bash/Shell (all shells);C;C#;Python;R...   \n",
       "89183       Bash/Shell (all shells);C#;HTML/CSS;Java;JavaS...   \n",
       "89184                         C#;Go;JavaScript;SQL;TypeScript   \n",
       "\n",
       "                                       LanguageWantToWorkWith  \\\n",
       "ResponseId                                                      \n",
       "1                                                         NaN   \n",
       "2           Bash/Shell (all shells);C#;Dart;Elixir;GDScrip...   \n",
       "3                                          Haskell;OCaml;Rust   \n",
       "4           Bash/Shell (all shells);HTML/CSS;JavaScript;Ru...   \n",
       "5                  HTML/CSS;JavaScript;Python;Rust;TypeScript   \n",
       "...                                                       ...   \n",
       "89180       Bash/Shell (all shells);C;Go;HTML/CSS;JavaScri...   \n",
       "89181                   Java;JavaScript;Python;SQL;TypeScript   \n",
       "89182                                             Python;Rust   \n",
       "89183       Bash/Shell (all shells);HTML/CSS;JavaScript;Po...   \n",
       "89184                         C#;Go;JavaScript;SQL;TypeScript   \n",
       "\n",
       "                                       DatabaseHaveWorkedWith  \\\n",
       "ResponseId                                                      \n",
       "1                                                         NaN   \n",
       "2                                                    Supabase   \n",
       "3                                                         NaN   \n",
       "4                                            PostgreSQL;Redis   \n",
       "5                   BigQuery;Elasticsearch;MongoDB;PostgreSQL   \n",
       "...                                                       ...   \n",
       "89180                         MongoDB;MySQL;PostgreSQL;SQLite   \n",
       "89181                                              PostgreSQL   \n",
       "89182                                                  SQLite   \n",
       "89183       MariaDB;Microsoft SQL Server;MongoDB;MySQL;Red...   \n",
       "89184                       Microsoft SQL Server;Redis;SQLite   \n",
       "\n",
       "                                       DatabaseWantToWorkWith  \\\n",
       "ResponseId                                                      \n",
       "1                                                         NaN   \n",
       "2                         Firebase Realtime Database;Supabase   \n",
       "3                                                         NaN   \n",
       "4                                            PostgreSQL;Redis   \n",
       "5             Elasticsearch;MongoDB;PostgreSQL;Redis;Supabase   \n",
       "...                                                       ...   \n",
       "89180                                       PostgreSQL;SQLite   \n",
       "89181                                              PostgreSQL   \n",
       "89182                                                     NaN   \n",
       "89183       Cassandra;Cosmos DB;Dynamodb;MariaDB;Microsoft...   \n",
       "89184                       Microsoft SQL Server;Redis;SQLite   \n",
       "\n",
       "                                       PlatformHaveWorkedWith  \\\n",
       "ResponseId                                                      \n",
       "1                                                         NaN   \n",
       "2                    Amazon Web Services (AWS);Netlify;Vercel   \n",
       "3           Amazon Web Services (AWS);Google Cloud;OpenSta...   \n",
       "4                                           Cloudflare;Heroku   \n",
       "5           Amazon Web Services (AWS);Firebase;Heroku;Netl...   \n",
       "...                                                       ...   \n",
       "89180       Digital Ocean;Firebase;Google Cloud;Heroku;Vercel   \n",
       "89181                                                     NaN   \n",
       "89182                               Amazon Web Services (AWS)   \n",
       "89183       Amazon Web Services (AWS);Cloudflare;Google Cl...   \n",
       "89184                                                 Hetzner   \n",
       "\n",
       "                                       PlatformWantToWorkWith  \\\n",
       "ResponseId                                                      \n",
       "1                                                         NaN   \n",
       "2                                       Fly.io;Netlify;Render   \n",
       "3                                                         NaN   \n",
       "4                                           Cloudflare;Heroku   \n",
       "5           Amazon Web Services (AWS);Cloudflare;Digital O...   \n",
       "...                                                       ...   \n",
       "89180         Amazon Web Services (AWS);Heroku;Netlify;Vercel   \n",
       "89181                                                     NaN   \n",
       "89182               Amazon Web Services (AWS);Microsoft Azure   \n",
       "89183       Amazon Web Services (AWS);Cloudflare;Digital O...   \n",
       "89184                                 Hetzner;Microsoft Azure   \n",
       "\n",
       "                                       WebframeHaveWorkedWith  \\\n",
       "ResponseId                                                      \n",
       "1                                                         NaN   \n",
       "2                                  Next.js;React;Remix;Vue.js   \n",
       "3                                                         NaN   \n",
       "4                Node.js;React;Ruby on Rails;Vue.js;WordPress   \n",
       "5                 Express;Gatsby;NestJS;Next.js;Node.js;React   \n",
       "...                                                       ...   \n",
       "89180       Angular;AngularJS;Express;jQuery;Node.js;Nuxt....   \n",
       "89181                                             Spring Boot   \n",
       "89182                                                     NaN   \n",
       "89183                 Express;Next.js;Node.js;React;WordPress   \n",
       "89184             Angular;ASP.NET;ASP.NET CORE;Blazor;Node.js   \n",
       "\n",
       "                                       WebframeWantToWorkWith  \\\n",
       "ResponseId                                                      \n",
       "1                                                         NaN   \n",
       "2                        Deno;Elm;Nuxt.js;React;Svelte;Vue.js   \n",
       "3                                                         NaN   \n",
       "4                                Node.js;Ruby on Rails;Vue.js   \n",
       "5           Express;NestJS;Next.js;Node.js;React;Remix;Vue.js   \n",
       "...                                                       ...   \n",
       "89180                   Express;Node.js;Nuxt.js;Svelte;Vue.js   \n",
       "89181                                             Spring Boot   \n",
       "89182                                                     NaN   \n",
       "89183       Angular;AngularJS;Express;Next.js;Node.js;Reac...   \n",
       "89184       Angular;ASP.NET;ASP.NET CORE;Blazor;Deno;Node....   \n",
       "\n",
       "                                       MiscTechHaveWorkedWith  \\\n",
       "ResponseId                                                      \n",
       "1                                                         NaN   \n",
       "2                                 Electron;React Native;Tauri   \n",
       "3                                                         NaN   \n",
       "4                                                         NaN   \n",
       "5                                                         NaN   \n",
       "...                                                       ...   \n",
       "89180                                                 Flutter   \n",
       "89181       Flutter;Opencv;RabbitMQ;Spring Framework;Torch...   \n",
       "89182                                 NumPy;Pandas;TensorFlow   \n",
       "89183                                CUDA;NumPy;Torch/PyTorch   \n",
       "89184                   .NET (5+) ;.NET Framework (1.0 - 4.8)   \n",
       "\n",
       "                                   MiscTechWantToWorkWith  \\\n",
       "ResponseId                                                  \n",
       "1                                                     NaN   \n",
       "2           Capacitor;Electron;Tauri;Uno Platform;Xamarin   \n",
       "3                                                     NaN   \n",
       "4                                                     NaN   \n",
       "5                                                     NaN   \n",
       "...                                                   ...   \n",
       "89180                                                 NaN   \n",
       "89181             RabbitMQ;Spring Framework;Torch/PyTorch   \n",
       "89182                          NumPy;Pandas;Torch/PyTorch   \n",
       "89183         CUDA;Flutter;NumPy;TensorFlow;Torch/PyTorch   \n",
       "89184              .NET (5+) ;Apache Kafka;RabbitMQ;Tauri   \n",
       "\n",
       "                                      ToolsTechHaveWorkedWith  \\\n",
       "ResponseId                                                      \n",
       "1                                                         NaN   \n",
       "2                 Docker;Kubernetes;npm;Pip;Vite;Webpack;Yarn   \n",
       "3                            Cargo;Docker;Kubernetes;Make;Nix   \n",
       "4                              Homebrew;npm;Vite;Webpack;Yarn   \n",
       "5                                     Docker;npm;Webpack;Yarn   \n",
       "...                                                       ...   \n",
       "89180       Chocolatey;CMake;Docker;Maven (build tool);npm...   \n",
       "89181                                  Maven (build tool);Pip   \n",
       "89182                                                   Cargo   \n",
       "89183                       Docker;Kubernetes;npm;Podman;Vite   \n",
       "89184                 Docker;npm;NuGet;pnpm;Vite;Webpack;Yarn   \n",
       "\n",
       "                                      ToolsTechWantToWorkWith  \\\n",
       "ResponseId                                                      \n",
       "1                                                         NaN   \n",
       "2           Godot;npm;pnpm;Unity 3D;Unreal Engine;Vite;Web...   \n",
       "3                                        Cargo;Kubernetes;Nix   \n",
       "4                                           Homebrew;npm;Vite   \n",
       "5                                             Docker;npm;Yarn   \n",
       "...                                                       ...   \n",
       "89180                                Docker;npm;Pip;Vite;Yarn   \n",
       "89181                                  Maven (build tool);Pip   \n",
       "89182                       Cargo;Docker;Kubernetes;Terraform   \n",
       "89183       Ansible;APT;Docker;Kubernetes;npm;Pip;Podman;T...   \n",
       "89184                     Bun;Docker;npm;NuGet;pnpm;Vite;Yarn   \n",
       "\n",
       "                                 NEWCollabToolsHaveWorkedWith  \\\n",
       "ResponseId                                                      \n",
       "1                                                         NaN   \n",
       "2                                      Vim;Visual Studio Code   \n",
       "3                                                 Emacs;Helix   \n",
       "4               IntelliJ IDEA;Vim;Visual Studio Code;WebStorm   \n",
       "5                                      Vim;Visual Studio Code   \n",
       "...                                                       ...   \n",
       "89180       Android Studio;Atom;Eclipse;IntelliJ IDEA;Netb...   \n",
       "89181                    Android Studio;IntelliJ IDEA;PyCharm   \n",
       "89182       Jupyter Notebook/JupyterLab;Neovim;Visual Stud...   \n",
       "89183       Eclipse;IntelliJ IDEA;Nano;Notepad++;PyCharm;V...   \n",
       "89184                        Visual Studio;Visual Studio Code   \n",
       "\n",
       "                                 NEWCollabToolsWantToWorkWith  \\\n",
       "ResponseId                                                      \n",
       "1                                                         NaN   \n",
       "2                                      Vim;Visual Studio Code   \n",
       "3                                                 Emacs;Helix   \n",
       "4                                  IntelliJ IDEA;Vim;WebStorm   \n",
       "5                                      Vim;Visual Studio Code   \n",
       "...                                                       ...   \n",
       "89180                                      Visual Studio Code   \n",
       "89181                                   IntelliJ IDEA;PyCharm   \n",
       "89182       Jupyter Notebook/JupyterLab;Neovim;Visual Stud...   \n",
       "89183       Jupyter Notebook/JupyterLab;Notepad++;Visual S...   \n",
       "89184                        Visual Studio;Visual Studio Code   \n",
       "\n",
       "                                            OpSysPersonal use  \\\n",
       "ResponseId                                                      \n",
       "1                                                         NaN   \n",
       "2           iOS;iPadOS;MacOS;Windows;Windows Subsystem for...   \n",
       "3                                     MacOS;Other Linux-based   \n",
       "4                                            iOS;iPadOS;MacOS   \n",
       "5                                     Other (Please Specify):   \n",
       "...                                                       ...   \n",
       "89180                                         Android;Windows   \n",
       "89181                                                 Windows   \n",
       "89182                                                 Windows   \n",
       "89183       Arch;Debian;iOS;iPadOS;MacOS;Ubuntu;Windows;Wi...   \n",
       "89184                                                 Windows   \n",
       "\n",
       "                                      OpSysProfessional use  \\\n",
       "ResponseId                                                    \n",
       "1                                                       NaN   \n",
       "2           MacOS;Windows;Windows Subsystem for Linux (WSL)   \n",
       "3                                   MacOS;Other Linux-based   \n",
       "4                                          iOS;iPadOS;MacOS   \n",
       "5                                   Other (Please Specify):   \n",
       "...                                                     ...   \n",
       "89180                                Android;Ubuntu;Windows   \n",
       "89181                                               Windows   \n",
       "89182                                                   NaN   \n",
       "89183                    BSD;Red Hat;Solaris;Ubuntu;Windows   \n",
       "89184                                               Windows   \n",
       "\n",
       "                               OfficeStackAsyncHaveWorkedWith  \\\n",
       "ResponseId                                                      \n",
       "1                                                         NaN   \n",
       "2           Asana;Basecamp;GitHub Discussions;Jira;Linear;...   \n",
       "3                      Markdown File;Stack Overflow for Teams   \n",
       "4                                                        Jira   \n",
       "5                                      Confluence;Jira;Notion   \n",
       "...                                                       ...   \n",
       "89180       Asana;Confluence;Jira;Markdown File;Miro;Notio...   \n",
       "89181                                                    Jira   \n",
       "89182                                                     NaN   \n",
       "89183                                  Confluence;Jira;Trello   \n",
       "89184                                                     NaN   \n",
       "\n",
       "                     OfficeStackAsyncWantToWorkWith  \\\n",
       "ResponseId                                            \n",
       "1                                               NaN   \n",
       "2           GitHub Discussions;Linear;Notion;Trello   \n",
       "3                                     Markdown File   \n",
       "4                                              Jira   \n",
       "5                            Confluence;Jira;Notion   \n",
       "...                                             ...   \n",
       "89180                      Markdown File;Miro;Wikis   \n",
       "89181                                          Jira   \n",
       "89182                                           NaN   \n",
       "89183                  Azure Devops;Confluence;Jira   \n",
       "89184                                           NaN   \n",
       "\n",
       "                                OfficeStackSyncHaveWorkedWith  \\\n",
       "ResponseId                                                      \n",
       "1                                                         NaN   \n",
       "2           Cisco Webex Teams;Discord;Google Chat;Google M...   \n",
       "3                                  Microsoft Teams;Slack;Zoom   \n",
       "4              Discord;Google Meet;Microsoft Teams;Slack;Zoom   \n",
       "5                              Discord;Google Meet;Slack;Zoom   \n",
       "...                                                       ...   \n",
       "89180       Discord;Google Meet;Jitsi;Microsoft Teams;Slac...   \n",
       "89181                                         Microsoft Teams   \n",
       "89182                                                     NaN   \n",
       "89183       Cisco Webex Teams;Discord;Microsoft Teams;Sign...   \n",
       "89184                     Google Meet;Skype;Telegram;Whatsapp   \n",
       "\n",
       "                                OfficeStackSyncWantToWorkWith  \\\n",
       "ResponseId                                                      \n",
       "1                                                         NaN   \n",
       "2                                   Discord;Signal;Slack;Zoom   \n",
       "3                                                  Slack;Zoom   \n",
       "4                              Discord;Google Meet;Slack;Zoom   \n",
       "5                              Discord;Google Meet;Slack;Zoom   \n",
       "...                                                       ...   \n",
       "89180       Discord;Google Meet;Jitsi;Microsoft Teams;Tele...   \n",
       "89181                                         Microsoft Teams   \n",
       "89182                                                     NaN   \n",
       "89183                           Discord;Microsoft Teams;Skype   \n",
       "89184                     Google Meet;Skype;Telegram;Whatsapp   \n",
       "\n",
       "                  AISearchHaveWorkedWith          AISearchWantToWorkWith  \\\n",
       "ResponseId                                                                 \n",
       "1                                    NaN                             NaN   \n",
       "2                                ChatGPT                ChatGPT;Neeva AI   \n",
       "3                                    NaN                             NaN   \n",
       "4                                    NaN                             NaN   \n",
       "5                                ChatGPT                         ChatGPT   \n",
       "...                                  ...                             ...   \n",
       "89180                            ChatGPT                         ChatGPT   \n",
       "89181                            ChatGPT                         ChatGPT   \n",
       "89182                  ChatGPT;Quora Poe               ChatGPT;Quora Poe   \n",
       "89183       Bing AI;ChatGPT;WolframAlpha  Bing AI;ChatGPT;Google Bard AI   \n",
       "89184                            ChatGPT                         ChatGPT   \n",
       "\n",
       "                                                     Industry    Salary  \n",
       "ResponseId                                                               \n",
       "1                                                         NaN       NaN  \n",
       "2           Information Services, IT, Software Development... 285000.00  \n",
       "3           Information Services, IT, Software Development... 250000.00  \n",
       "4                                                         NaN 156000.00  \n",
       "5                                                       Other  23456.00  \n",
       "...                                                       ...       ...  \n",
       "89180                                                     NaN       NaN  \n",
       "89181                                                     NaN       NaN  \n",
       "89182                                                     NaN       NaN  \n",
       "89183                                                     NaN       NaN  \n",
       "89184       Information Services, IT, Software Development...       NaN  \n",
       "\n",
       "[87981 rows x 40 columns]"
      ]
     },
     "execution_count": 2,
     "metadata": {},
     "output_type": "execute_result"
    }
   ],
   "source": [
    "# load settings\n",
    "pd.set_option('display.max_columns', None)\n",
    "\n",
    "# change the float decimal\n",
    "pd.set_option('display.float_format', lambda x: '%.2f' % x)\n",
    "\n",
    "# load data\n",
    "data =  pd.read_csv('/Users/ben_nicholson/Visual_Code_Projects/Personal_Projects/Stack Overflow Survey Analysis/Stack-Overflow-Survey-Analysis-2023/data for chapters/data.csv')\n",
    "\n",
    "# rename 'ResponseId' to index\n",
    "data.set_index('ResponseId',inplace=True)\n",
    "\n",
    "# rename 'ConvertedCompYearly' with 'Salary'\n",
    "data = data.rename(columns={'ConvertedCompYearly':'Salary'})\n",
    "\n",
    "# drop 'CompTotal'\n",
    "data.drop(columns='CompTotal',inplace=True)\n",
    "\n",
    "# display data to observe changes\n",
    "data"
   ]
  },
  {
   "attachments": {},
   "cell_type": "markdown",
   "metadata": {},
   "source": [
    "### Import Functions"
   ]
  },
  {
   "attachments": {},
   "cell_type": "markdown",
   "metadata": {},
   "source": [
    "#### Preprocess data"
   ]
  },
  {
   "cell_type": "code",
   "execution_count": 3,
   "metadata": {},
   "outputs": [],
   "source": [
    "def get_na_percentages(data,axis):\n",
    "    # get the number of rows as the denominator\n",
    "    if axis == 0:\n",
    "        num_rows = len(data)\n",
    "\n",
    "        # get the number of nan values\n",
    "        nan_counts = data.isna().sum(axis=axis)\n",
    "\n",
    "        # get the percentage values\n",
    "        nan_percentage = (nan_counts/num_rows) * 100\n",
    "\n",
    "    else:\n",
    "        num_cols = data.shape[1]\n",
    "\n",
    "        # get the number of nan values\n",
    "        nan_counts = data.isna().sum(axis=axis)\n",
    "\n",
    "        # get the percentage values\n",
    "        nan_percentage = (nan_counts/num_cols) * 100\n",
    "\n",
    "    return nan_percentage"
   ]
  },
  {
   "attachments": {},
   "cell_type": "markdown",
   "metadata": {},
   "source": [
    "#### Plot Graphs\n",
    "- Histogram"
   ]
  },
  {
   "cell_type": "code",
   "execution_count": 4,
   "metadata": {},
   "outputs": [],
   "source": [
    "def plot_histogram(data, bins, title, xlabel, ylabel, color='blue', grid=True):\n",
    "\n",
    "    plt.figure(figsize=(10, 6))\n",
    "    plt.hist(data, bins=bins, color=color, edgecolor='black')\n",
    "    \n",
    "    plt.title(title, fontsize=16)\n",
    "    plt.xlabel(xlabel, fontsize=14)\n",
    "    plt.ylabel(ylabel, fontsize=14)\n",
    "    \n",
    "    if grid:\n",
    "        plt.grid(True, linestyle='--', alpha=0.7)\n",
    "    \n",
    "    plt.xticks(fontsize=12)\n",
    "    plt.yticks(fontsize=12)\n",
    "    \n",
    "    plt.show()"
   ]
  },
  {
   "attachments": {},
   "cell_type": "markdown",
   "metadata": {},
   "source": [
    "#### Descriptive Analytics\n",
    "- Z-Score\n",
    "- Removing Percentile of Data"
   ]
  },
  {
   "cell_type": "code",
   "execution_count": 5,
   "metadata": {},
   "outputs": [],
   "source": [
    "def calculate_z_scores(series):\n",
    "    mean = np.mean(series)\n",
    "    std_dev = np.std(series)\n",
    "    z_scores = (series - mean) / std_dev\n",
    "    return z_scores"
   ]
  },
  {
   "cell_type": "code",
   "execution_count": 6,
   "metadata": {},
   "outputs": [],
   "source": [
    "def remove_top_quantile(data, column, quantile):\n",
    "    quantile_value = data[column].quantile(quantile)\n",
    "    filtered_data = data[data[column] <= quantile_value]\n",
    "    return filtered_data"
   ]
  },
  {
   "attachments": {},
   "cell_type": "markdown",
   "metadata": {},
   "source": [
    "### Descriptive Statistics for Salary"
   ]
  },
  {
   "cell_type": "code",
   "execution_count": 7,
   "metadata": {},
   "outputs": [
    {
     "name": "stdout",
     "output_type": "stream",
     "text": [
      "The percentage of nan values is 45.42117047999\n"
     ]
    }
   ],
   "source": [
    "# get the nan values \n",
    "print(f'The percentage of nan values is {(1-(data.Salary.describe()[0])/data.shape[0])*100}') "
   ]
  },
  {
   "attachments": {},
   "cell_type": "markdown",
   "metadata": {},
   "source": [
    "The 'Salary' column has 45.42% as nan values. This is quite a high value, likely due to privacy concerns by the respondents. I am going to remove all of those respondents who did not respond to this question."
   ]
  },
  {
   "cell_type": "code",
   "execution_count": 8,
   "metadata": {},
   "outputs": [
    {
     "data": {
      "text/html": [
       "<div>\n",
       "<style scoped>\n",
       "    .dataframe tbody tr th:only-of-type {\n",
       "        vertical-align: middle;\n",
       "    }\n",
       "\n",
       "    .dataframe tbody tr th {\n",
       "        vertical-align: top;\n",
       "    }\n",
       "\n",
       "    .dataframe thead th {\n",
       "        text-align: right;\n",
       "    }\n",
       "</style>\n",
       "<table border=\"1\" class=\"dataframe\">\n",
       "  <thead>\n",
       "    <tr style=\"text-align: right;\">\n",
       "      <th></th>\n",
       "      <th>Q120</th>\n",
       "      <th>MainBranch</th>\n",
       "      <th>Age</th>\n",
       "      <th>Employment</th>\n",
       "      <th>RemoteWork</th>\n",
       "      <th>CodingActivities</th>\n",
       "      <th>EdLevel</th>\n",
       "      <th>LearnCode</th>\n",
       "      <th>LearnCodeOnline</th>\n",
       "      <th>YearsCode</th>\n",
       "      <th>YearsCodePro</th>\n",
       "      <th>DevType</th>\n",
       "      <th>OrgSize</th>\n",
       "      <th>PurchaseInfluence</th>\n",
       "      <th>Country</th>\n",
       "      <th>Currency</th>\n",
       "      <th>LanguageHaveWorkedWith</th>\n",
       "      <th>LanguageWantToWorkWith</th>\n",
       "      <th>DatabaseHaveWorkedWith</th>\n",
       "      <th>DatabaseWantToWorkWith</th>\n",
       "      <th>PlatformHaveWorkedWith</th>\n",
       "      <th>PlatformWantToWorkWith</th>\n",
       "      <th>WebframeHaveWorkedWith</th>\n",
       "      <th>WebframeWantToWorkWith</th>\n",
       "      <th>MiscTechHaveWorkedWith</th>\n",
       "      <th>MiscTechWantToWorkWith</th>\n",
       "      <th>ToolsTechHaveWorkedWith</th>\n",
       "      <th>ToolsTechWantToWorkWith</th>\n",
       "      <th>NEWCollabToolsHaveWorkedWith</th>\n",
       "      <th>NEWCollabToolsWantToWorkWith</th>\n",
       "      <th>OpSysPersonal use</th>\n",
       "      <th>OpSysProfessional use</th>\n",
       "      <th>OfficeStackAsyncHaveWorkedWith</th>\n",
       "      <th>OfficeStackAsyncWantToWorkWith</th>\n",
       "      <th>OfficeStackSyncHaveWorkedWith</th>\n",
       "      <th>OfficeStackSyncWantToWorkWith</th>\n",
       "      <th>AISearchHaveWorkedWith</th>\n",
       "      <th>AISearchWantToWorkWith</th>\n",
       "      <th>Industry</th>\n",
       "      <th>Salary</th>\n",
       "    </tr>\n",
       "    <tr>\n",
       "      <th>ResponseId</th>\n",
       "      <th></th>\n",
       "      <th></th>\n",
       "      <th></th>\n",
       "      <th></th>\n",
       "      <th></th>\n",
       "      <th></th>\n",
       "      <th></th>\n",
       "      <th></th>\n",
       "      <th></th>\n",
       "      <th></th>\n",
       "      <th></th>\n",
       "      <th></th>\n",
       "      <th></th>\n",
       "      <th></th>\n",
       "      <th></th>\n",
       "      <th></th>\n",
       "      <th></th>\n",
       "      <th></th>\n",
       "      <th></th>\n",
       "      <th></th>\n",
       "      <th></th>\n",
       "      <th></th>\n",
       "      <th></th>\n",
       "      <th></th>\n",
       "      <th></th>\n",
       "      <th></th>\n",
       "      <th></th>\n",
       "      <th></th>\n",
       "      <th></th>\n",
       "      <th></th>\n",
       "      <th></th>\n",
       "      <th></th>\n",
       "      <th></th>\n",
       "      <th></th>\n",
       "      <th></th>\n",
       "      <th></th>\n",
       "      <th></th>\n",
       "      <th></th>\n",
       "      <th></th>\n",
       "      <th></th>\n",
       "    </tr>\n",
       "  </thead>\n",
       "  <tbody>\n",
       "    <tr>\n",
       "      <th>2</th>\n",
       "      <td>I agree</td>\n",
       "      <td>I am a developer by profession</td>\n",
       "      <td>25-34 years old</td>\n",
       "      <td>Employed, full-time</td>\n",
       "      <td>Remote</td>\n",
       "      <td>Hobby;Contribute to open-source projects;Boots...</td>\n",
       "      <td>Bachelor’s degree (B.A., B.S., B.Eng., etc.)</td>\n",
       "      <td>Books / Physical media;Colleague;Friend or fam...</td>\n",
       "      <td>Formal documentation provided by the owner of ...</td>\n",
       "      <td>18</td>\n",
       "      <td>9</td>\n",
       "      <td>Senior Executive (C-Suite, VP, etc.)</td>\n",
       "      <td>2 to 9 employees</td>\n",
       "      <td>I have a great deal of influence</td>\n",
       "      <td>United States of America</td>\n",
       "      <td>USD\\tUnited States dollar</td>\n",
       "      <td>HTML/CSS;JavaScript;Python</td>\n",
       "      <td>Bash/Shell (all shells);C#;Dart;Elixir;GDScrip...</td>\n",
       "      <td>Supabase</td>\n",
       "      <td>Firebase Realtime Database;Supabase</td>\n",
       "      <td>Amazon Web Services (AWS);Netlify;Vercel</td>\n",
       "      <td>Fly.io;Netlify;Render</td>\n",
       "      <td>Next.js;React;Remix;Vue.js</td>\n",
       "      <td>Deno;Elm;Nuxt.js;React;Svelte;Vue.js</td>\n",
       "      <td>Electron;React Native;Tauri</td>\n",
       "      <td>Capacitor;Electron;Tauri;Uno Platform;Xamarin</td>\n",
       "      <td>Docker;Kubernetes;npm;Pip;Vite;Webpack;Yarn</td>\n",
       "      <td>Godot;npm;pnpm;Unity 3D;Unreal Engine;Vite;Web...</td>\n",
       "      <td>Vim;Visual Studio Code</td>\n",
       "      <td>Vim;Visual Studio Code</td>\n",
       "      <td>iOS;iPadOS;MacOS;Windows;Windows Subsystem for...</td>\n",
       "      <td>MacOS;Windows;Windows Subsystem for Linux (WSL)</td>\n",
       "      <td>Asana;Basecamp;GitHub Discussions;Jira;Linear;...</td>\n",
       "      <td>GitHub Discussions;Linear;Notion;Trello</td>\n",
       "      <td>Cisco Webex Teams;Discord;Google Chat;Google M...</td>\n",
       "      <td>Discord;Signal;Slack;Zoom</td>\n",
       "      <td>ChatGPT</td>\n",
       "      <td>ChatGPT;Neeva AI</td>\n",
       "      <td>Information Services, IT, Software Development...</td>\n",
       "      <td>285000.00</td>\n",
       "    </tr>\n",
       "    <tr>\n",
       "      <th>3</th>\n",
       "      <td>I agree</td>\n",
       "      <td>I am a developer by profession</td>\n",
       "      <td>45-54 years old</td>\n",
       "      <td>Employed, full-time</td>\n",
       "      <td>Hybrid (some remote, some in-person)</td>\n",
       "      <td>Hobby;Professional development or self-paced l...</td>\n",
       "      <td>Bachelor’s degree (B.A., B.S., B.Eng., etc.)</td>\n",
       "      <td>Books / Physical media;Colleague;On the job tr...</td>\n",
       "      <td>Formal documentation provided by the owner of ...</td>\n",
       "      <td>27</td>\n",
       "      <td>23</td>\n",
       "      <td>Developer, back-end</td>\n",
       "      <td>5,000 to 9,999 employees</td>\n",
       "      <td>I have some influence</td>\n",
       "      <td>United States of America</td>\n",
       "      <td>USD\\tUnited States dollar</td>\n",
       "      <td>Bash/Shell (all shells);Go</td>\n",
       "      <td>Haskell;OCaml;Rust</td>\n",
       "      <td>NaN</td>\n",
       "      <td>NaN</td>\n",
       "      <td>Amazon Web Services (AWS);Google Cloud;OpenSta...</td>\n",
       "      <td>NaN</td>\n",
       "      <td>NaN</td>\n",
       "      <td>NaN</td>\n",
       "      <td>NaN</td>\n",
       "      <td>NaN</td>\n",
       "      <td>Cargo;Docker;Kubernetes;Make;Nix</td>\n",
       "      <td>Cargo;Kubernetes;Nix</td>\n",
       "      <td>Emacs;Helix</td>\n",
       "      <td>Emacs;Helix</td>\n",
       "      <td>MacOS;Other Linux-based</td>\n",
       "      <td>MacOS;Other Linux-based</td>\n",
       "      <td>Markdown File;Stack Overflow for Teams</td>\n",
       "      <td>Markdown File</td>\n",
       "      <td>Microsoft Teams;Slack;Zoom</td>\n",
       "      <td>Slack;Zoom</td>\n",
       "      <td>NaN</td>\n",
       "      <td>NaN</td>\n",
       "      <td>Information Services, IT, Software Development...</td>\n",
       "      <td>250000.00</td>\n",
       "    </tr>\n",
       "    <tr>\n",
       "      <th>4</th>\n",
       "      <td>I agree</td>\n",
       "      <td>I am a developer by profession</td>\n",
       "      <td>25-34 years old</td>\n",
       "      <td>Employed, full-time</td>\n",
       "      <td>Hybrid (some remote, some in-person)</td>\n",
       "      <td>Hobby</td>\n",
       "      <td>Bachelor’s degree (B.A., B.S., B.Eng., etc.)</td>\n",
       "      <td>Colleague;Friend or family member;Other online...</td>\n",
       "      <td>Formal documentation provided by the owner of ...</td>\n",
       "      <td>12</td>\n",
       "      <td>7</td>\n",
       "      <td>Developer, front-end</td>\n",
       "      <td>100 to 499 employees</td>\n",
       "      <td>I have some influence</td>\n",
       "      <td>United States of America</td>\n",
       "      <td>USD\\tUnited States dollar</td>\n",
       "      <td>Bash/Shell (all shells);HTML/CSS;JavaScript;PH...</td>\n",
       "      <td>Bash/Shell (all shells);HTML/CSS;JavaScript;Ru...</td>\n",
       "      <td>PostgreSQL;Redis</td>\n",
       "      <td>PostgreSQL;Redis</td>\n",
       "      <td>Cloudflare;Heroku</td>\n",
       "      <td>Cloudflare;Heroku</td>\n",
       "      <td>Node.js;React;Ruby on Rails;Vue.js;WordPress</td>\n",
       "      <td>Node.js;Ruby on Rails;Vue.js</td>\n",
       "      <td>NaN</td>\n",
       "      <td>NaN</td>\n",
       "      <td>Homebrew;npm;Vite;Webpack;Yarn</td>\n",
       "      <td>Homebrew;npm;Vite</td>\n",
       "      <td>IntelliJ IDEA;Vim;Visual Studio Code;WebStorm</td>\n",
       "      <td>IntelliJ IDEA;Vim;WebStorm</td>\n",
       "      <td>iOS;iPadOS;MacOS</td>\n",
       "      <td>iOS;iPadOS;MacOS</td>\n",
       "      <td>Jira</td>\n",
       "      <td>Jira</td>\n",
       "      <td>Discord;Google Meet;Microsoft Teams;Slack;Zoom</td>\n",
       "      <td>Discord;Google Meet;Slack;Zoom</td>\n",
       "      <td>NaN</td>\n",
       "      <td>NaN</td>\n",
       "      <td>NaN</td>\n",
       "      <td>156000.00</td>\n",
       "    </tr>\n",
       "    <tr>\n",
       "      <th>5</th>\n",
       "      <td>I agree</td>\n",
       "      <td>I am a developer by profession</td>\n",
       "      <td>25-34 years old</td>\n",
       "      <td>Employed, full-time;Independent contractor, fr...</td>\n",
       "      <td>Remote</td>\n",
       "      <td>Hobby;Contribute to open-source projects;Profe...</td>\n",
       "      <td>Bachelor’s degree (B.A., B.S., B.Eng., etc.)</td>\n",
       "      <td>Books / Physical media;Online Courses or Certi...</td>\n",
       "      <td>Formal documentation provided by the owner of ...</td>\n",
       "      <td>6</td>\n",
       "      <td>4</td>\n",
       "      <td>Developer, full-stack</td>\n",
       "      <td>20 to 99 employees</td>\n",
       "      <td>I have some influence</td>\n",
       "      <td>Philippines</td>\n",
       "      <td>PHP\\tPhilippine peso</td>\n",
       "      <td>HTML/CSS;JavaScript;TypeScript</td>\n",
       "      <td>HTML/CSS;JavaScript;Python;Rust;TypeScript</td>\n",
       "      <td>BigQuery;Elasticsearch;MongoDB;PostgreSQL</td>\n",
       "      <td>Elasticsearch;MongoDB;PostgreSQL;Redis;Supabase</td>\n",
       "      <td>Amazon Web Services (AWS);Firebase;Heroku;Netl...</td>\n",
       "      <td>Amazon Web Services (AWS);Cloudflare;Digital O...</td>\n",
       "      <td>Express;Gatsby;NestJS;Next.js;Node.js;React</td>\n",
       "      <td>Express;NestJS;Next.js;Node.js;React;Remix;Vue.js</td>\n",
       "      <td>NaN</td>\n",
       "      <td>NaN</td>\n",
       "      <td>Docker;npm;Webpack;Yarn</td>\n",
       "      <td>Docker;npm;Yarn</td>\n",
       "      <td>Vim;Visual Studio Code</td>\n",
       "      <td>Vim;Visual Studio Code</td>\n",
       "      <td>Other (Please Specify):</td>\n",
       "      <td>Other (Please Specify):</td>\n",
       "      <td>Confluence;Jira;Notion</td>\n",
       "      <td>Confluence;Jira;Notion</td>\n",
       "      <td>Discord;Google Meet;Slack;Zoom</td>\n",
       "      <td>Discord;Google Meet;Slack;Zoom</td>\n",
       "      <td>ChatGPT</td>\n",
       "      <td>ChatGPT</td>\n",
       "      <td>Other</td>\n",
       "      <td>23456.00</td>\n",
       "    </tr>\n",
       "    <tr>\n",
       "      <th>6</th>\n",
       "      <td>I agree</td>\n",
       "      <td>I am a developer by profession</td>\n",
       "      <td>35-44 years old</td>\n",
       "      <td>Employed, full-time</td>\n",
       "      <td>Remote</td>\n",
       "      <td>Hobby;Professional development or self-paced l...</td>\n",
       "      <td>Some college/university study without earning ...</td>\n",
       "      <td>Books / Physical media;Colleague;Online Course...</td>\n",
       "      <td>Formal documentation provided by the owner of ...</td>\n",
       "      <td>21</td>\n",
       "      <td>21</td>\n",
       "      <td>Developer, back-end</td>\n",
       "      <td>100 to 499 employees</td>\n",
       "      <td>I have little or no influence</td>\n",
       "      <td>United Kingdom of Great Britain and Northern I...</td>\n",
       "      <td>GBP\\tPound sterling</td>\n",
       "      <td>Bash/Shell (all shells);HTML/CSS;JavaScript;Ru...</td>\n",
       "      <td>Go;Rust</td>\n",
       "      <td>BigQuery;Cloud Firestore;PostgreSQL;Redis</td>\n",
       "      <td>NaN</td>\n",
       "      <td>Amazon Web Services (AWS);Cloudflare;Google Cloud</td>\n",
       "      <td>NaN</td>\n",
       "      <td>Angular;Express;NestJS;Node.js</td>\n",
       "      <td>NaN</td>\n",
       "      <td>NaN</td>\n",
       "      <td>NaN</td>\n",
       "      <td>Docker;Homebrew;Kubernetes;npm;pnpm;Terraform</td>\n",
       "      <td>Cargo</td>\n",
       "      <td>Helix;Neovim</td>\n",
       "      <td>NaN</td>\n",
       "      <td>Other (Please Specify):</td>\n",
       "      <td>MacOS</td>\n",
       "      <td>Jira;Markdown File;Notion;Stack Overflow for T...</td>\n",
       "      <td>NaN</td>\n",
       "      <td>Google Meet;Microsoft Teams;Slack;Zoom</td>\n",
       "      <td>NaN</td>\n",
       "      <td>ChatGPT;Google Bard AI;Neeva AI</td>\n",
       "      <td>NaN</td>\n",
       "      <td>Other</td>\n",
       "      <td>96828.00</td>\n",
       "    </tr>\n",
       "    <tr>\n",
       "      <th>...</th>\n",
       "      <td>...</td>\n",
       "      <td>...</td>\n",
       "      <td>...</td>\n",
       "      <td>...</td>\n",
       "      <td>...</td>\n",
       "      <td>...</td>\n",
       "      <td>...</td>\n",
       "      <td>...</td>\n",
       "      <td>...</td>\n",
       "      <td>...</td>\n",
       "      <td>...</td>\n",
       "      <td>...</td>\n",
       "      <td>...</td>\n",
       "      <td>...</td>\n",
       "      <td>...</td>\n",
       "      <td>...</td>\n",
       "      <td>...</td>\n",
       "      <td>...</td>\n",
       "      <td>...</td>\n",
       "      <td>...</td>\n",
       "      <td>...</td>\n",
       "      <td>...</td>\n",
       "      <td>...</td>\n",
       "      <td>...</td>\n",
       "      <td>...</td>\n",
       "      <td>...</td>\n",
       "      <td>...</td>\n",
       "      <td>...</td>\n",
       "      <td>...</td>\n",
       "      <td>...</td>\n",
       "      <td>...</td>\n",
       "      <td>...</td>\n",
       "      <td>...</td>\n",
       "      <td>...</td>\n",
       "      <td>...</td>\n",
       "      <td>...</td>\n",
       "      <td>...</td>\n",
       "      <td>...</td>\n",
       "      <td>...</td>\n",
       "      <td>...</td>\n",
       "    </tr>\n",
       "    <tr>\n",
       "      <th>89163</th>\n",
       "      <td>I agree</td>\n",
       "      <td>I am a developer by profession</td>\n",
       "      <td>35-44 years old</td>\n",
       "      <td>Employed, full-time</td>\n",
       "      <td>Remote</td>\n",
       "      <td>I don’t code outside of work</td>\n",
       "      <td>Master’s degree (M.A., M.S., M.Eng., MBA, etc.)</td>\n",
       "      <td>On the job training;Other online resources (e....</td>\n",
       "      <td>Formal documentation provided by the owner of ...</td>\n",
       "      <td>30</td>\n",
       "      <td>24</td>\n",
       "      <td>Developer, back-end</td>\n",
       "      <td>5,000 to 9,999 employees</td>\n",
       "      <td>I have some influence</td>\n",
       "      <td>Brazil</td>\n",
       "      <td>BRL\\tBrazilian real</td>\n",
       "      <td>C;C++</td>\n",
       "      <td>C;C#;C++</td>\n",
       "      <td>Microsoft SQL Server;SQLite</td>\n",
       "      <td>Microsoft SQL Server;PostgreSQL;Redis;SQLite</td>\n",
       "      <td>NaN</td>\n",
       "      <td>NaN</td>\n",
       "      <td>NaN</td>\n",
       "      <td>NaN</td>\n",
       "      <td>NaN</td>\n",
       "      <td>NaN</td>\n",
       "      <td>CMake;GNU GCC;Make;MSBuild;MSVC;QMake;Visual S...</td>\n",
       "      <td>CMake;Docker;GNU GCC;Make;MSBuild;MSVC;Visual ...</td>\n",
       "      <td>Jupyter Notebook/JupyterLab;Notepad++;Visual S...</td>\n",
       "      <td>Notepad++;Visual Studio;Visual Studio Code</td>\n",
       "      <td>Windows</td>\n",
       "      <td>Windows</td>\n",
       "      <td>Doxygen;Jira;Markdown File</td>\n",
       "      <td>Doxygen;Jira;Markdown File</td>\n",
       "      <td>Google Chat;Google Meet;Skype;Zoom</td>\n",
       "      <td>Google Chat;Google Meet;Skype;Zoom</td>\n",
       "      <td>NaN</td>\n",
       "      <td>NaN</td>\n",
       "      <td>Information Services, IT, Software Development...</td>\n",
       "      <td>50719.00</td>\n",
       "    </tr>\n",
       "    <tr>\n",
       "      <th>89167</th>\n",
       "      <td>I agree</td>\n",
       "      <td>I am a developer by profession</td>\n",
       "      <td>18-24 years old</td>\n",
       "      <td>Employed, full-time;Independent contractor, fr...</td>\n",
       "      <td>In-person</td>\n",
       "      <td>Contribute to open-source projects;Professiona...</td>\n",
       "      <td>Some college/university study without earning ...</td>\n",
       "      <td>Books / Physical media;Hackathons (virtual or ...</td>\n",
       "      <td>Formal documentation provided by the owner of ...</td>\n",
       "      <td>7</td>\n",
       "      <td>2</td>\n",
       "      <td>Developer, full-stack</td>\n",
       "      <td>20 to 99 employees</td>\n",
       "      <td>I have some influence</td>\n",
       "      <td>Armenia</td>\n",
       "      <td>AMD\\tArmenian dram</td>\n",
       "      <td>Assembly;Bash/Shell (all shells);C;C#;C++;Java...</td>\n",
       "      <td>C#;Python;TypeScript</td>\n",
       "      <td>Elasticsearch;Firebase Realtime Database;Micro...</td>\n",
       "      <td>Elasticsearch;Microsoft SQL Server;MongoDB;Pos...</td>\n",
       "      <td>Firebase;Heroku</td>\n",
       "      <td>Amazon Web Services (AWS);Cloudflare;VMware</td>\n",
       "      <td>ASP.NET;ASP.NET CORE;jQuery</td>\n",
       "      <td>ASP.NET CORE;Blazor;jQuery</td>\n",
       "      <td>.NET (5+) ;Apache Kafka;OpenGL;Qt</td>\n",
       "      <td>.NET (5+) ;.NET MAUI;Apache Kafka;OpenGL;Rabbi...</td>\n",
       "      <td>Chocolatey;GNU GCC;Homebrew;LLVM's Clang;npm;N...</td>\n",
       "      <td>Chocolatey;Docker;npm;NuGet;Terraform;Unity 3D...</td>\n",
       "      <td>Android Studio;Atom;CLion;DataGrip;Nano;Neovim...</td>\n",
       "      <td>DataGrip;Notepad++;Rider</td>\n",
       "      <td>Debian;Ubuntu;Windows;Windows Subsystem for Li...</td>\n",
       "      <td>Red Hat;Windows</td>\n",
       "      <td>Confluence;Jira;Miro;Trello</td>\n",
       "      <td>NaN</td>\n",
       "      <td>Discord;Google Meet;Mattermost;Telegram</td>\n",
       "      <td>Discord;Telegram</td>\n",
       "      <td>ChatGPT</td>\n",
       "      <td>ChatGPT</td>\n",
       "      <td>Financial Services</td>\n",
       "      <td>16917.00</td>\n",
       "    </tr>\n",
       "    <tr>\n",
       "      <th>89168</th>\n",
       "      <td>I agree</td>\n",
       "      <td>I am a developer by profession</td>\n",
       "      <td>18-24 years old</td>\n",
       "      <td>Employed, full-time</td>\n",
       "      <td>Remote</td>\n",
       "      <td>Hobby;Bootstrapping a business;Professional de...</td>\n",
       "      <td>Bachelor’s degree (B.A., B.S., B.Eng., etc.)</td>\n",
       "      <td>Online Courses or Certification;Other online r...</td>\n",
       "      <td>Formal documentation provided by the owner of ...</td>\n",
       "      <td>6</td>\n",
       "      <td>2</td>\n",
       "      <td>Developer, mobile</td>\n",
       "      <td>20 to 99 employees</td>\n",
       "      <td>I have little or no influence</td>\n",
       "      <td>India</td>\n",
       "      <td>INR\\tIndian rupee</td>\n",
       "      <td>Dart;HTML/CSS;JavaScript;TypeScript</td>\n",
       "      <td>Dart;Go;HTML/CSS;JavaScript;Swift;TypeScript</td>\n",
       "      <td>MongoDB;MySQL;PostgreSQL;SQLite</td>\n",
       "      <td>Cockroachdb;MongoDB;MySQL;PostgreSQL;SQLite</td>\n",
       "      <td>NaN</td>\n",
       "      <td>NaN</td>\n",
       "      <td>Express;Node.js;React;Svelte</td>\n",
       "      <td>Deno;Express;FastAPI;Next.js;Node.js;Svelte</td>\n",
       "      <td>Flutter;NumPy;Pandas;Scikit-Learn</td>\n",
       "      <td>Capacitor;Flutter;JAX;NumPy;Pandas;React Nativ...</td>\n",
       "      <td>Homebrew;Vite</td>\n",
       "      <td>Docker;Homebrew;Podman;Vite</td>\n",
       "      <td>Android Studio;Jupyter Notebook/JupyterLab;Sub...</td>\n",
       "      <td>Jupyter Notebook/JupyterLab;Sublime Text;Visua...</td>\n",
       "      <td>Android;MacOS</td>\n",
       "      <td>Android;MacOS</td>\n",
       "      <td>NaN</td>\n",
       "      <td>NaN</td>\n",
       "      <td>Google Meet;Slack</td>\n",
       "      <td>Google Meet;Slack</td>\n",
       "      <td>ChatGPT</td>\n",
       "      <td>Bing AI;ChatGPT</td>\n",
       "      <td>Retail and Consumer Services</td>\n",
       "      <td>15752.00</td>\n",
       "    </tr>\n",
       "    <tr>\n",
       "      <th>89171</th>\n",
       "      <td>I agree</td>\n",
       "      <td>I am a developer by profession</td>\n",
       "      <td>25-34 years old</td>\n",
       "      <td>Employed, full-time</td>\n",
       "      <td>Hybrid (some remote, some in-person)</td>\n",
       "      <td>Bootstrapping a business;Freelance/contract work</td>\n",
       "      <td>Master’s degree (M.A., M.S., M.Eng., MBA, etc.)</td>\n",
       "      <td>Colleague;Hackathons (virtual or in-person);On...</td>\n",
       "      <td>Formal documentation provided by the owner of ...</td>\n",
       "      <td>18</td>\n",
       "      <td>9</td>\n",
       "      <td>Other (please specify):</td>\n",
       "      <td>500 to 999 employees</td>\n",
       "      <td>I have little or no influence</td>\n",
       "      <td>France</td>\n",
       "      <td>EUR European Euro</td>\n",
       "      <td>C#;F#;HTML/CSS;JavaScript;SQL;TypeScript</td>\n",
       "      <td>C#;HTML/CSS;JavaScript;SQL</td>\n",
       "      <td>Microsoft SQL Server</td>\n",
       "      <td>Microsoft SQL Server</td>\n",
       "      <td>Microsoft Azure</td>\n",
       "      <td>Microsoft Azure</td>\n",
       "      <td>ASP.NET;ASP.NET CORE;Blazor;React</td>\n",
       "      <td>ASP.NET CORE;Blazor;jQuery</td>\n",
       "      <td>.NET (5+) ;.NET Framework (1.0 - 4.8)</td>\n",
       "      <td>.NET (5+)</td>\n",
       "      <td>MSBuild;Visual Studio Solution</td>\n",
       "      <td>MSBuild;Visual Studio Solution</td>\n",
       "      <td>Notepad++;Vim;Visual Studio</td>\n",
       "      <td>Notepad++;Visual Studio</td>\n",
       "      <td>Windows</td>\n",
       "      <td>Windows</td>\n",
       "      <td>Confluence;Jira</td>\n",
       "      <td>Azure Devops;Notion</td>\n",
       "      <td>Google Chat</td>\n",
       "      <td>Microsoft Teams;Slack</td>\n",
       "      <td>ChatGPT</td>\n",
       "      <td>ChatGPT</td>\n",
       "      <td>Other</td>\n",
       "      <td>64254.00</td>\n",
       "    </tr>\n",
       "    <tr>\n",
       "      <th>89172</th>\n",
       "      <td>I agree</td>\n",
       "      <td>I am a developer by profession</td>\n",
       "      <td>25-34 years old</td>\n",
       "      <td>Employed, full-time</td>\n",
       "      <td>In-person</td>\n",
       "      <td>Hobby</td>\n",
       "      <td>Master’s degree (M.A., M.S., M.Eng., MBA, etc.)</td>\n",
       "      <td>Other online resources (e.g., videos, blogs, f...</td>\n",
       "      <td>Formal documentation provided by the owner of ...</td>\n",
       "      <td>20</td>\n",
       "      <td>9</td>\n",
       "      <td>Developer, full-stack</td>\n",
       "      <td>10 to 19 employees</td>\n",
       "      <td>I have little or no influence</td>\n",
       "      <td>Greece</td>\n",
       "      <td>EUR European Euro</td>\n",
       "      <td>Java;JavaScript;TypeScript</td>\n",
       "      <td>C;C++</td>\n",
       "      <td>H2</td>\n",
       "      <td>Supabase</td>\n",
       "      <td>NaN</td>\n",
       "      <td>NaN</td>\n",
       "      <td>NaN</td>\n",
       "      <td>NaN</td>\n",
       "      <td>Opencv</td>\n",
       "      <td>CUDA</td>\n",
       "      <td>Gradle</td>\n",
       "      <td>Gradle</td>\n",
       "      <td>IntelliJ IDEA;Vim</td>\n",
       "      <td>Fleet;IntelliJ IDEA;Vim</td>\n",
       "      <td>Windows</td>\n",
       "      <td>Windows</td>\n",
       "      <td>Confluence;Jira;Markdown File</td>\n",
       "      <td>Confluence;Markdown File</td>\n",
       "      <td>Discord;Microsoft Teams;Zoom</td>\n",
       "      <td>Discord;Microsoft Teams</td>\n",
       "      <td>NaN</td>\n",
       "      <td>NaN</td>\n",
       "      <td>Information Services, IT, Software Development...</td>\n",
       "      <td>61041.00</td>\n",
       "    </tr>\n",
       "  </tbody>\n",
       "</table>\n",
       "<p>48019 rows × 40 columns</p>\n",
       "</div>"
      ],
      "text/plain": [
       "               Q120                      MainBranch              Age  \\\n",
       "ResponseId                                                             \n",
       "2           I agree  I am a developer by profession  25-34 years old   \n",
       "3           I agree  I am a developer by profession  45-54 years old   \n",
       "4           I agree  I am a developer by profession  25-34 years old   \n",
       "5           I agree  I am a developer by profession  25-34 years old   \n",
       "6           I agree  I am a developer by profession  35-44 years old   \n",
       "...             ...                             ...              ...   \n",
       "89163       I agree  I am a developer by profession  35-44 years old   \n",
       "89167       I agree  I am a developer by profession  18-24 years old   \n",
       "89168       I agree  I am a developer by profession  18-24 years old   \n",
       "89171       I agree  I am a developer by profession  25-34 years old   \n",
       "89172       I agree  I am a developer by profession  25-34 years old   \n",
       "\n",
       "                                                   Employment  \\\n",
       "ResponseId                                                      \n",
       "2                                         Employed, full-time   \n",
       "3                                         Employed, full-time   \n",
       "4                                         Employed, full-time   \n",
       "5           Employed, full-time;Independent contractor, fr...   \n",
       "6                                         Employed, full-time   \n",
       "...                                                       ...   \n",
       "89163                                     Employed, full-time   \n",
       "89167       Employed, full-time;Independent contractor, fr...   \n",
       "89168                                     Employed, full-time   \n",
       "89171                                     Employed, full-time   \n",
       "89172                                     Employed, full-time   \n",
       "\n",
       "                                      RemoteWork  \\\n",
       "ResponseId                                         \n",
       "2                                         Remote   \n",
       "3           Hybrid (some remote, some in-person)   \n",
       "4           Hybrid (some remote, some in-person)   \n",
       "5                                         Remote   \n",
       "6                                         Remote   \n",
       "...                                          ...   \n",
       "89163                                     Remote   \n",
       "89167                                  In-person   \n",
       "89168                                     Remote   \n",
       "89171       Hybrid (some remote, some in-person)   \n",
       "89172                                  In-person   \n",
       "\n",
       "                                             CodingActivities  \\\n",
       "ResponseId                                                      \n",
       "2           Hobby;Contribute to open-source projects;Boots...   \n",
       "3           Hobby;Professional development or self-paced l...   \n",
       "4                                                       Hobby   \n",
       "5           Hobby;Contribute to open-source projects;Profe...   \n",
       "6           Hobby;Professional development or self-paced l...   \n",
       "...                                                       ...   \n",
       "89163                            I don’t code outside of work   \n",
       "89167       Contribute to open-source projects;Professiona...   \n",
       "89168       Hobby;Bootstrapping a business;Professional de...   \n",
       "89171        Bootstrapping a business;Freelance/contract work   \n",
       "89172                                                   Hobby   \n",
       "\n",
       "                                                      EdLevel  \\\n",
       "ResponseId                                                      \n",
       "2                Bachelor’s degree (B.A., B.S., B.Eng., etc.)   \n",
       "3                Bachelor’s degree (B.A., B.S., B.Eng., etc.)   \n",
       "4                Bachelor’s degree (B.A., B.S., B.Eng., etc.)   \n",
       "5                Bachelor’s degree (B.A., B.S., B.Eng., etc.)   \n",
       "6           Some college/university study without earning ...   \n",
       "...                                                       ...   \n",
       "89163         Master’s degree (M.A., M.S., M.Eng., MBA, etc.)   \n",
       "89167       Some college/university study without earning ...   \n",
       "89168            Bachelor’s degree (B.A., B.S., B.Eng., etc.)   \n",
       "89171         Master’s degree (M.A., M.S., M.Eng., MBA, etc.)   \n",
       "89172         Master’s degree (M.A., M.S., M.Eng., MBA, etc.)   \n",
       "\n",
       "                                                    LearnCode  \\\n",
       "ResponseId                                                      \n",
       "2           Books / Physical media;Colleague;Friend or fam...   \n",
       "3           Books / Physical media;Colleague;On the job tr...   \n",
       "4           Colleague;Friend or family member;Other online...   \n",
       "5           Books / Physical media;Online Courses or Certi...   \n",
       "6           Books / Physical media;Colleague;Online Course...   \n",
       "...                                                       ...   \n",
       "89163       On the job training;Other online resources (e....   \n",
       "89167       Books / Physical media;Hackathons (virtual or ...   \n",
       "89168       Online Courses or Certification;Other online r...   \n",
       "89171       Colleague;Hackathons (virtual or in-person);On...   \n",
       "89172       Other online resources (e.g., videos, blogs, f...   \n",
       "\n",
       "                                              LearnCodeOnline YearsCode  \\\n",
       "ResponseId                                                                \n",
       "2           Formal documentation provided by the owner of ...        18   \n",
       "3           Formal documentation provided by the owner of ...        27   \n",
       "4           Formal documentation provided by the owner of ...        12   \n",
       "5           Formal documentation provided by the owner of ...         6   \n",
       "6           Formal documentation provided by the owner of ...        21   \n",
       "...                                                       ...       ...   \n",
       "89163       Formal documentation provided by the owner of ...        30   \n",
       "89167       Formal documentation provided by the owner of ...         7   \n",
       "89168       Formal documentation provided by the owner of ...         6   \n",
       "89171       Formal documentation provided by the owner of ...        18   \n",
       "89172       Formal documentation provided by the owner of ...        20   \n",
       "\n",
       "           YearsCodePro                               DevType  \\\n",
       "ResponseId                                                      \n",
       "2                     9  Senior Executive (C-Suite, VP, etc.)   \n",
       "3                    23                   Developer, back-end   \n",
       "4                     7                  Developer, front-end   \n",
       "5                     4                 Developer, full-stack   \n",
       "6                    21                   Developer, back-end   \n",
       "...                 ...                                   ...   \n",
       "89163                24                   Developer, back-end   \n",
       "89167                 2                 Developer, full-stack   \n",
       "89168                 2                     Developer, mobile   \n",
       "89171                 9               Other (please specify):   \n",
       "89172                 9                 Developer, full-stack   \n",
       "\n",
       "                             OrgSize                 PurchaseInfluence  \\\n",
       "ResponseId                                                               \n",
       "2                   2 to 9 employees  I have a great deal of influence   \n",
       "3           5,000 to 9,999 employees             I have some influence   \n",
       "4               100 to 499 employees             I have some influence   \n",
       "5                 20 to 99 employees             I have some influence   \n",
       "6               100 to 499 employees     I have little or no influence   \n",
       "...                              ...                               ...   \n",
       "89163       5,000 to 9,999 employees             I have some influence   \n",
       "89167             20 to 99 employees             I have some influence   \n",
       "89168             20 to 99 employees     I have little or no influence   \n",
       "89171           500 to 999 employees     I have little or no influence   \n",
       "89172             10 to 19 employees     I have little or no influence   \n",
       "\n",
       "                                                      Country  \\\n",
       "ResponseId                                                      \n",
       "2                                    United States of America   \n",
       "3                                    United States of America   \n",
       "4                                    United States of America   \n",
       "5                                                 Philippines   \n",
       "6           United Kingdom of Great Britain and Northern I...   \n",
       "...                                                       ...   \n",
       "89163                                                  Brazil   \n",
       "89167                                                 Armenia   \n",
       "89168                                                   India   \n",
       "89171                                                  France   \n",
       "89172                                                  Greece   \n",
       "\n",
       "                             Currency  \\\n",
       "ResponseId                              \n",
       "2           USD\\tUnited States dollar   \n",
       "3           USD\\tUnited States dollar   \n",
       "4           USD\\tUnited States dollar   \n",
       "5                PHP\\tPhilippine peso   \n",
       "6                 GBP\\tPound sterling   \n",
       "...                               ...   \n",
       "89163             BRL\\tBrazilian real   \n",
       "89167              AMD\\tArmenian dram   \n",
       "89168               INR\\tIndian rupee   \n",
       "89171               EUR European Euro   \n",
       "89172               EUR European Euro   \n",
       "\n",
       "                                       LanguageHaveWorkedWith  \\\n",
       "ResponseId                                                      \n",
       "2                                  HTML/CSS;JavaScript;Python   \n",
       "3                                  Bash/Shell (all shells);Go   \n",
       "4           Bash/Shell (all shells);HTML/CSS;JavaScript;PH...   \n",
       "5                              HTML/CSS;JavaScript;TypeScript   \n",
       "6           Bash/Shell (all shells);HTML/CSS;JavaScript;Ru...   \n",
       "...                                                       ...   \n",
       "89163                                                   C;C++   \n",
       "89167       Assembly;Bash/Shell (all shells);C;C#;C++;Java...   \n",
       "89168                     Dart;HTML/CSS;JavaScript;TypeScript   \n",
       "89171                C#;F#;HTML/CSS;JavaScript;SQL;TypeScript   \n",
       "89172                              Java;JavaScript;TypeScript   \n",
       "\n",
       "                                       LanguageWantToWorkWith  \\\n",
       "ResponseId                                                      \n",
       "2           Bash/Shell (all shells);C#;Dart;Elixir;GDScrip...   \n",
       "3                                          Haskell;OCaml;Rust   \n",
       "4           Bash/Shell (all shells);HTML/CSS;JavaScript;Ru...   \n",
       "5                  HTML/CSS;JavaScript;Python;Rust;TypeScript   \n",
       "6                                                     Go;Rust   \n",
       "...                                                       ...   \n",
       "89163                                                C;C#;C++   \n",
       "89167                                    C#;Python;TypeScript   \n",
       "89168            Dart;Go;HTML/CSS;JavaScript;Swift;TypeScript   \n",
       "89171                              C#;HTML/CSS;JavaScript;SQL   \n",
       "89172                                                   C;C++   \n",
       "\n",
       "                                       DatabaseHaveWorkedWith  \\\n",
       "ResponseId                                                      \n",
       "2                                                    Supabase   \n",
       "3                                                         NaN   \n",
       "4                                            PostgreSQL;Redis   \n",
       "5                   BigQuery;Elasticsearch;MongoDB;PostgreSQL   \n",
       "6                   BigQuery;Cloud Firestore;PostgreSQL;Redis   \n",
       "...                                                       ...   \n",
       "89163                             Microsoft SQL Server;SQLite   \n",
       "89167       Elasticsearch;Firebase Realtime Database;Micro...   \n",
       "89168                         MongoDB;MySQL;PostgreSQL;SQLite   \n",
       "89171                                    Microsoft SQL Server   \n",
       "89172                                                      H2   \n",
       "\n",
       "                                       DatabaseWantToWorkWith  \\\n",
       "ResponseId                                                      \n",
       "2                         Firebase Realtime Database;Supabase   \n",
       "3                                                         NaN   \n",
       "4                                            PostgreSQL;Redis   \n",
       "5             Elasticsearch;MongoDB;PostgreSQL;Redis;Supabase   \n",
       "6                                                         NaN   \n",
       "...                                                       ...   \n",
       "89163            Microsoft SQL Server;PostgreSQL;Redis;SQLite   \n",
       "89167       Elasticsearch;Microsoft SQL Server;MongoDB;Pos...   \n",
       "89168             Cockroachdb;MongoDB;MySQL;PostgreSQL;SQLite   \n",
       "89171                                    Microsoft SQL Server   \n",
       "89172                                                Supabase   \n",
       "\n",
       "                                       PlatformHaveWorkedWith  \\\n",
       "ResponseId                                                      \n",
       "2                    Amazon Web Services (AWS);Netlify;Vercel   \n",
       "3           Amazon Web Services (AWS);Google Cloud;OpenSta...   \n",
       "4                                           Cloudflare;Heroku   \n",
       "5           Amazon Web Services (AWS);Firebase;Heroku;Netl...   \n",
       "6           Amazon Web Services (AWS);Cloudflare;Google Cloud   \n",
       "...                                                       ...   \n",
       "89163                                                     NaN   \n",
       "89167                                         Firebase;Heroku   \n",
       "89168                                                     NaN   \n",
       "89171                                         Microsoft Azure   \n",
       "89172                                                     NaN   \n",
       "\n",
       "                                       PlatformWantToWorkWith  \\\n",
       "ResponseId                                                      \n",
       "2                                       Fly.io;Netlify;Render   \n",
       "3                                                         NaN   \n",
       "4                                           Cloudflare;Heroku   \n",
       "5           Amazon Web Services (AWS);Cloudflare;Digital O...   \n",
       "6                                                         NaN   \n",
       "...                                                       ...   \n",
       "89163                                                     NaN   \n",
       "89167             Amazon Web Services (AWS);Cloudflare;VMware   \n",
       "89168                                                     NaN   \n",
       "89171                                         Microsoft Azure   \n",
       "89172                                                     NaN   \n",
       "\n",
       "                                  WebframeHaveWorkedWith  \\\n",
       "ResponseId                                                 \n",
       "2                             Next.js;React;Remix;Vue.js   \n",
       "3                                                    NaN   \n",
       "4           Node.js;React;Ruby on Rails;Vue.js;WordPress   \n",
       "5            Express;Gatsby;NestJS;Next.js;Node.js;React   \n",
       "6                         Angular;Express;NestJS;Node.js   \n",
       "...                                                  ...   \n",
       "89163                                                NaN   \n",
       "89167                        ASP.NET;ASP.NET CORE;jQuery   \n",
       "89168                       Express;Node.js;React;Svelte   \n",
       "89171                  ASP.NET;ASP.NET CORE;Blazor;React   \n",
       "89172                                                NaN   \n",
       "\n",
       "                                       WebframeWantToWorkWith  \\\n",
       "ResponseId                                                      \n",
       "2                        Deno;Elm;Nuxt.js;React;Svelte;Vue.js   \n",
       "3                                                         NaN   \n",
       "4                                Node.js;Ruby on Rails;Vue.js   \n",
       "5           Express;NestJS;Next.js;Node.js;React;Remix;Vue.js   \n",
       "6                                                         NaN   \n",
       "...                                                       ...   \n",
       "89163                                                     NaN   \n",
       "89167                              ASP.NET CORE;Blazor;jQuery   \n",
       "89168             Deno;Express;FastAPI;Next.js;Node.js;Svelte   \n",
       "89171                              ASP.NET CORE;Blazor;jQuery   \n",
       "89172                                                     NaN   \n",
       "\n",
       "                           MiscTechHaveWorkedWith  \\\n",
       "ResponseId                                          \n",
       "2                     Electron;React Native;Tauri   \n",
       "3                                             NaN   \n",
       "4                                             NaN   \n",
       "5                                             NaN   \n",
       "6                                             NaN   \n",
       "...                                           ...   \n",
       "89163                                         NaN   \n",
       "89167           .NET (5+) ;Apache Kafka;OpenGL;Qt   \n",
       "89168           Flutter;NumPy;Pandas;Scikit-Learn   \n",
       "89171       .NET (5+) ;.NET Framework (1.0 - 4.8)   \n",
       "89172                                      Opencv   \n",
       "\n",
       "                                       MiscTechWantToWorkWith  \\\n",
       "ResponseId                                                      \n",
       "2               Capacitor;Electron;Tauri;Uno Platform;Xamarin   \n",
       "3                                                         NaN   \n",
       "4                                                         NaN   \n",
       "5                                                         NaN   \n",
       "6                                                         NaN   \n",
       "...                                                       ...   \n",
       "89163                                                     NaN   \n",
       "89167       .NET (5+) ;.NET MAUI;Apache Kafka;OpenGL;Rabbi...   \n",
       "89168       Capacitor;Flutter;JAX;NumPy;Pandas;React Nativ...   \n",
       "89171                                              .NET (5+)    \n",
       "89172                                                    CUDA   \n",
       "\n",
       "                                      ToolsTechHaveWorkedWith  \\\n",
       "ResponseId                                                      \n",
       "2                 Docker;Kubernetes;npm;Pip;Vite;Webpack;Yarn   \n",
       "3                            Cargo;Docker;Kubernetes;Make;Nix   \n",
       "4                              Homebrew;npm;Vite;Webpack;Yarn   \n",
       "5                                     Docker;npm;Webpack;Yarn   \n",
       "6               Docker;Homebrew;Kubernetes;npm;pnpm;Terraform   \n",
       "...                                                       ...   \n",
       "89163       CMake;GNU GCC;Make;MSBuild;MSVC;QMake;Visual S...   \n",
       "89167       Chocolatey;GNU GCC;Homebrew;LLVM's Clang;npm;N...   \n",
       "89168                                           Homebrew;Vite   \n",
       "89171                          MSBuild;Visual Studio Solution   \n",
       "89172                                                  Gradle   \n",
       "\n",
       "                                      ToolsTechWantToWorkWith  \\\n",
       "ResponseId                                                      \n",
       "2           Godot;npm;pnpm;Unity 3D;Unreal Engine;Vite;Web...   \n",
       "3                                        Cargo;Kubernetes;Nix   \n",
       "4                                           Homebrew;npm;Vite   \n",
       "5                                             Docker;npm;Yarn   \n",
       "6                                                       Cargo   \n",
       "...                                                       ...   \n",
       "89163       CMake;Docker;GNU GCC;Make;MSBuild;MSVC;Visual ...   \n",
       "89167       Chocolatey;Docker;npm;NuGet;Terraform;Unity 3D...   \n",
       "89168                             Docker;Homebrew;Podman;Vite   \n",
       "89171                          MSBuild;Visual Studio Solution   \n",
       "89172                                                  Gradle   \n",
       "\n",
       "                                 NEWCollabToolsHaveWorkedWith  \\\n",
       "ResponseId                                                      \n",
       "2                                      Vim;Visual Studio Code   \n",
       "3                                                 Emacs;Helix   \n",
       "4               IntelliJ IDEA;Vim;Visual Studio Code;WebStorm   \n",
       "5                                      Vim;Visual Studio Code   \n",
       "6                                                Helix;Neovim   \n",
       "...                                                       ...   \n",
       "89163       Jupyter Notebook/JupyterLab;Notepad++;Visual S...   \n",
       "89167       Android Studio;Atom;CLion;DataGrip;Nano;Neovim...   \n",
       "89168       Android Studio;Jupyter Notebook/JupyterLab;Sub...   \n",
       "89171                             Notepad++;Vim;Visual Studio   \n",
       "89172                                       IntelliJ IDEA;Vim   \n",
       "\n",
       "                                 NEWCollabToolsWantToWorkWith  \\\n",
       "ResponseId                                                      \n",
       "2                                      Vim;Visual Studio Code   \n",
       "3                                                 Emacs;Helix   \n",
       "4                                  IntelliJ IDEA;Vim;WebStorm   \n",
       "5                                      Vim;Visual Studio Code   \n",
       "6                                                         NaN   \n",
       "...                                                       ...   \n",
       "89163              Notepad++;Visual Studio;Visual Studio Code   \n",
       "89167                                DataGrip;Notepad++;Rider   \n",
       "89168       Jupyter Notebook/JupyterLab;Sublime Text;Visua...   \n",
       "89171                                 Notepad++;Visual Studio   \n",
       "89172                                 Fleet;IntelliJ IDEA;Vim   \n",
       "\n",
       "                                            OpSysPersonal use  \\\n",
       "ResponseId                                                      \n",
       "2           iOS;iPadOS;MacOS;Windows;Windows Subsystem for...   \n",
       "3                                     MacOS;Other Linux-based   \n",
       "4                                            iOS;iPadOS;MacOS   \n",
       "5                                     Other (Please Specify):   \n",
       "6                                     Other (Please Specify):   \n",
       "...                                                       ...   \n",
       "89163                                                 Windows   \n",
       "89167       Debian;Ubuntu;Windows;Windows Subsystem for Li...   \n",
       "89168                                           Android;MacOS   \n",
       "89171                                                 Windows   \n",
       "89172                                                 Windows   \n",
       "\n",
       "                                      OpSysProfessional use  \\\n",
       "ResponseId                                                    \n",
       "2           MacOS;Windows;Windows Subsystem for Linux (WSL)   \n",
       "3                                   MacOS;Other Linux-based   \n",
       "4                                          iOS;iPadOS;MacOS   \n",
       "5                                   Other (Please Specify):   \n",
       "6                                                     MacOS   \n",
       "...                                                     ...   \n",
       "89163                                               Windows   \n",
       "89167                                       Red Hat;Windows   \n",
       "89168                                         Android;MacOS   \n",
       "89171                                               Windows   \n",
       "89172                                               Windows   \n",
       "\n",
       "                               OfficeStackAsyncHaveWorkedWith  \\\n",
       "ResponseId                                                      \n",
       "2           Asana;Basecamp;GitHub Discussions;Jira;Linear;...   \n",
       "3                      Markdown File;Stack Overflow for Teams   \n",
       "4                                                        Jira   \n",
       "5                                      Confluence;Jira;Notion   \n",
       "6           Jira;Markdown File;Notion;Stack Overflow for T...   \n",
       "...                                                       ...   \n",
       "89163                              Doxygen;Jira;Markdown File   \n",
       "89167                             Confluence;Jira;Miro;Trello   \n",
       "89168                                                     NaN   \n",
       "89171                                         Confluence;Jira   \n",
       "89172                           Confluence;Jira;Markdown File   \n",
       "\n",
       "                     OfficeStackAsyncWantToWorkWith  \\\n",
       "ResponseId                                            \n",
       "2           GitHub Discussions;Linear;Notion;Trello   \n",
       "3                                     Markdown File   \n",
       "4                                              Jira   \n",
       "5                            Confluence;Jira;Notion   \n",
       "6                                               NaN   \n",
       "...                                             ...   \n",
       "89163                    Doxygen;Jira;Markdown File   \n",
       "89167                                           NaN   \n",
       "89168                                           NaN   \n",
       "89171                           Azure Devops;Notion   \n",
       "89172                      Confluence;Markdown File   \n",
       "\n",
       "                                OfficeStackSyncHaveWorkedWith  \\\n",
       "ResponseId                                                      \n",
       "2           Cisco Webex Teams;Discord;Google Chat;Google M...   \n",
       "3                                  Microsoft Teams;Slack;Zoom   \n",
       "4              Discord;Google Meet;Microsoft Teams;Slack;Zoom   \n",
       "5                              Discord;Google Meet;Slack;Zoom   \n",
       "6                      Google Meet;Microsoft Teams;Slack;Zoom   \n",
       "...                                                       ...   \n",
       "89163                      Google Chat;Google Meet;Skype;Zoom   \n",
       "89167                 Discord;Google Meet;Mattermost;Telegram   \n",
       "89168                                       Google Meet;Slack   \n",
       "89171                                             Google Chat   \n",
       "89172                            Discord;Microsoft Teams;Zoom   \n",
       "\n",
       "                 OfficeStackSyncWantToWorkWith  \\\n",
       "ResponseId                                       \n",
       "2                    Discord;Signal;Slack;Zoom   \n",
       "3                                   Slack;Zoom   \n",
       "4               Discord;Google Meet;Slack;Zoom   \n",
       "5               Discord;Google Meet;Slack;Zoom   \n",
       "6                                          NaN   \n",
       "...                                        ...   \n",
       "89163       Google Chat;Google Meet;Skype;Zoom   \n",
       "89167                         Discord;Telegram   \n",
       "89168                        Google Meet;Slack   \n",
       "89171                    Microsoft Teams;Slack   \n",
       "89172                  Discord;Microsoft Teams   \n",
       "\n",
       "                     AISearchHaveWorkedWith AISearchWantToWorkWith  \\\n",
       "ResponseId                                                           \n",
       "2                                   ChatGPT       ChatGPT;Neeva AI   \n",
       "3                                       NaN                    NaN   \n",
       "4                                       NaN                    NaN   \n",
       "5                                   ChatGPT                ChatGPT   \n",
       "6           ChatGPT;Google Bard AI;Neeva AI                    NaN   \n",
       "...                                     ...                    ...   \n",
       "89163                                   NaN                    NaN   \n",
       "89167                               ChatGPT                ChatGPT   \n",
       "89168                               ChatGPT        Bing AI;ChatGPT   \n",
       "89171                               ChatGPT                ChatGPT   \n",
       "89172                                   NaN                    NaN   \n",
       "\n",
       "                                                     Industry    Salary  \n",
       "ResponseId                                                               \n",
       "2           Information Services, IT, Software Development... 285000.00  \n",
       "3           Information Services, IT, Software Development... 250000.00  \n",
       "4                                                         NaN 156000.00  \n",
       "5                                                       Other  23456.00  \n",
       "6                                                       Other  96828.00  \n",
       "...                                                       ...       ...  \n",
       "89163       Information Services, IT, Software Development...  50719.00  \n",
       "89167                                      Financial Services  16917.00  \n",
       "89168                            Retail and Consumer Services  15752.00  \n",
       "89171                                                   Other  64254.00  \n",
       "89172       Information Services, IT, Software Development...  61041.00  \n",
       "\n",
       "[48019 rows x 40 columns]"
      ]
     },
     "execution_count": 8,
     "metadata": {},
     "output_type": "execute_result"
    }
   ],
   "source": [
    "# drop those respondents who had nan as their response to 'Salary'\n",
    "# create a mask for those with na as response for salary \n",
    "nan_salary_mask = data['Salary'].isna()\n",
    "\n",
    "# remove those where the mask is true\n",
    "data = data[~nan_salary_mask]\n",
    "\n",
    "# display the data to ensure that the na values were removed from the dataframe\n",
    "data"
   ]
  },
  {
   "cell_type": "code",
   "execution_count": 9,
   "metadata": {},
   "outputs": [
    {
     "name": "stdout",
     "output_type": "stream",
     "text": [
      "The minimum salary is $1.0\n",
      "The maximum salary is $74351432.0\n",
      "The standard deviation for salary is $681418.8387120215\n",
      "The median salary is $74963.0\n",
      "The mean salary is $103110.08171765343\n"
     ]
    }
   ],
   "source": [
    "# look at the important statistics of salary\n",
    "print(f'The minimum salary is ${data.Salary.min()}')\n",
    "print(f'The maximum salary is ${data.Salary.max()}')\n",
    "print(f'The standard deviation for salary is ${data.Salary.std()}')\n",
    "print(f'The median salary is ${data.Salary.median()}')\n",
    "print(f'The mean salary is ${data.Salary.mean()}')"
   ]
  },
  {
   "attachments": {},
   "cell_type": "markdown",
   "metadata": {},
   "source": [
    "The difference between the minimum and maximum salary is $74,351,431 with a standard deviation of $681,418.84. This highlights a critical issue with understanding distribution of salary as the z-score below the mean would have a minimum far less than 1 where as there are maximum values which would have greater than 10 zscore. This is due to the small minority of individuals who skew the data but such a drastic amount."
   ]
  },
  {
   "cell_type": "code",
   "execution_count": 10,
   "metadata": {},
   "outputs": [
    {
     "data": {
      "text/plain": [
       "65943.35872431744"
      ]
     },
     "execution_count": 10,
     "metadata": {},
     "output_type": "execute_result"
    }
   ],
   "source": [
    "# remove the top 1% of income earners\n",
    "data = remove_top_quantile(data,'Salary',0.99)\n",
    "\n",
    "# check to see the new std\n",
    "data['Salary'].std()"
   ]
  },
  {
   "attachments": {},
   "cell_type": "markdown",
   "metadata": {},
   "source": [
    "The standard deviation has changed from 680k to just 66k which shows that the top 1% of the earners were skewing the data, but by removing this data the distribution can be understood more."
   ]
  },
  {
   "cell_type": "code",
   "execution_count": 11,
   "metadata": {},
   "outputs": [
    {
     "data": {
      "image/png": "[encoded data removed]",
      "text/plain": [
       "<Figure size 1000x600 with 1 Axes>"
      ]
     },
     "metadata": {},
     "output_type": "display_data"
    }
   ],
   "source": [
    "# create a histogram of the plot\n",
    "plot_histogram(data['Salary'],10,'Distribution of Income without top 1% of earners','Salary ($USD)','Frequency of Respondents')"
   ]
  },
  {
   "attachments": {},
   "cell_type": "markdown",
   "metadata": {},
   "source": [
    "### What makes a high earning respondent?\n",
    "Salary is one of the most important factors for many individuals in the tech industry. It is known for being a lucurative job and many individuals will enter the field with this knowledge and will want to maximise their opportunity to achieve this. The following are potential parameters that will lead to an increase in salary\n",
    "- Country of Residency\n",
    "- Education Level\n",
    "- Industry Experience (years of coding, which industry your role is in)"
   ]
  },
  {
   "attachments": {},
   "cell_type": "markdown",
   "metadata": {},
   "source": [
    "#### 3.1 Salaries in Different Countries\n",
    "- Which country has the highest and lowest salary\n",
    "- How does the median of each country compare from the survey to the global median income"
   ]
  },
  {
   "cell_type": "code",
   "execution_count": 12,
   "metadata": {},
   "outputs": [],
   "source": [
    "import plotly.express as px"
   ]
  },
  {
   "cell_type": "code",
   "execution_count": 13,
   "metadata": {},
   "outputs": [],
   "source": [
    "country_data = px.data.gapminder()"
   ]
  },
  {
   "cell_type": "code",
   "execution_count": 14,
   "metadata": {},
   "outputs": [
    {
     "data": {
      "application/vnd.plotly.v1+json": {
       "config": {
        "plotlyServerURL": "https://plot.ly"
       },
       "data": [
        {
         "customdata": [
          [
           28.801,
           8425333
          ],
          [
           30.332,
           9240934
          ],
          [
           31.997,
           10267083
          ],
          [
           34.02,
           11537966
          ],
          [
           36.088,
           13079460
          ],
          [
           38.438,
           14880372
          ],
          [
           39.854,
           12881816
          ],
          [
           40.822,
           13867957
          ],
          [
           41.674,
           16317921
          ],
          [
           41.76300000000001,
           22227415
          ],
          [
           42.129,
           25268405
          ],
          [
           43.828,
           31889923
          ],
          [
           50.93899999999999,
           120447
          ],
          [
           53.832,
           138655
          ],
          [
           56.923,
           171863
          ],
          [
           59.923,
           202182
          ],
          [
           63.3,
           230800
          ],
          [
           65.593,
           297410
          ],
          [
           69.05199999999999,
           377967
          ],
          [
           70.75,
           454612
          ],
          [
           72.601,
           529491
          ],
          [
           73.925,
           598561
          ],
          [
           74.795,
           656397
          ],
          [
           75.635,
           708573
          ],
          [
           37.484,
           46886859
          ],
          [
           39.348,
           51365468
          ],
          [
           41.216,
           56839289
          ],
          [
           43.453,
           62821884
          ],
          [
           45.252,
           70759295
          ],
          [
           46.923,
           80428306
          ],
          [
           50.00899999999999,
           93074406
          ],
          [
           52.819,
           103764241
          ],
          [
           56.018,
           113704579
          ],
          [
           59.412,
           123315288
          ],
          [
           62.01300000000001,
           135656790
          ],
          [
           64.062,
           150448339
          ],
          [
           39.417,
           4693836
          ],
          [
           41.36600000000001,
           5322536
          ],
          [
           43.415,
           6083619
          ],
          [
           45.415,
           6960067
          ],
          [
           40.317,
           7450606
          ],
          [
           31.22,
           6978607
          ],
          [
           50.957,
           7272485
          ],
          [
           53.914,
           8371791
          ],
          [
           55.803,
           10150094
          ],
          [
           56.534,
           11782962
          ],
          [
           56.752,
           12926707
          ],
          [
           59.723,
           14131858
          ],
          [
           44,
           556263527
          ],
          [
           50.54896,
           637408000
          ],
          [
           44.50136,
           665770000
          ],
          [
           58.38112,
           754550000
          ],
          [
           63.11888,
           862030000
          ],
          [
           63.96736,
           943455000
          ],
          [
           65.525,
           1000281000
          ],
          [
           67.274,
           1084035000
          ],
          [
           68.69,
           1164970000
          ],
          [
           70.426,
           1230075000
          ],
          [
           72.028,
           1280400000
          ],
          [
           72.961,
           1318683096
          ],
          [
           60.96,
           2125900
          ],
          [
           64.75,
           2736300
          ],
          [
           67.65,
           3305200
          ],
          [
           70,
           3722800
          ],
          [
           72,
           4115700
          ],
          [
           73.6,
           4583700
          ],
          [
           75.45,
           5264500
          ],
          [
           76.2,
           5584510
          ],
          [
           77.601,
           5829696
          ],
          [
           80,
           6495918
          ],
          [
           81.495,
           6762476
          ],
          [
           82.208,
           6980412
          ],
          [
           37.37300000000001,
           372000000
          ],
          [
           40.249,
           409000000
          ],
          [
           43.605,
           454000000
          ],
          [
           47.19300000000001,
           506000000
          ],
          [
           50.651,
           567000000
          ],
          [
           54.208,
           634000000
          ],
          [
           56.596,
           708000000
          ],
          [
           58.553,
           788000000
          ],
          [
           60.223,
           872000000
          ],
          [
           61.765,
           959000000
          ],
          [
           62.879,
           1034172547
          ],
          [
           64.69800000000001,
           1110396331
          ],
          [
           37.468,
           82052000
          ],
          [
           39.918,
           90124000
          ],
          [
           42.518,
           99028000
          ],
          [
           45.964,
           109343000
          ],
          [
           49.203,
           121282000
          ],
          [
           52.702,
           136725000
          ],
          [
           56.159,
           153343000
          ],
          [
           60.137,
           169276000
          ],
          [
           62.681,
           184816000
          ],
          [
           66.041,
           199278000
          ],
          [
           68.58800000000001,
           211060000
          ],
          [
           70.65,
           223547000
          ],
          [
           44.869,
           17272000
          ],
          [
           47.181,
           19792000
          ],
          [
           49.325,
           22874000
          ],
          [
           52.469,
           26538000
          ],
          [
           55.234,
           30614000
          ],
          [
           57.702,
           35480679
          ],
          [
           59.62,
           43072751
          ],
          [
           63.04,
           51889696
          ],
          [
           65.742,
           60397973
          ],
          [
           68.042,
           63327987
          ],
          [
           69.45100000000001,
           66907826
          ],
          [
           70.964,
           69453570
          ],
          [
           45.32,
           5441766
          ],
          [
           48.437,
           6248643
          ],
          [
           51.457,
           7240260
          ],
          [
           54.459,
           8519282
          ],
          [
           56.95,
           10061506
          ],
          [
           60.413,
           11882916
          ],
          [
           62.038,
           14173318
          ],
          [
           65.044,
           16543189
          ],
          [
           59.46100000000001,
           17861905
          ],
          [
           58.81100000000001,
           20775703
          ],
          [
           57.04600000000001,
           24001816
          ],
          [
           59.545,
           27499638
          ],
          [
           65.39,
           1620914
          ],
          [
           67.84,
           1944401
          ],
          [
           69.39,
           2310904
          ],
          [
           70.75,
           2693585
          ],
          [
           71.63,
           3095893
          ],
          [
           73.06,
           3495918
          ],
          [
           74.45,
           3858421
          ],
          [
           75.6,
           4203148
          ],
          [
           76.93,
           4936550
          ],
          [
           78.26899999999998,
           5531387
          ],
          [
           79.696,
           6029529
          ],
          [
           80.745,
           6426679
          ],
          [
           63.03,
           86459025
          ],
          [
           65.5,
           91563009
          ],
          [
           68.73,
           95831757
          ],
          [
           71.43,
           100825279
          ],
          [
           73.42,
           107188273
          ],
          [
           75.38,
           113872473
          ],
          [
           77.11,
           118454974
          ],
          [
           78.67,
           122091325
          ],
          [
           79.36,
           124329269
          ],
          [
           80.69,
           125956499
          ],
          [
           82,
           127065841
          ],
          [
           82.603,
           127467972
          ],
          [
           43.158,
           607914
          ],
          [
           45.669,
           746559
          ],
          [
           48.12600000000001,
           933559
          ],
          [
           51.629,
           1255058
          ],
          [
           56.528,
           1613551
          ],
          [
           61.13399999999999,
           1937652
          ],
          [
           63.739,
           2347031
          ],
          [
           65.869,
           2820042
          ],
          [
           68.015,
           3867409
          ],
          [
           69.77199999999999,
           4526235
          ],
          [
           71.263,
           5307470
          ],
          [
           72.535,
           6053193
          ],
          [
           50.056,
           8865488
          ],
          [
           54.081,
           9411381
          ],
          [
           56.65600000000001,
           10917494
          ],
          [
           59.942,
           12617009
          ],
          [
           63.983,
           14781241
          ],
          [
           67.15899999999999,
           16325320
          ],
          [
           69.1,
           17647518
          ],
          [
           70.64699999999998,
           19067554
          ],
          [
           69.97800000000001,
           20711375
          ],
          [
           67.727,
           21585105
          ],
          [
           66.66199999999999,
           22215365
          ],
          [
           67.297,
           23301725
          ],
          [
           47.453,
           20947571
          ],
          [
           52.681,
           22611552
          ],
          [
           55.292,
           26420307
          ],
          [
           57.716,
           30131000
          ],
          [
           62.612,
           33505000
          ],
          [
           64.766,
           36436000
          ],
          [
           67.123,
           39326000
          ],
          [
           69.81,
           41622000
          ],
          [
           72.244,
           43805450
          ],
          [
           74.64699999999998,
           46173816
          ],
          [
           77.045,
           47969150
          ],
          [
           78.623,
           49044790
          ],
          [
           55.565,
           160000
          ],
          [
           58.033,
           212846
          ],
          [
           60.47,
           358266
          ],
          [
           64.624,
           575003
          ],
          [
           67.712,
           841934
          ],
          [
           69.343,
           1140357
          ],
          [
           71.309,
           1497494
          ],
          [
           74.17399999999998,
           1891487
          ],
          [
           75.19,
           1418095
          ],
          [
           76.156,
           1765345
          ],
          [
           76.904,
           2111561
          ],
          [
           77.58800000000002,
           2505559
          ],
          [
           55.928,
           1439529
          ],
          [
           59.489,
           1647412
          ],
          [
           62.094,
           1886848
          ],
          [
           63.87,
           2186894
          ],
          [
           65.421,
           2680018
          ],
          [
           66.09899999999999,
           3115787
          ],
          [
           66.983,
           3086876
          ],
          [
           67.926,
           3089353
          ],
          [
           69.292,
           3219994
          ],
          [
           70.265,
           3430388
          ],
          [
           71.028,
           3677780
          ],
          [
           71.993,
           3921278
          ],
          [
           48.463,
           6748378
          ],
          [
           52.102,
           7739235
          ],
          [
           55.737,
           8906385
          ],
          [
           59.371,
           10154878
          ],
          [
           63.01,
           11441462
          ],
          [
           65.256,
           12845381
          ],
          [
           68,
           14441916
          ],
          [
           69.5,
           16331785
          ],
          [
           70.693,
           18319502
          ],
          [
           71.938,
           20476091
          ],
          [
           73.044,
           22662365
          ],
          [
           74.241,
           24821286
          ],
          [
           42.244,
           800663
          ],
          [
           45.24800000000001,
           882134
          ],
          [
           48.25100000000001,
           1010280
          ],
          [
           51.253,
           1149500
          ],
          [
           53.754,
           1320500
          ],
          [
           55.49100000000001,
           1528000
          ],
          [
           57.489,
           1756032
          ],
          [
           60.222,
           2015133
          ],
          [
           61.271,
           2312802
          ],
          [
           63.625,
           2494803
          ],
          [
           65.033,
           2674234
          ],
          [
           66.803,
           2874127
          ],
          [
           36.319,
           20092996
          ],
          [
           41.905,
           21731844
          ],
          [
           45.108,
           23634436
          ],
          [
           49.379,
           25870271
          ],
          [
           53.07,
           28466390
          ],
          [
           56.059,
           31528087
          ],
          [
           58.056,
           34680442
          ],
          [
           58.339,
           38028578
          ],
          [
           59.32,
           40546538
          ],
          [
           60.328,
           43247867
          ],
          [
           59.908,
           45598081
          ],
          [
           62.069,
           47761980
          ],
          [
           36.157,
           9182536
          ],
          [
           37.686,
           9682338
          ],
          [
           39.393,
           10332057
          ],
          [
           41.472,
           11261690
          ],
          [
           43.971,
           12412593
          ],
          [
           46.74800000000001,
           13933198
          ],
          [
           49.594,
           15796314
          ],
          [
           52.537,
           17917180
          ],
          [
           55.727,
           20326209
          ],
          [
           59.426,
           23001113
          ],
          [
           61.34,
           25873917
          ],
          [
           63.785,
           28901790
          ],
          [
           37.578,
           507833
          ],
          [
           40.08,
           561977
          ],
          [
           43.165,
           628164
          ],
          [
           46.988,
           714775
          ],
          [
           52.143,
           829050
          ],
          [
           57.367,
           1004533
          ],
          [
           62.728,
           1301048
          ],
          [
           67.734,
           1593882
          ],
          [
           71.197,
           1915208
          ],
          [
           72.499,
           2283635
          ],
          [
           74.193,
           2713462
          ],
          [
           75.64,
           3204897
          ],
          [
           43.43600000000001,
           41346560
          ],
          [
           45.557,
           46679944
          ],
          [
           47.67,
           53100671
          ],
          [
           49.8,
           60641899
          ],
          [
           51.929,
           69325921
          ],
          [
           54.043,
           78152686
          ],
          [
           56.158,
           91462088
          ],
          [
           58.245,
           105186881
          ],
          [
           60.838,
           120065004
          ],
          [
           61.81800000000001,
           135564834
          ],
          [
           63.61,
           153403524
          ],
          [
           65.483,
           169270617
          ],
          [
           47.752,
           22438691
          ],
          [
           51.334,
           26072194
          ],
          [
           54.757,
           30325264
          ],
          [
           56.393,
           35356600
          ],
          [
           58.065,
           40850141
          ],
          [
           60.06,
           46850962
          ],
          [
           62.082,
           53456774
          ],
          [
           64.15100000000001,
           60017788
          ],
          [
           66.458,
           67185766
          ],
          [
           68.564,
           75012988
          ],
          [
           70.303,
           82995088
          ],
          [
           71.688,
           91077287
          ],
          [
           39.875,
           4005677
          ],
          [
           42.868,
           4419650
          ],
          [
           45.914,
           4943029
          ],
          [
           49.901,
           5618198
          ],
          [
           53.886,
           6472756
          ],
          [
           58.69,
           8128505
          ],
          [
           63.012,
           11254672
          ],
          [
           66.295,
           14619745
          ],
          [
           68.768,
           16945857
          ],
          [
           70.533,
           21229759
          ],
          [
           71.626,
           24501530
          ],
          [
           72.777,
           27601038
          ],
          [
           60.396,
           1127000
          ],
          [
           63.179,
           1445929
          ],
          [
           65.798,
           1750200
          ],
          [
           67.946,
           1977600
          ],
          [
           69.521,
           2152400
          ],
          [
           70.795,
           2325300
          ],
          [
           71.76,
           2651869
          ],
          [
           73.56,
           2794552
          ],
          [
           75.788,
           3235865
          ],
          [
           77.158,
           3802309
          ],
          [
           78.77,
           4197776
          ],
          [
           79.972,
           4553009
          ],
          [
           57.593,
           7982342
          ],
          [
           61.456,
           9128546
          ],
          [
           62.192,
           10421936
          ],
          [
           64.266,
           11737396
          ],
          [
           65.042,
           13016733
          ],
          [
           65.949,
           14116836
          ],
          [
           68.757,
           15410151
          ],
          [
           69.01100000000001,
           16495304
          ],
          [
           70.37899999999998,
           17587060
          ],
          [
           70.457,
           18698655
          ],
          [
           70.815,
           19576783
          ],
          [
           72.396,
           20378239
          ],
          [
           45.883,
           3661549
          ],
          [
           48.284,
           4149908
          ],
          [
           50.305,
           4834621
          ],
          [
           53.655,
           5680812
          ],
          [
           57.29600000000001,
           6701172
          ],
          [
           61.195,
           7932503
          ],
          [
           64.59,
           9410494
          ],
          [
           66.97399999999999,
           11242847
          ],
          [
           69.249,
           13219062
          ],
          [
           71.527,
           15081016
          ],
          [
           73.053,
           17155814
          ],
          [
           74.143,
           19314747
          ],
          [
           58.5,
           8550362
          ],
          [
           62.4,
           10164215
          ],
          [
           65.2,
           11918938
          ],
          [
           67.5,
           13648692
          ],
          [
           69.39,
           15226039
          ],
          [
           70.59,
           16785196
          ],
          [
           72.16,
           18501390
          ],
          [
           73.4,
           19757799
          ],
          [
           74.26,
           20686918
          ],
          [
           75.25,
           21628605
          ],
          [
           76.99,
           22454239
          ],
          [
           78.4,
           23174294
          ],
          [
           50.848,
           21289402
          ],
          [
           53.63,
           25041917
          ],
          [
           56.06100000000001,
           29263397
          ],
          [
           58.285,
           34024249
          ],
          [
           60.405,
           39276153
          ],
          [
           62.494,
           44148285
          ],
          [
           64.597,
           48827160
          ],
          [
           66.084,
           52910342
          ],
          [
           67.298,
           56667095
          ],
          [
           67.521,
           60216677
          ],
          [
           68.564,
           62806748
          ],
          [
           70.616,
           65068149
          ],
          [
           40.412,
           26246839
          ],
          [
           42.887,
           28998543
          ],
          [
           45.363,
           33796140
          ],
          [
           47.838,
           39463910
          ],
          [
           50.254,
           44655014
          ],
          [
           55.764,
           50533506
          ],
          [
           58.816,
           56142181
          ],
          [
           62.82,
           62826491
          ],
          [
           67.66199999999999,
           69940728
          ],
          [
           70.672,
           76048996
          ],
          [
           73.017,
           80908147
          ],
          [
           74.249,
           85262356
          ],
          [
           43.16,
           1030585
          ],
          [
           45.67100000000001,
           1070439
          ],
          [
           48.127,
           1133134
          ],
          [
           51.631,
           1142636
          ],
          [
           56.532,
           1089572
          ],
          [
           60.765,
           1261091
          ],
          [
           64.406,
           1425876
          ],
          [
           67.046,
           1691210
          ],
          [
           69.718,
           2104779
          ],
          [
           71.096,
           2826046
          ],
          [
           72.37,
           3389578
          ],
          [
           73.422,
           4018332
          ],
          [
           32.548,
           4963829
          ],
          [
           33.97,
           5498090
          ],
          [
           35.18,
           6120081
          ],
          [
           36.984,
           6740785
          ],
          [
           39.848,
           7407075
          ],
          [
           44.175,
           8403990
          ],
          [
           49.113,
           9657618
          ],
          [
           52.922,
           11219340
          ],
          [
           55.599,
           13367997
          ],
          [
           58.02,
           15826497
          ],
          [
           60.308,
           18701257
          ],
          [
           62.698,
           22211743
          ]
         ],
         "geo": "geo",
         "hovertemplate": "<b>%{hovertext}</b><br><br>continent=Asia<br>iso_alpha=%{location}<br>lifeExp=%{customdata[0]}<br>pop=%{customdata[1]}<extra></extra>",
         "hovertext": [
          "Afghanistan",
          "Afghanistan",
          "Afghanistan",
          "Afghanistan",
          "Afghanistan",
          "Afghanistan",
          "Afghanistan",
          "Afghanistan",
          "Afghanistan",
          "Afghanistan",
          "Afghanistan",
          "Afghanistan",
          "Bahrain",
          "Bahrain",
          "Bahrain",
          "Bahrain",
          "Bahrain",
          "Bahrain",
          "Bahrain",
          "Bahrain",
          "Bahrain",
          "Bahrain",
          "Bahrain",
          "Bahrain",
          "Bangladesh",
          "Bangladesh",
          "Bangladesh",
          "Bangladesh",
          "Bangladesh",
          "Bangladesh",
          "Bangladesh",
          "Bangladesh",
          "Bangladesh",
          "Bangladesh",
          "Bangladesh",
          "Bangladesh",
          "Cambodia",
          "Cambodia",
          "Cambodia",
          "Cambodia",
          "Cambodia",
          "Cambodia",
          "Cambodia",
          "Cambodia",
          "Cambodia",
          "Cambodia",
          "Cambodia",
          "Cambodia",
          "China",
          "China",
          "China",
          "China",
          "China",
          "China",
          "China",
          "China",
          "China",
          "China",
          "China",
          "China",
          "Hong Kong, China",
          "Hong Kong, China",
          "Hong Kong, China",
          "Hong Kong, China",
          "Hong Kong, China",
          "Hong Kong, China",
          "Hong Kong, China",
          "Hong Kong, China",
          "Hong Kong, China",
          "Hong Kong, China",
          "Hong Kong, China",
          "Hong Kong, China",
          "India",
          "India",
          "India",
          "India",
          "India",
          "India",
          "India",
          "India",
          "India",
          "India",
          "India",
          "India",
          "Indonesia",
          "Indonesia",
          "Indonesia",
          "Indonesia",
          "Indonesia",
          "Indonesia",
          "Indonesia",
          "Indonesia",
          "Indonesia",
          "Indonesia",
          "Indonesia",
          "Indonesia",
          "Iran",
          "Iran",
          "Iran",
          "Iran",
          "Iran",
          "Iran",
          "Iran",
          "Iran",
          "Iran",
          "Iran",
          "Iran",
          "Iran",
          "Iraq",
          "Iraq",
          "Iraq",
          "Iraq",
          "Iraq",
          "Iraq",
          "Iraq",
          "Iraq",
          "Iraq",
          "Iraq",
          "Iraq",
          "Iraq",
          "Israel",
          "Israel",
          "Israel",
          "Israel",
          "Israel",
          "Israel",
          "Israel",
          "Israel",
          "Israel",
          "Israel",
          "Israel",
          "Israel",
          "Japan",
          "Japan",
          "Japan",
          "Japan",
          "Japan",
          "Japan",
          "Japan",
          "Japan",
          "Japan",
          "Japan",
          "Japan",
          "Japan",
          "Jordan",
          "Jordan",
          "Jordan",
          "Jordan",
          "Jordan",
          "Jordan",
          "Jordan",
          "Jordan",
          "Jordan",
          "Jordan",
          "Jordan",
          "Jordan",
          "Korea, Dem. Rep.",
          "Korea, Dem. Rep.",
          "Korea, Dem. Rep.",
          "Korea, Dem. Rep.",
          "Korea, Dem. Rep.",
          "Korea, Dem. Rep.",
          "Korea, Dem. Rep.",
          "Korea, Dem. Rep.",
          "Korea, Dem. Rep.",
          "Korea, Dem. Rep.",
          "Korea, Dem. Rep.",
          "Korea, Dem. Rep.",
          "Korea, Rep.",
          "Korea, Rep.",
          "Korea, Rep.",
          "Korea, Rep.",
          "Korea, Rep.",
          "Korea, Rep.",
          "Korea, Rep.",
          "Korea, Rep.",
          "Korea, Rep.",
          "Korea, Rep.",
          "Korea, Rep.",
          "Korea, Rep.",
          "Kuwait",
          "Kuwait",
          "Kuwait",
          "Kuwait",
          "Kuwait",
          "Kuwait",
          "Kuwait",
          "Kuwait",
          "Kuwait",
          "Kuwait",
          "Kuwait",
          "Kuwait",
          "Lebanon",
          "Lebanon",
          "Lebanon",
          "Lebanon",
          "Lebanon",
          "Lebanon",
          "Lebanon",
          "Lebanon",
          "Lebanon",
          "Lebanon",
          "Lebanon",
          "Lebanon",
          "Malaysia",
          "Malaysia",
          "Malaysia",
          "Malaysia",
          "Malaysia",
          "Malaysia",
          "Malaysia",
          "Malaysia",
          "Malaysia",
          "Malaysia",
          "Malaysia",
          "Malaysia",
          "Mongolia",
          "Mongolia",
          "Mongolia",
          "Mongolia",
          "Mongolia",
          "Mongolia",
          "Mongolia",
          "Mongolia",
          "Mongolia",
          "Mongolia",
          "Mongolia",
          "Mongolia",
          "Myanmar",
          "Myanmar",
          "Myanmar",
          "Myanmar",
          "Myanmar",
          "Myanmar",
          "Myanmar",
          "Myanmar",
          "Myanmar",
          "Myanmar",
          "Myanmar",
          "Myanmar",
          "Nepal",
          "Nepal",
          "Nepal",
          "Nepal",
          "Nepal",
          "Nepal",
          "Nepal",
          "Nepal",
          "Nepal",
          "Nepal",
          "Nepal",
          "Nepal",
          "Oman",
          "Oman",
          "Oman",
          "Oman",
          "Oman",
          "Oman",
          "Oman",
          "Oman",
          "Oman",
          "Oman",
          "Oman",
          "Oman",
          "Pakistan",
          "Pakistan",
          "Pakistan",
          "Pakistan",
          "Pakistan",
          "Pakistan",
          "Pakistan",
          "Pakistan",
          "Pakistan",
          "Pakistan",
          "Pakistan",
          "Pakistan",
          "Philippines",
          "Philippines",
          "Philippines",
          "Philippines",
          "Philippines",
          "Philippines",
          "Philippines",
          "Philippines",
          "Philippines",
          "Philippines",
          "Philippines",
          "Philippines",
          "Saudi Arabia",
          "Saudi Arabia",
          "Saudi Arabia",
          "Saudi Arabia",
          "Saudi Arabia",
          "Saudi Arabia",
          "Saudi Arabia",
          "Saudi Arabia",
          "Saudi Arabia",
          "Saudi Arabia",
          "Saudi Arabia",
          "Saudi Arabia",
          "Singapore",
          "Singapore",
          "Singapore",
          "Singapore",
          "Singapore",
          "Singapore",
          "Singapore",
          "Singapore",
          "Singapore",
          "Singapore",
          "Singapore",
          "Singapore",
          "Sri Lanka",
          "Sri Lanka",
          "Sri Lanka",
          "Sri Lanka",
          "Sri Lanka",
          "Sri Lanka",
          "Sri Lanka",
          "Sri Lanka",
          "Sri Lanka",
          "Sri Lanka",
          "Sri Lanka",
          "Sri Lanka",
          "Syria",
          "Syria",
          "Syria",
          "Syria",
          "Syria",
          "Syria",
          "Syria",
          "Syria",
          "Syria",
          "Syria",
          "Syria",
          "Syria",
          "Taiwan",
          "Taiwan",
          "Taiwan",
          "Taiwan",
          "Taiwan",
          "Taiwan",
          "Taiwan",
          "Taiwan",
          "Taiwan",
          "Taiwan",
          "Taiwan",
          "Taiwan",
          "Thailand",
          "Thailand",
          "Thailand",
          "Thailand",
          "Thailand",
          "Thailand",
          "Thailand",
          "Thailand",
          "Thailand",
          "Thailand",
          "Thailand",
          "Thailand",
          "Vietnam",
          "Vietnam",
          "Vietnam",
          "Vietnam",
          "Vietnam",
          "Vietnam",
          "Vietnam",
          "Vietnam",
          "Vietnam",
          "Vietnam",
          "Vietnam",
          "Vietnam",
          "West Bank and Gaza",
          "West Bank and Gaza",
          "West Bank and Gaza",
          "West Bank and Gaza",
          "West Bank and Gaza",
          "West Bank and Gaza",
          "West Bank and Gaza",
          "West Bank and Gaza",
          "West Bank and Gaza",
          "West Bank and Gaza",
          "West Bank and Gaza",
          "West Bank and Gaza",
          "Yemen, Rep.",
          "Yemen, Rep.",
          "Yemen, Rep.",
          "Yemen, Rep.",
          "Yemen, Rep.",
          "Yemen, Rep.",
          "Yemen, Rep.",
          "Yemen, Rep.",
          "Yemen, Rep.",
          "Yemen, Rep.",
          "Yemen, Rep.",
          "Yemen, Rep."
         ],
         "legendgroup": "Asia",
         "locations": [
          "AFG",
          "AFG",
          "AFG",
          "AFG",
          "AFG",
          "AFG",
          "AFG",
          "AFG",
          "AFG",
          "AFG",
          "AFG",
          "AFG",
          "BHR",
          "BHR",
          "BHR",
          "BHR",
          "BHR",
          "BHR",
          "BHR",
          "BHR",
          "BHR",
          "BHR",
          "BHR",
          "BHR",
          "BGD",
          "BGD",
          "BGD",
          "BGD",
          "BGD",
          "BGD",
          "BGD",
          "BGD",
          "BGD",
          "BGD",
          "BGD",
          "BGD",
          "KHM",
          "KHM",
          "KHM",
          "KHM",
          "KHM",
          "KHM",
          "KHM",
          "KHM",
          "KHM",
          "KHM",
          "KHM",
          "KHM",
          "CHN",
          "CHN",
          "CHN",
          "CHN",
          "CHN",
          "CHN",
          "CHN",
          "CHN",
          "CHN",
          "CHN",
          "CHN",
          "CHN",
          "HKG",
          "HKG",
          "HKG",
          "HKG",
          "HKG",
          "HKG",
          "HKG",
          "HKG",
          "HKG",
          "HKG",
          "HKG",
          "HKG",
          "IND",
          "IND",
          "IND",
          "IND",
          "IND",
          "IND",
          "IND",
          "IND",
          "IND",
          "IND",
          "IND",
          "IND",
          "IDN",
          "IDN",
          "IDN",
          "IDN",
          "IDN",
          "IDN",
          "IDN",
          "IDN",
          "IDN",
          "IDN",
          "IDN",
          "IDN",
          "IRN",
          "IRN",
          "IRN",
          "IRN",
          "IRN",
          "IRN",
          "IRN",
          "IRN",
          "IRN",
          "IRN",
          "IRN",
          "IRN",
          "IRQ",
          "IRQ",
          "IRQ",
          "IRQ",
          "IRQ",
          "IRQ",
          "IRQ",
          "IRQ",
          "IRQ",
          "IRQ",
          "IRQ",
          "IRQ",
          "ISR",
          "ISR",
          "ISR",
          "ISR",
          "ISR",
          "ISR",
          "ISR",
          "ISR",
          "ISR",
          "ISR",
          "ISR",
          "ISR",
          "JPN",
          "JPN",
          "JPN",
          "JPN",
          "JPN",
          "JPN",
          "JPN",
          "JPN",
          "JPN",
          "JPN",
          "JPN",
          "JPN",
          "JOR",
          "JOR",
          "JOR",
          "JOR",
          "JOR",
          "JOR",
          "JOR",
          "JOR",
          "JOR",
          "JOR",
          "JOR",
          "JOR",
          "KOR",
          "KOR",
          "KOR",
          "KOR",
          "KOR",
          "KOR",
          "KOR",
          "KOR",
          "KOR",
          "KOR",
          "KOR",
          "KOR",
          "KOR",
          "KOR",
          "KOR",
          "KOR",
          "KOR",
          "KOR",
          "KOR",
          "KOR",
          "KOR",
          "KOR",
          "KOR",
          "KOR",
          "KWT",
          "KWT",
          "KWT",
          "KWT",
          "KWT",
          "KWT",
          "KWT",
          "KWT",
          "KWT",
          "KWT",
          "KWT",
          "KWT",
          "LBN",
          "LBN",
          "LBN",
          "LBN",
          "LBN",
          "LBN",
          "LBN",
          "LBN",
          "LBN",
          "LBN",
          "LBN",
          "LBN",
          "MYS",
          "MYS",
          "MYS",
          "MYS",
          "MYS",
          "MYS",
          "MYS",
          "MYS",
          "MYS",
          "MYS",
          "MYS",
          "MYS",
          "MNG",
          "MNG",
          "MNG",
          "MNG",
          "MNG",
          "MNG",
          "MNG",
          "MNG",
          "MNG",
          "MNG",
          "MNG",
          "MNG",
          "MMR",
          "MMR",
          "MMR",
          "MMR",
          "MMR",
          "MMR",
          "MMR",
          "MMR",
          "MMR",
          "MMR",
          "MMR",
          "MMR",
          "NPL",
          "NPL",
          "NPL",
          "NPL",
          "NPL",
          "NPL",
          "NPL",
          "NPL",
          "NPL",
          "NPL",
          "NPL",
          "NPL",
          "OMN",
          "OMN",
          "OMN",
          "OMN",
          "OMN",
          "OMN",
          "OMN",
          "OMN",
          "OMN",
          "OMN",
          "OMN",
          "OMN",
          "PAK",
          "PAK",
          "PAK",
          "PAK",
          "PAK",
          "PAK",
          "PAK",
          "PAK",
          "PAK",
          "PAK",
          "PAK",
          "PAK",
          "PHL",
          "PHL",
          "PHL",
          "PHL",
          "PHL",
          "PHL",
          "PHL",
          "PHL",
          "PHL",
          "PHL",
          "PHL",
          "PHL",
          "SAU",
          "SAU",
          "SAU",
          "SAU",
          "SAU",
          "SAU",
          "SAU",
          "SAU",
          "SAU",
          "SAU",
          "SAU",
          "SAU",
          "SGP",
          "SGP",
          "SGP",
          "SGP",
          "SGP",
          "SGP",
          "SGP",
          "SGP",
          "SGP",
          "SGP",
          "SGP",
          "SGP",
          "LKA",
          "LKA",
          "LKA",
          "LKA",
          "LKA",
          "LKA",
          "LKA",
          "LKA",
          "LKA",
          "LKA",
          "LKA",
          "LKA",
          "SYR",
          "SYR",
          "SYR",
          "SYR",
          "SYR",
          "SYR",
          "SYR",
          "SYR",
          "SYR",
          "SYR",
          "SYR",
          "SYR",
          "TWN",
          "TWN",
          "TWN",
          "TWN",
          "TWN",
          "TWN",
          "TWN",
          "TWN",
          "TWN",
          "TWN",
          "TWN",
          "TWN",
          "THA",
          "THA",
          "THA",
          "THA",
          "THA",
          "THA",
          "THA",
          "THA",
          "THA",
          "THA",
          "THA",
          "THA",
          "VNM",
          "VNM",
          "VNM",
          "VNM",
          "VNM",
          "VNM",
          "VNM",
          "VNM",
          "VNM",
          "VNM",
          "VNM",
          "VNM",
          "PSE",
          "PSE",
          "PSE",
          "PSE",
          "PSE",
          "PSE",
          "PSE",
          "PSE",
          "PSE",
          "PSE",
          "PSE",
          "PSE",
          "YEM",
          "YEM",
          "YEM",
          "YEM",
          "YEM",
          "YEM",
          "YEM",
          "YEM",
          "YEM",
          "YEM",
          "YEM",
          "YEM"
         ],
         "marker": {
          "color": "#636efa",
          "opacity": 0.8,
          "symbol": "circle"
         },
         "mode": "markers",
         "name": "Asia",
         "showlegend": true,
         "type": "scattergeo"
        },
        {
         "customdata": [
          [
           55.23,
           1282697
          ],
          [
           59.28,
           1476505
          ],
          [
           64.82,
           1728137
          ],
          [
           66.22,
           1984060
          ],
          [
           67.69,
           2263554
          ],
          [
           68.93,
           2509048
          ],
          [
           70.42,
           2780097
          ],
          [
           72,
           3075321
          ],
          [
           71.581,
           3326498
          ],
          [
           72.95,
           3428038
          ],
          [
           75.65100000000002,
           3508512
          ],
          [
           76.423,
           3600523
          ],
          [
           66.8,
           6927772
          ],
          [
           67.48,
           6965860
          ],
          [
           69.54,
           7129864
          ],
          [
           70.14,
           7376998
          ],
          [
           70.63,
           7544201
          ],
          [
           72.17,
           7568430
          ],
          [
           73.18,
           7574613
          ],
          [
           74.94,
           7578903
          ],
          [
           76.04,
           7914969
          ],
          [
           77.51,
           8069876
          ],
          [
           78.98,
           8148312
          ],
          [
           79.829,
           8199783
          ],
          [
           68,
           8730405
          ],
          [
           69.24,
           8989111
          ],
          [
           70.25,
           9218400
          ],
          [
           70.94,
           9556500
          ],
          [
           71.44,
           9709100
          ],
          [
           72.8,
           9821800
          ],
          [
           73.93,
           9856303
          ],
          [
           75.35,
           9870200
          ],
          [
           76.46,
           10045622
          ],
          [
           77.53,
           10199787
          ],
          [
           78.32,
           10311970
          ],
          [
           79.441,
           10392226
          ],
          [
           53.82,
           2791000
          ],
          [
           58.45,
           3076000
          ],
          [
           61.93,
           3349000
          ],
          [
           64.79,
           3585000
          ],
          [
           67.45,
           3819000
          ],
          [
           69.86,
           4086000
          ],
          [
           70.69,
           4172693
          ],
          [
           71.14,
           4338977
          ],
          [
           72.178,
           4256013
          ],
          [
           73.244,
           3607000
          ],
          [
           74.09,
           4165416
          ],
          [
           74.852,
           4552198
          ],
          [
           59.6,
           7274900
          ],
          [
           66.61,
           7651254
          ],
          [
           69.51,
           8012946
          ],
          [
           70.42,
           8310226
          ],
          [
           70.9,
           8576200
          ],
          [
           70.81,
           8797022
          ],
          [
           71.08,
           8892098
          ],
          [
           71.34,
           8971958
          ],
          [
           71.19,
           8658506
          ],
          [
           70.32,
           8066057
          ],
          [
           72.14,
           7661799
          ],
          [
           73.005,
           7322858
          ],
          [
           61.21,
           3882229
          ],
          [
           64.77,
           3991242
          ],
          [
           67.13,
           4076557
          ],
          [
           68.5,
           4174366
          ],
          [
           69.61,
           4225310
          ],
          [
           70.64,
           4318673
          ],
          [
           70.46,
           4413368
          ],
          [
           71.52,
           4484310
          ],
          [
           72.527,
           4494013
          ],
          [
           73.68,
           4444595
          ],
          [
           74.876,
           4481020
          ],
          [
           75.748,
           4493312
          ],
          [
           66.87,
           9125183
          ],
          [
           69.03,
           9513758
          ],
          [
           69.9,
           9620282
          ],
          [
           70.38,
           9835109
          ],
          [
           70.29,
           9862158
          ],
          [
           70.71,
           10161915
          ],
          [
           70.96,
           10303704
          ],
          [
           71.58,
           10311597
          ],
          [
           72.4,
           10315702
          ],
          [
           74.01,
           10300707
          ],
          [
           75.51,
           10256295
          ],
          [
           76.486,
           10228744
          ],
          [
           70.78,
           4334000
          ],
          [
           71.81,
           4487831
          ],
          [
           72.35,
           4646899
          ],
          [
           72.96,
           4838800
          ],
          [
           73.47,
           4991596
          ],
          [
           74.69,
           5088419
          ],
          [
           74.63,
           5117810
          ],
          [
           74.8,
           5127024
          ],
          [
           75.33,
           5171393
          ],
          [
           76.11,
           5283663
          ],
          [
           77.18,
           5374693
          ],
          [
           78.332,
           5468120
          ],
          [
           66.55,
           4090500
          ],
          [
           67.49,
           4324000
          ],
          [
           68.75,
           4491443
          ],
          [
           69.83,
           4605744
          ],
          [
           70.87,
           4639657
          ],
          [
           72.52,
           4738902
          ],
          [
           74.55,
           4826933
          ],
          [
           74.83,
           4931729
          ],
          [
           75.7,
           5041039
          ],
          [
           77.13,
           5134406
          ],
          [
           78.37,
           5193039
          ],
          [
           79.313,
           5238460
          ],
          [
           67.41,
           42459667
          ],
          [
           68.93,
           44310863
          ],
          [
           70.51,
           47124000
          ],
          [
           71.55,
           49569000
          ],
          [
           72.38,
           51732000
          ],
          [
           73.83,
           53165019
          ],
          [
           74.89,
           54433565
          ],
          [
           76.34,
           55630100
          ],
          [
           77.46,
           57374179
          ],
          [
           78.64,
           58623428
          ],
          [
           79.59,
           59925035
          ],
          [
           80.657,
           61083916
          ],
          [
           67.5,
           69145952
          ],
          [
           69.1,
           71019069
          ],
          [
           70.3,
           73739117
          ],
          [
           70.8,
           76368453
          ],
          [
           71,
           78717088
          ],
          [
           72.5,
           78160773
          ],
          [
           73.8,
           78335266
          ],
          [
           74.847,
           77718298
          ],
          [
           76.07,
           80597764
          ],
          [
           77.34,
           82011073
          ],
          [
           78.67,
           82350671
          ],
          [
           79.406,
           82400996
          ],
          [
           65.86,
           7733250
          ],
          [
           67.86,
           8096218
          ],
          [
           69.51,
           8448233
          ],
          [
           71,
           8716441
          ],
          [
           72.34,
           8888628
          ],
          [
           73.68,
           9308479
          ],
          [
           75.24,
           9786480
          ],
          [
           76.67,
           9974490
          ],
          [
           77.03,
           10325429
          ],
          [
           77.869,
           10502372
          ],
          [
           78.256,
           10603863
          ],
          [
           79.483,
           10706290
          ],
          [
           64.03,
           9504000
          ],
          [
           66.41,
           9839000
          ],
          [
           67.96,
           10063000
          ],
          [
           69.5,
           10223422
          ],
          [
           69.76,
           10394091
          ],
          [
           69.95,
           10637171
          ],
          [
           69.39,
           10705535
          ],
          [
           69.58,
           10612740
          ],
          [
           69.17,
           10348684
          ],
          [
           71.04,
           10244684
          ],
          [
           72.59,
           10083313
          ],
          [
           73.33800000000002,
           9956108
          ],
          [
           72.49,
           147962
          ],
          [
           73.47,
           165110
          ],
          [
           73.68,
           182053
          ],
          [
           73.73,
           198676
          ],
          [
           74.46,
           209275
          ],
          [
           76.11,
           221823
          ],
          [
           76.99,
           233997
          ],
          [
           77.23,
           244676
          ],
          [
           78.77,
           259012
          ],
          [
           78.95,
           271192
          ],
          [
           80.5,
           288030
          ],
          [
           81.757,
           301931
          ],
          [
           66.91,
           2952156
          ],
          [
           68.9,
           2878220
          ],
          [
           70.29,
           2830000
          ],
          [
           71.08,
           2900100
          ],
          [
           71.28,
           3024400
          ],
          [
           72.03,
           3271900
          ],
          [
           73.1,
           3480000
          ],
          [
           74.36,
           3539900
          ],
          [
           75.467,
           3557761
          ],
          [
           76.122,
           3667233
          ],
          [
           77.783,
           3879155
          ],
          [
           78.885,
           4109086
          ],
          [
           65.94,
           47666000
          ],
          [
           67.81,
           49182000
          ],
          [
           69.24,
           50843200
          ],
          [
           71.06,
           52667100
          ],
          [
           72.19,
           54365564
          ],
          [
           73.48,
           56059245
          ],
          [
           74.98,
           56535636
          ],
          [
           76.42,
           56729703
          ],
          [
           77.44,
           56840847
          ],
          [
           78.82,
           57479469
          ],
          [
           80.24,
           57926999
          ],
          [
           80.546,
           58147733
          ],
          [
           59.164,
           413834
          ],
          [
           61.448,
           442829
          ],
          [
           63.728,
           474528
          ],
          [
           67.178,
           501035
          ],
          [
           70.63600000000002,
           527678
          ],
          [
           73.066,
           560073
          ],
          [
           74.101,
           562548
          ],
          [
           74.865,
           569473
          ],
          [
           75.435,
           621621
          ],
          [
           75.445,
           692651
          ],
          [
           73.98100000000002,
           720230
          ],
          [
           74.543,
           684736
          ],
          [
           72.13,
           10381988
          ],
          [
           72.99,
           11026383
          ],
          [
           73.23,
           11805689
          ],
          [
           73.82,
           12596822
          ],
          [
           73.75,
           13329874
          ],
          [
           75.24,
           13852989
          ],
          [
           76.05,
           14310401
          ],
          [
           76.83,
           14665278
          ],
          [
           77.42,
           15174244
          ],
          [
           78.03,
           15604464
          ],
          [
           78.53,
           16122830
          ],
          [
           79.762,
           16570613
          ],
          [
           72.67,
           3327728
          ],
          [
           73.44,
           3491938
          ],
          [
           73.47,
           3638919
          ],
          [
           74.08,
           3786019
          ],
          [
           74.34,
           3933004
          ],
          [
           75.37,
           4043205
          ],
          [
           75.97,
           4114787
          ],
          [
           75.89,
           4186147
          ],
          [
           77.32,
           4286357
          ],
          [
           78.32,
           4405672
          ],
          [
           79.05,
           4535591
          ],
          [
           80.196,
           4627926
          ],
          [
           61.31,
           25730551
          ],
          [
           65.77,
           28235346
          ],
          [
           67.64,
           30329617
          ],
          [
           69.61,
           31785378
          ],
          [
           70.85,
           33039545
          ],
          [
           70.67,
           34621254
          ],
          [
           71.32,
           36227381
          ],
          [
           70.98,
           37740710
          ],
          [
           70.99,
           38370697
          ],
          [
           72.75,
           38654957
          ],
          [
           74.67,
           38625976
          ],
          [
           75.563,
           38518241
          ],
          [
           59.82,
           8526050
          ],
          [
           61.51,
           8817650
          ],
          [
           64.39,
           9019800
          ],
          [
           66.6,
           9103000
          ],
          [
           69.26,
           8970450
          ],
          [
           70.41,
           9662600
          ],
          [
           72.77,
           9859650
          ],
          [
           74.06,
           9915289
          ],
          [
           74.86,
           9927680
          ],
          [
           75.97,
           10156415
          ],
          [
           77.29,
           10433867
          ],
          [
           78.098,
           10642836
          ],
          [
           61.05,
           16630000
          ],
          [
           64.1,
           17829327
          ],
          [
           66.8,
           18680721
          ],
          [
           66.8,
           19284814
          ],
          [
           69.21,
           20662648
          ],
          [
           69.46,
           21658597
          ],
          [
           69.66,
           22356726
          ],
          [
           69.53,
           22686371
          ],
          [
           69.36,
           22797027
          ],
          [
           69.72,
           22562458
          ],
          [
           71.322,
           22404337
          ],
          [
           72.476,
           22276056
          ],
          [
           57.996,
           6860147
          ],
          [
           61.685,
           7271135
          ],
          [
           64.531,
           7616060
          ],
          [
           66.914,
           7971222
          ],
          [
           68.7,
           8313288
          ],
          [
           70.3,
           8686367
          ],
          [
           70.16199999999999,
           9032824
          ],
          [
           71.218,
           9230783
          ],
          [
           71.65899999999998,
           9826397
          ],
          [
           72.232,
           10336594
          ],
          [
           73.21300000000002,
           10111559
          ],
          [
           74.002,
           10150265
          ],
          [
           64.36,
           3558137
          ],
          [
           67.45,
           3844277
          ],
          [
           70.33,
           4237384
          ],
          [
           70.98,
           4442238
          ],
          [
           70.35,
           4593433
          ],
          [
           70.45,
           4827803
          ],
          [
           70.8,
           5048043
          ],
          [
           71.08,
           5199318
          ],
          [
           71.38,
           5302888
          ],
          [
           72.71,
           5383010
          ],
          [
           73.8,
           5410052
          ],
          [
           74.663,
           5447502
          ],
          [
           65.57,
           1489518
          ],
          [
           67.85,
           1533070
          ],
          [
           69.15,
           1582962
          ],
          [
           69.18,
           1646912
          ],
          [
           69.82,
           1694510
          ],
          [
           70.97,
           1746919
          ],
          [
           71.063,
           1861252
          ],
          [
           72.25,
           1945870
          ],
          [
           73.64,
           1999210
          ],
          [
           75.13,
           2011612
          ],
          [
           76.66,
           2011497
          ],
          [
           77.926,
           2009245
          ],
          [
           64.94,
           28549870
          ],
          [
           66.66,
           29841614
          ],
          [
           69.69,
           31158061
          ],
          [
           71.44,
           32850275
          ],
          [
           73.06,
           34513161
          ],
          [
           74.39,
           36439000
          ],
          [
           76.3,
           37983310
          ],
          [
           76.9,
           38880702
          ],
          [
           77.57,
           39549438
          ],
          [
           78.77,
           39855442
          ],
          [
           79.78,
           40152517
          ],
          [
           80.941,
           40448191
          ],
          [
           71.86,
           7124673
          ],
          [
           72.49,
           7363802
          ],
          [
           73.37,
           7561588
          ],
          [
           74.16,
           7867931
          ],
          [
           74.72,
           8122293
          ],
          [
           75.44,
           8251648
          ],
          [
           76.42,
           8325260
          ],
          [
           77.19,
           8421403
          ],
          [
           78.16,
           8718867
          ],
          [
           79.39,
           8897619
          ],
          [
           80.04,
           8954175
          ],
          [
           80.884,
           9031088
          ],
          [
           69.62,
           4815000
          ],
          [
           70.56,
           5126000
          ],
          [
           71.32,
           5666000
          ],
          [
           72.77,
           6063000
          ],
          [
           73.78,
           6401400
          ],
          [
           75.39,
           6316424
          ],
          [
           76.21,
           6468126
          ],
          [
           77.41,
           6649942
          ],
          [
           78.03,
           6995447
          ],
          [
           79.37,
           7193761
          ],
          [
           80.62,
           7361757
          ],
          [
           81.70100000000002,
           7554661
          ],
          [
           43.585,
           22235677
          ],
          [
           48.07899999999999,
           25670939
          ],
          [
           52.098,
           29788695
          ],
          [
           54.33600000000001,
           33411317
          ],
          [
           57.005,
           37492953
          ],
          [
           59.507,
           42404033
          ],
          [
           61.036,
           47328791
          ],
          [
           63.108,
           52881328
          ],
          [
           66.146,
           58179144
          ],
          [
           68.835,
           63047647
          ],
          [
           70.845,
           67308928
          ],
          [
           71.777,
           71158647
          ],
          [
           69.18,
           50430000
          ],
          [
           70.42,
           51430000
          ],
          [
           70.76,
           53292000
          ],
          [
           71.36,
           54959000
          ],
          [
           72.01,
           56079000
          ],
          [
           72.76,
           56179000
          ],
          [
           74.04,
           56339704
          ],
          [
           75.007,
           56981620
          ],
          [
           76.42,
           57866349
          ],
          [
           77.218,
           58808266
          ],
          [
           78.471,
           59912431
          ],
          [
           79.425,
           60776238
          ]
         ],
         "geo": "geo",
         "hovertemplate": "<b>%{hovertext}</b><br><br>continent=Europe<br>iso_alpha=%{location}<br>lifeExp=%{customdata[0]}<br>pop=%{customdata[1]}<extra></extra>",
         "hovertext": [
          "Albania",
          "Albania",
          "Albania",
          "Albania",
          "Albania",
          "Albania",
          "Albania",
          "Albania",
          "Albania",
          "Albania",
          "Albania",
          "Albania",
          "Austria",
          "Austria",
          "Austria",
          "Austria",
          "Austria",
          "Austria",
          "Austria",
          "Austria",
          "Austria",
          "Austria",
          "Austria",
          "Austria",
          "Belgium",
          "Belgium",
          "Belgium",
          "Belgium",
          "Belgium",
          "Belgium",
          "Belgium",
          "Belgium",
          "Belgium",
          "Belgium",
          "Belgium",
          "Belgium",
          "Bosnia and Herzegovina",
          "Bosnia and Herzegovina",
          "Bosnia and Herzegovina",
          "Bosnia and Herzegovina",
          "Bosnia and Herzegovina",
          "Bosnia and Herzegovina",
          "Bosnia and Herzegovina",
          "Bosnia and Herzegovina",
          "Bosnia and Herzegovina",
          "Bosnia and Herzegovina",
          "Bosnia and Herzegovina",
          "Bosnia and Herzegovina",
          "Bulgaria",
          "Bulgaria",
          "Bulgaria",
          "Bulgaria",
          "Bulgaria",
          "Bulgaria",
          "Bulgaria",
          "Bulgaria",
          "Bulgaria",
          "Bulgaria",
          "Bulgaria",
          "Bulgaria",
          "Croatia",
          "Croatia",
          "Croatia",
          "Croatia",
          "Croatia",
          "Croatia",
          "Croatia",
          "Croatia",
          "Croatia",
          "Croatia",
          "Croatia",
          "Croatia",
          "Czech Republic",
          "Czech Republic",
          "Czech Republic",
          "Czech Republic",
          "Czech Republic",
          "Czech Republic",
          "Czech Republic",
          "Czech Republic",
          "Czech Republic",
          "Czech Republic",
          "Czech Republic",
          "Czech Republic",
          "Denmark",
          "Denmark",
          "Denmark",
          "Denmark",
          "Denmark",
          "Denmark",
          "Denmark",
          "Denmark",
          "Denmark",
          "Denmark",
          "Denmark",
          "Denmark",
          "Finland",
          "Finland",
          "Finland",
          "Finland",
          "Finland",
          "Finland",
          "Finland",
          "Finland",
          "Finland",
          "Finland",
          "Finland",
          "Finland",
          "France",
          "France",
          "France",
          "France",
          "France",
          "France",
          "France",
          "France",
          "France",
          "France",
          "France",
          "France",
          "Germany",
          "Germany",
          "Germany",
          "Germany",
          "Germany",
          "Germany",
          "Germany",
          "Germany",
          "Germany",
          "Germany",
          "Germany",
          "Germany",
          "Greece",
          "Greece",
          "Greece",
          "Greece",
          "Greece",
          "Greece",
          "Greece",
          "Greece",
          "Greece",
          "Greece",
          "Greece",
          "Greece",
          "Hungary",
          "Hungary",
          "Hungary",
          "Hungary",
          "Hungary",
          "Hungary",
          "Hungary",
          "Hungary",
          "Hungary",
          "Hungary",
          "Hungary",
          "Hungary",
          "Iceland",
          "Iceland",
          "Iceland",
          "Iceland",
          "Iceland",
          "Iceland",
          "Iceland",
          "Iceland",
          "Iceland",
          "Iceland",
          "Iceland",
          "Iceland",
          "Ireland",
          "Ireland",
          "Ireland",
          "Ireland",
          "Ireland",
          "Ireland",
          "Ireland",
          "Ireland",
          "Ireland",
          "Ireland",
          "Ireland",
          "Ireland",
          "Italy",
          "Italy",
          "Italy",
          "Italy",
          "Italy",
          "Italy",
          "Italy",
          "Italy",
          "Italy",
          "Italy",
          "Italy",
          "Italy",
          "Montenegro",
          "Montenegro",
          "Montenegro",
          "Montenegro",
          "Montenegro",
          "Montenegro",
          "Montenegro",
          "Montenegro",
          "Montenegro",
          "Montenegro",
          "Montenegro",
          "Montenegro",
          "Netherlands",
          "Netherlands",
          "Netherlands",
          "Netherlands",
          "Netherlands",
          "Netherlands",
          "Netherlands",
          "Netherlands",
          "Netherlands",
          "Netherlands",
          "Netherlands",
          "Netherlands",
          "Norway",
          "Norway",
          "Norway",
          "Norway",
          "Norway",
          "Norway",
          "Norway",
          "Norway",
          "Norway",
          "Norway",
          "Norway",
          "Norway",
          "Poland",
          "Poland",
          "Poland",
          "Poland",
          "Poland",
          "Poland",
          "Poland",
          "Poland",
          "Poland",
          "Poland",
          "Poland",
          "Poland",
          "Portugal",
          "Portugal",
          "Portugal",
          "Portugal",
          "Portugal",
          "Portugal",
          "Portugal",
          "Portugal",
          "Portugal",
          "Portugal",
          "Portugal",
          "Portugal",
          "Romania",
          "Romania",
          "Romania",
          "Romania",
          "Romania",
          "Romania",
          "Romania",
          "Romania",
          "Romania",
          "Romania",
          "Romania",
          "Romania",
          "Serbia",
          "Serbia",
          "Serbia",
          "Serbia",
          "Serbia",
          "Serbia",
          "Serbia",
          "Serbia",
          "Serbia",
          "Serbia",
          "Serbia",
          "Serbia",
          "Slovak Republic",
          "Slovak Republic",
          "Slovak Republic",
          "Slovak Republic",
          "Slovak Republic",
          "Slovak Republic",
          "Slovak Republic",
          "Slovak Republic",
          "Slovak Republic",
          "Slovak Republic",
          "Slovak Republic",
          "Slovak Republic",
          "Slovenia",
          "Slovenia",
          "Slovenia",
          "Slovenia",
          "Slovenia",
          "Slovenia",
          "Slovenia",
          "Slovenia",
          "Slovenia",
          "Slovenia",
          "Slovenia",
          "Slovenia",
          "Spain",
          "Spain",
          "Spain",
          "Spain",
          "Spain",
          "Spain",
          "Spain",
          "Spain",
          "Spain",
          "Spain",
          "Spain",
          "Spain",
          "Sweden",
          "Sweden",
          "Sweden",
          "Sweden",
          "Sweden",
          "Sweden",
          "Sweden",
          "Sweden",
          "Sweden",
          "Sweden",
          "Sweden",
          "Sweden",
          "Switzerland",
          "Switzerland",
          "Switzerland",
          "Switzerland",
          "Switzerland",
          "Switzerland",
          "Switzerland",
          "Switzerland",
          "Switzerland",
          "Switzerland",
          "Switzerland",
          "Switzerland",
          "Turkey",
          "Turkey",
          "Turkey",
          "Turkey",
          "Turkey",
          "Turkey",
          "Turkey",
          "Turkey",
          "Turkey",
          "Turkey",
          "Turkey",
          "Turkey",
          "United Kingdom",
          "United Kingdom",
          "United Kingdom",
          "United Kingdom",
          "United Kingdom",
          "United Kingdom",
          "United Kingdom",
          "United Kingdom",
          "United Kingdom",
          "United Kingdom",
          "United Kingdom",
          "United Kingdom"
         ],
         "legendgroup": "Europe",
         "locations": [
          "ALB",
          "ALB",
          "ALB",
          "ALB",
          "ALB",
          "ALB",
          "ALB",
          "ALB",
          "ALB",
          "ALB",
          "ALB",
          "ALB",
          "AUT",
          "AUT",
          "AUT",
          "AUT",
          "AUT",
          "AUT",
          "AUT",
          "AUT",
          "AUT",
          "AUT",
          "AUT",
          "AUT",
          "BEL",
          "BEL",
          "BEL",
          "BEL",
          "BEL",
          "BEL",
          "BEL",
          "BEL",
          "BEL",
          "BEL",
          "BEL",
          "BEL",
          "BIH",
          "BIH",
          "BIH",
          "BIH",
          "BIH",
          "BIH",
          "BIH",
          "BIH",
          "BIH",
          "BIH",
          "BIH",
          "BIH",
          "BGR",
          "BGR",
          "BGR",
          "BGR",
          "BGR",
          "BGR",
          "BGR",
          "BGR",
          "BGR",
          "BGR",
          "BGR",
          "BGR",
          "HRV",
          "HRV",
          "HRV",
          "HRV",
          "HRV",
          "HRV",
          "HRV",
          "HRV",
          "HRV",
          "HRV",
          "HRV",
          "HRV",
          "CZE",
          "CZE",
          "CZE",
          "CZE",
          "CZE",
          "CZE",
          "CZE",
          "CZE",
          "CZE",
          "CZE",
          "CZE",
          "CZE",
          "DNK",
          "DNK",
          "DNK",
          "DNK",
          "DNK",
          "DNK",
          "DNK",
          "DNK",
          "DNK",
          "DNK",
          "DNK",
          "DNK",
          "FIN",
          "FIN",
          "FIN",
          "FIN",
          "FIN",
          "FIN",
          "FIN",
          "FIN",
          "FIN",
          "FIN",
          "FIN",
          "FIN",
          "FRA",
          "FRA",
          "FRA",
          "FRA",
          "FRA",
          "FRA",
          "FRA",
          "FRA",
          "FRA",
          "FRA",
          "FRA",
          "FRA",
          "DEU",
          "DEU",
          "DEU",
          "DEU",
          "DEU",
          "DEU",
          "DEU",
          "DEU",
          "DEU",
          "DEU",
          "DEU",
          "DEU",
          "GRC",
          "GRC",
          "GRC",
          "GRC",
          "GRC",
          "GRC",
          "GRC",
          "GRC",
          "GRC",
          "GRC",
          "GRC",
          "GRC",
          "HUN",
          "HUN",
          "HUN",
          "HUN",
          "HUN",
          "HUN",
          "HUN",
          "HUN",
          "HUN",
          "HUN",
          "HUN",
          "HUN",
          "ISL",
          "ISL",
          "ISL",
          "ISL",
          "ISL",
          "ISL",
          "ISL",
          "ISL",
          "ISL",
          "ISL",
          "ISL",
          "ISL",
          "IRL",
          "IRL",
          "IRL",
          "IRL",
          "IRL",
          "IRL",
          "IRL",
          "IRL",
          "IRL",
          "IRL",
          "IRL",
          "IRL",
          "ITA",
          "ITA",
          "ITA",
          "ITA",
          "ITA",
          "ITA",
          "ITA",
          "ITA",
          "ITA",
          "ITA",
          "ITA",
          "ITA",
          "MNE",
          "MNE",
          "MNE",
          "MNE",
          "MNE",
          "MNE",
          "MNE",
          "MNE",
          "MNE",
          "MNE",
          "MNE",
          "MNE",
          "NLD",
          "NLD",
          "NLD",
          "NLD",
          "NLD",
          "NLD",
          "NLD",
          "NLD",
          "NLD",
          "NLD",
          "NLD",
          "NLD",
          "NOR",
          "NOR",
          "NOR",
          "NOR",
          "NOR",
          "NOR",
          "NOR",
          "NOR",
          "NOR",
          "NOR",
          "NOR",
          "NOR",
          "POL",
          "POL",
          "POL",
          "POL",
          "POL",
          "POL",
          "POL",
          "POL",
          "POL",
          "POL",
          "POL",
          "POL",
          "PRT",
          "PRT",
          "PRT",
          "PRT",
          "PRT",
          "PRT",
          "PRT",
          "PRT",
          "PRT",
          "PRT",
          "PRT",
          "PRT",
          "ROU",
          "ROU",
          "ROU",
          "ROU",
          "ROU",
          "ROU",
          "ROU",
          "ROU",
          "ROU",
          "ROU",
          "ROU",
          "ROU",
          "SRB",
          "SRB",
          "SRB",
          "SRB",
          "SRB",
          "SRB",
          "SRB",
          "SRB",
          "SRB",
          "SRB",
          "SRB",
          "SRB",
          "SVK",
          "SVK",
          "SVK",
          "SVK",
          "SVK",
          "SVK",
          "SVK",
          "SVK",
          "SVK",
          "SVK",
          "SVK",
          "SVK",
          "SVN",
          "SVN",
          "SVN",
          "SVN",
          "SVN",
          "SVN",
          "SVN",
          "SVN",
          "SVN",
          "SVN",
          "SVN",
          "SVN",
          "ESP",
          "ESP",
          "ESP",
          "ESP",
          "ESP",
          "ESP",
          "ESP",
          "ESP",
          "ESP",
          "ESP",
          "ESP",
          "ESP",
          "SWE",
          "SWE",
          "SWE",
          "SWE",
          "SWE",
          "SWE",
          "SWE",
          "SWE",
          "SWE",
          "SWE",
          "SWE",
          "SWE",
          "CHE",
          "CHE",
          "CHE",
          "CHE",
          "CHE",
          "CHE",
          "CHE",
          "CHE",
          "CHE",
          "CHE",
          "CHE",
          "CHE",
          "TUR",
          "TUR",
          "TUR",
          "TUR",
          "TUR",
          "TUR",
          "TUR",
          "TUR",
          "TUR",
          "TUR",
          "TUR",
          "TUR",
          "GBR",
          "GBR",
          "GBR",
          "GBR",
          "GBR",
          "GBR",
          "GBR",
          "GBR",
          "GBR",
          "GBR",
          "GBR",
          "GBR"
         ],
         "marker": {
          "color": "#EF553B",
          "opacity": 0.8,
          "symbol": "circle"
         },
         "mode": "markers",
         "name": "Europe",
         "showlegend": true,
         "type": "scattergeo"
        },
        {
         "customdata": [
          [
           43.077,
           9279525
          ],
          [
           45.685,
           10270856
          ],
          [
           48.303,
           11000948
          ],
          [
           51.407,
           12760499
          ],
          [
           54.518,
           14760787
          ],
          [
           58.014,
           17152804
          ],
          [
           61.368,
           20033753
          ],
          [
           65.79899999999999,
           23254956
          ],
          [
           67.744,
           26298373
          ],
          [
           69.152,
           29072015
          ],
          [
           70.994,
           31287142
          ],
          [
           72.301,
           33333216
          ],
          [
           30.015,
           4232095
          ],
          [
           31.999,
           4561361
          ],
          [
           34,
           4826015
          ],
          [
           35.985,
           5247469
          ],
          [
           37.928,
           5894858
          ],
          [
           39.483,
           6162675
          ],
          [
           39.942,
           7016384
          ],
          [
           39.906,
           7874230
          ],
          [
           40.647,
           8735988
          ],
          [
           40.963,
           9875024
          ],
          [
           41.003,
           10866106
          ],
          [
           42.731,
           12420476
          ],
          [
           38.223,
           1738315
          ],
          [
           40.358,
           1925173
          ],
          [
           42.618,
           2151895
          ],
          [
           44.885,
           2427334
          ],
          [
           47.014,
           2761407
          ],
          [
           49.19,
           3168267
          ],
          [
           50.904,
           3641603
          ],
          [
           52.337,
           4243788
          ],
          [
           53.919,
           4981671
          ],
          [
           54.777,
           6066080
          ],
          [
           54.40600000000001,
           7026113
          ],
          [
           56.728,
           8078314
          ],
          [
           47.622,
           442308
          ],
          [
           49.618,
           474639
          ],
          [
           51.52,
           512764
          ],
          [
           53.298,
           553541
          ],
          [
           56.024,
           619351
          ],
          [
           59.319,
           781472
          ],
          [
           61.484,
           970347
          ],
          [
           63.622,
           1151184
          ],
          [
           62.745,
           1342614
          ],
          [
           52.556,
           1536536
          ],
          [
           46.63399999999999,
           1630347
          ],
          [
           50.728,
           1639131
          ],
          [
           31.975,
           4469979
          ],
          [
           34.906,
           4713416
          ],
          [
           37.814,
           4919632
          ],
          [
           40.697,
           5127935
          ],
          [
           43.591,
           5433886
          ],
          [
           46.137,
           5889574
          ],
          [
           48.122,
           6634596
          ],
          [
           49.557,
           7586551
          ],
          [
           50.26,
           8878303
          ],
          [
           50.324,
           10352843
          ],
          [
           50.65,
           12251209
          ],
          [
           52.295,
           14326203
          ],
          [
           39.031,
           2445618
          ],
          [
           40.533,
           2667518
          ],
          [
           42.045,
           2961915
          ],
          [
           43.548,
           3330989
          ],
          [
           44.057,
           3529983
          ],
          [
           45.91,
           3834415
          ],
          [
           47.471,
           4580410
          ],
          [
           48.21100000000001,
           5126023
          ],
          [
           44.736,
           5809236
          ],
          [
           45.326,
           6121610
          ],
          [
           47.36,
           7021078
          ],
          [
           49.58,
           8390505
          ],
          [
           38.523,
           5009067
          ],
          [
           40.428,
           5359923
          ],
          [
           42.643,
           5793633
          ],
          [
           44.799,
           6335506
          ],
          [
           47.049,
           7021028
          ],
          [
           49.355,
           7959865
          ],
          [
           52.96100000000001,
           9250831
          ],
          [
           54.985,
           10780667
          ],
          [
           54.31399999999999,
           12467171
          ],
          [
           52.199,
           14195809
          ],
          [
           49.856,
           15929988
          ],
          [
           50.43,
           17696293
          ],
          [
           35.463,
           1291695
          ],
          [
           37.464,
           1392284
          ],
          [
           39.475,
           1523478
          ],
          [
           41.478,
           1733638
          ],
          [
           43.457,
           1927260
          ],
          [
           46.775,
           2167533
          ],
          [
           48.295,
           2476971
          ],
          [
           50.485,
           2840009
          ],
          [
           49.396,
           3265124
          ],
          [
           46.066,
           3696513
          ],
          [
           43.308,
           4048013
          ],
          [
           44.74100000000001,
           4369038
          ],
          [
           38.092,
           2682462
          ],
          [
           39.881,
           2894855
          ],
          [
           41.716,
           3150417
          ],
          [
           43.601000000000006,
           3495967
          ],
          [
           45.569,
           3899068
          ],
          [
           47.383,
           4388260
          ],
          [
           49.517,
           4875118
          ],
          [
           51.051,
           5498955
          ],
          [
           51.724,
           6429417
          ],
          [
           51.573,
           7562011
          ],
          [
           50.525,
           8835739
          ],
          [
           50.651,
           10238807
          ],
          [
           40.715,
           153936
          ],
          [
           42.46,
           170928
          ],
          [
           44.467,
           191689
          ],
          [
           46.472,
           217378
          ],
          [
           48.944,
           250027
          ],
          [
           50.93899999999999,
           304739
          ],
          [
           52.933,
           348643
          ],
          [
           54.926,
           395114
          ],
          [
           57.93899999999999,
           454429
          ],
          [
           60.66,
           527982
          ],
          [
           62.974,
           614382
          ],
          [
           65.152,
           710960
          ],
          [
           39.143,
           14100005
          ],
          [
           40.652,
           15577932
          ],
          [
           42.122,
           17486434
          ],
          [
           44.056,
           19941073
          ],
          [
           45.989,
           23007669
          ],
          [
           47.804,
           26480870
          ],
          [
           47.784,
           30646495
          ],
          [
           47.412,
           35481645
          ],
          [
           45.548,
           41672143
          ],
          [
           42.587,
           47798986
          ],
          [
           44.966,
           55379852
          ],
          [
           46.462,
           64606759
          ],
          [
           42.111,
           854885
          ],
          [
           45.053,
           940458
          ],
          [
           48.435,
           1047924
          ],
          [
           52.04,
           1179760
          ],
          [
           54.907,
           1340458
          ],
          [
           55.625,
           1536769
          ],
          [
           56.695,
           1774735
          ],
          [
           57.47,
           2064095
          ],
          [
           56.433,
           2409073
          ],
          [
           52.962,
           2800947
          ],
          [
           52.97,
           3328795
          ],
          [
           55.322,
           3800610
          ],
          [
           40.477,
           2977019
          ],
          [
           42.469,
           3300000
          ],
          [
           44.93,
           3832408
          ],
          [
           47.35,
           4744870
          ],
          [
           49.801,
           6071696
          ],
          [
           52.374,
           7459574
          ],
          [
           53.983,
           9025951
          ],
          [
           54.655,
           10761098
          ],
          [
           52.044,
           12772596
          ],
          [
           47.99100000000001,
           14625967
          ],
          [
           46.832,
           16252726
          ],
          [
           48.328,
           18013409
          ],
          [
           34.812,
           63149
          ],
          [
           37.328,
           71851
          ],
          [
           39.69300000000001,
           89898
          ],
          [
           42.074,
           127617
          ],
          [
           44.36600000000001,
           178848
          ],
          [
           46.519,
           228694
          ],
          [
           48.812,
           305991
          ],
          [
           50.04,
           311025
          ],
          [
           51.604,
           384156
          ],
          [
           53.157,
           417908
          ],
          [
           53.37300000000001,
           447416
          ],
          [
           54.791,
           496374
          ],
          [
           41.893,
           22223309
          ],
          [
           44.444,
           25009741
          ],
          [
           46.992,
           28173309
          ],
          [
           49.293,
           31681188
          ],
          [
           51.137,
           34807417
          ],
          [
           53.319,
           38783863
          ],
          [
           56.006,
           45681811
          ],
          [
           59.797,
           52799062
          ],
          [
           63.674,
           59402198
          ],
          [
           67.217,
           66134291
          ],
          [
           69.806,
           73312559
          ],
          [
           71.33800000000002,
           80264543
          ],
          [
           34.482,
           216964
          ],
          [
           35.98300000000001,
           232922
          ],
          [
           37.485,
           249220
          ],
          [
           38.987,
           259864
          ],
          [
           40.516,
           277603
          ],
          [
           42.024,
           192675
          ],
          [
           43.662,
           285483
          ],
          [
           45.664,
           341244
          ],
          [
           47.545,
           387838
          ],
          [
           48.245,
           439971
          ],
          [
           49.348,
           495627
          ],
          [
           51.57899999999999,
           551201
          ],
          [
           35.92800000000001,
           1438760
          ],
          [
           38.047,
           1542611
          ],
          [
           40.158,
           1666618
          ],
          [
           42.18899999999999,
           1820319
          ],
          [
           44.142,
           2260187
          ],
          [
           44.535,
           2512642
          ],
          [
           43.89,
           2637297
          ],
          [
           46.453,
           2915959
          ],
          [
           49.99100000000001,
           3668440
          ],
          [
           53.378,
           4058319
          ],
          [
           55.24,
           4414865
          ],
          [
           58.04,
           4906585
          ],
          [
           34.078,
           20860941
          ],
          [
           36.667,
           22815614
          ],
          [
           40.059,
           25145372
          ],
          [
           42.115,
           27860297
          ],
          [
           43.515,
           30770372
          ],
          [
           44.51,
           34617799
          ],
          [
           44.916,
           38111756
          ],
          [
           46.684,
           42999530
          ],
          [
           48.091,
           52088559
          ],
          [
           49.402,
           59861301
          ],
          [
           50.725,
           67946797
          ],
          [
           52.947,
           76511887
          ],
          [
           37.003,
           420702
          ],
          [
           38.999,
           434904
          ],
          [
           40.489,
           455661
          ],
          [
           44.598,
           489004
          ],
          [
           48.69,
           537977
          ],
          [
           52.79,
           706367
          ],
          [
           56.56399999999999,
           753874
          ],
          [
           60.19,
           880397
          ],
          [
           61.36600000000001,
           985739
          ],
          [
           60.46100000000001,
           1126189
          ],
          [
           56.761,
           1299304
          ],
          [
           56.735,
           1454867
          ],
          [
           30,
           284320
          ],
          [
           32.065,
           323150
          ],
          [
           33.896,
           374020
          ],
          [
           35.857,
           439593
          ],
          [
           38.308,
           517101
          ],
          [
           41.842,
           608274
          ],
          [
           45.58,
           715523
          ],
          [
           49.265,
           848406
          ],
          [
           52.644,
           1025384
          ],
          [
           55.861,
           1235767
          ],
          [
           58.041,
           1457766
          ],
          [
           59.448,
           1688359
          ],
          [
           43.149,
           5581001
          ],
          [
           44.779,
           6391288
          ],
          [
           46.452,
           7355248
          ],
          [
           48.072,
           8490213
          ],
          [
           49.875,
           9354120
          ],
          [
           51.756,
           10538093
          ],
          [
           53.744,
           11400338
          ],
          [
           55.729,
           14168101
          ],
          [
           57.50100000000001,
           16278738
          ],
          [
           58.556,
           18418288
          ],
          [
           58.453,
           20550751
          ],
          [
           60.022,
           22873338
          ],
          [
           33.609,
           2664249
          ],
          [
           34.558,
           2876726
          ],
          [
           35.753,
           3140003
          ],
          [
           37.197,
           3451418
          ],
          [
           38.842,
           3811387
          ],
          [
           40.762,
           4227026
          ],
          [
           42.89100000000001,
           4710497
          ],
          [
           45.552,
           5650262
          ],
          [
           48.576,
           6990574
          ],
          [
           51.455,
           8048834
          ],
          [
           53.676,
           8807818
          ],
          [
           56.007,
           9947814
          ],
          [
           32.5,
           580653
          ],
          [
           33.489000000000004,
           601095
          ],
          [
           34.488,
           627820
          ],
          [
           35.492,
           601287
          ],
          [
           36.486,
           625361
          ],
          [
           37.465,
           745228
          ],
          [
           39.327,
           825987
          ],
          [
           41.245,
           927524
          ],
          [
           43.26600000000001,
           1050938
          ],
          [
           44.87300000000001,
           1193708
          ],
          [
           45.504,
           1332459
          ],
          [
           46.38800000000001,
           1472041
          ],
          [
           42.27,
           6464046
          ],
          [
           44.68600000000001,
           7454779
          ],
          [
           47.949,
           8678557
          ],
          [
           50.654,
           10191512
          ],
          [
           53.559,
           12044785
          ],
          [
           56.155,
           14500404
          ],
          [
           58.76600000000001,
           17661452
          ],
          [
           59.339,
           21198082
          ],
          [
           59.285,
           25020539
          ],
          [
           54.407,
           28263827
          ],
          [
           50.992,
           31386842
          ],
          [
           54.11,
           35610177
          ],
          [
           42.13800000000001,
           748747
          ],
          [
           45.047,
           813338
          ],
          [
           47.747,
           893143
          ],
          [
           48.492,
           996380
          ],
          [
           49.767,
           1116779
          ],
          [
           52.208,
           1251524
          ],
          [
           55.078,
           1411807
          ],
          [
           57.18,
           1599200
          ],
          [
           59.685,
           1803195
          ],
          [
           55.558,
           1982823
          ],
          [
           44.593,
           2046772
          ],
          [
           42.592,
           2012649
          ],
          [
           38.48,
           863308
          ],
          [
           39.486,
           975950
          ],
          [
           40.502,
           1112796
          ],
          [
           41.536,
           1279406
          ],
          [
           42.614,
           1482628
          ],
          [
           43.764,
           1703617
          ],
          [
           44.852,
           1956875
          ],
          [
           46.027,
           2269414
          ],
          [
           40.802,
           1912974
          ],
          [
           42.221,
           2200725
          ],
          [
           43.753,
           2814651
          ],
          [
           45.678,
           3193942
          ],
          [
           42.723,
           1019729
          ],
          [
           45.289,
           1201578
          ],
          [
           47.808,
           1441863
          ],
          [
           50.227,
           1759224
          ],
          [
           52.773,
           2183877
          ],
          [
           57.442,
           2721783
          ],
          [
           62.155,
           3344074
          ],
          [
           66.234,
           3799845
          ],
          [
           68.755,
           4364501
          ],
          [
           71.555,
           4759670
          ],
          [
           72.737,
           5368585
          ],
          [
           73.952,
           6036914
          ],
          [
           36.681,
           4762912
          ],
          [
           38.865,
           5181679
          ],
          [
           40.848,
           5703324
          ],
          [
           42.881,
           6334556
          ],
          [
           44.851000000000006,
           7082430
          ],
          [
           46.881,
           8007166
          ],
          [
           48.969,
           9171477
          ],
          [
           49.35,
           10568642
          ],
          [
           52.214,
           12210395
          ],
          [
           54.978,
           14165114
          ],
          [
           57.286,
           16473477
          ],
          [
           59.44300000000001,
           19167654
          ],
          [
           36.256,
           2917802
          ],
          [
           37.207,
           3221238
          ],
          [
           38.41,
           3628608
          ],
          [
           39.487,
           4147252
          ],
          [
           41.76600000000001,
           4730997
          ],
          [
           43.767,
           5637246
          ],
          [
           45.642,
           6502825
          ],
          [
           47.457,
           7824747
          ],
          [
           49.42,
           10014249
          ],
          [
           47.495,
           10419991
          ],
          [
           45.00899999999999,
           11824495
          ],
          [
           48.303,
           13327079
          ],
          [
           33.685,
           3838168
          ],
          [
           35.30699999999999,
           4241884
          ],
          [
           36.936,
           4690372
          ],
          [
           38.487,
           5212416
          ],
          [
           39.977,
           5828158
          ],
          [
           41.714,
           6491649
          ],
          [
           43.916,
           6998256
          ],
          [
           46.364,
           7634008
          ],
          [
           48.38800000000001,
           8416215
          ],
          [
           49.903,
           9384984
          ],
          [
           51.81800000000001,
           10580176
          ],
          [
           54.467,
           12031795
          ],
          [
           40.543,
           1022556
          ],
          [
           42.338,
           1076852
          ],
          [
           44.24800000000001,
           1146757
          ],
          [
           46.289,
           1230542
          ],
          [
           48.437,
           1332786
          ],
          [
           50.852,
           1456688
          ],
          [
           53.599,
           1622136
          ],
          [
           56.145,
           1841240
          ],
          [
           58.333,
           2119465
          ],
          [
           60.43,
           2444741
          ],
          [
           62.247,
           2828858
          ],
          [
           64.164,
           3270065
          ],
          [
           50.986,
           516556
          ],
          [
           58.089,
           609816
          ],
          [
           60.246,
           701016
          ],
          [
           61.557,
           789309
          ],
          [
           62.944,
           851334
          ],
          [
           64.93,
           913025
          ],
          [
           66.711,
           992040
          ],
          [
           68.74,
           1042663
          ],
          [
           69.745,
           1096202
          ],
          [
           70.736,
           1149818
          ],
          [
           71.954,
           1200206
          ],
          [
           72.801,
           1250882
          ],
          [
           42.87300000000001,
           9939217
          ],
          [
           45.423,
           11406350
          ],
          [
           47.924,
           13056604
          ],
          [
           50.335,
           14770296
          ],
          [
           52.862,
           16660670
          ],
          [
           55.73,
           18396941
          ],
          [
           59.65,
           20198730
          ],
          [
           62.677,
           22987397
          ],
          [
           65.393,
           25798239
          ],
          [
           67.66,
           28529501
          ],
          [
           69.615,
           31167783
          ],
          [
           71.164,
           33757175
          ],
          [
           31.286,
           6446316
          ],
          [
           33.779,
           7038035
          ],
          [
           36.161,
           7788944
          ],
          [
           38.113,
           8680909
          ],
          [
           40.328,
           9809596
          ],
          [
           42.495,
           11127868
          ],
          [
           42.795,
           12587223
          ],
          [
           42.861,
           12891952
          ],
          [
           44.284,
           13160731
          ],
          [
           46.344,
           16603334
          ],
          [
           44.026,
           18473780
          ],
          [
           42.082,
           19951656
          ],
          [
           41.725,
           485831
          ],
          [
           45.226000000000006,
           548080
          ],
          [
           48.386,
           621392
          ],
          [
           51.159,
           706640
          ],
          [
           53.867,
           821782
          ],
          [
           56.437,
           977026
          ],
          [
           58.968,
           1099010
          ],
          [
           60.835,
           1278184
          ],
          [
           61.999,
           1554253
          ],
          [
           58.909,
           1774766
          ],
          [
           51.479,
           1972153
          ],
          [
           52.90600000000001,
           2055080
          ],
          [
           37.444,
           3379468
          ],
          [
           38.598,
           3692184
          ],
          [
           39.487,
           4076008
          ],
          [
           40.118,
           4534062
          ],
          [
           40.546,
           5060262
          ],
          [
           41.291,
           5682086
          ],
          [
           42.598,
           6437188
          ],
          [
           44.555,
           7332638
          ],
          [
           47.39100000000001,
           8392818
          ],
          [
           51.313,
           9666252
          ],
          [
           54.496,
           11140655
          ],
          [
           56.867,
           12894865
          ],
          [
           36.324,
           33119096
          ],
          [
           37.802,
           37173340
          ],
          [
           39.36,
           41871351
          ],
          [
           41.04,
           47287752
          ],
          [
           42.82100000000001,
           53740085
          ],
          [
           44.514,
           62209173
          ],
          [
           45.826,
           73039376
          ],
          [
           46.886,
           81551520
          ],
          [
           47.472,
           93364244
          ],
          [
           47.464,
           106207839
          ],
          [
           46.608,
           119901274
          ],
          [
           46.859,
           135031164
          ],
          [
           52.724,
           257700
          ],
          [
           55.09,
           308700
          ],
          [
           57.666,
           358900
          ],
          [
           60.542,
           414024
          ],
          [
           64.274,
           461633
          ],
          [
           67.064,
           492095
          ],
          [
           69.885,
           517810
          ],
          [
           71.913,
           562035
          ],
          [
           73.615,
           622191
          ],
          [
           74.77199999999998,
           684810
          ],
          [
           75.744,
           743981
          ],
          [
           76.442,
           798094
          ],
          [
           40,
           2534927
          ],
          [
           41.5,
           2822082
          ],
          [
           43,
           3051242
          ],
          [
           44.1,
           3451079
          ],
          [
           44.6,
           3992121
          ],
          [
           45,
           4657072
          ],
          [
           46.218,
           5507565
          ],
          [
           44.02,
           6349365
          ],
          [
           23.599,
           7290203
          ],
          [
           36.087,
           7212583
          ],
          [
           43.413,
           7852401
          ],
          [
           46.242,
           8860588
          ],
          [
           46.471,
           60011
          ],
          [
           48.945,
           61325
          ],
          [
           51.893,
           65345
          ],
          [
           54.425,
           70787
          ],
          [
           56.48,
           76595
          ],
          [
           58.55,
           86796
          ],
          [
           60.351000000000006,
           98593
          ],
          [
           61.728,
           110812
          ],
          [
           62.742,
           125911
          ],
          [
           63.306,
           145608
          ],
          [
           64.337,
           170372
          ],
          [
           65.528,
           199579
          ],
          [
           37.278,
           2755589
          ],
          [
           39.329,
           3054547
          ],
          [
           41.45399999999999,
           3430243
          ],
          [
           43.563,
           3965841
          ],
          [
           45.815,
           4588696
          ],
          [
           48.879,
           5260855
          ],
          [
           52.379,
           6147783
          ],
          [
           55.769,
           7171347
          ],
          [
           58.19600000000001,
           8307920
          ],
          [
           60.187,
           9535314
          ],
          [
           61.6,
           10870037
          ],
          [
           63.062,
           12267493
          ],
          [
           30.331,
           2143249
          ],
          [
           31.57,
           2295678
          ],
          [
           32.767,
           2467895
          ],
          [
           34.113,
           2662190
          ],
          [
           35.4,
           2879013
          ],
          [
           36.788,
           3140897
          ],
          [
           38.445,
           3464522
          ],
          [
           40.006,
           3868905
          ],
          [
           38.333,
           4260884
          ],
          [
           39.897,
           4578212
          ],
          [
           41.012,
           5359092
          ],
          [
           42.56800000000001,
           6144562
          ],
          [
           32.978,
           2526994
          ],
          [
           34.977,
           2780415
          ],
          [
           36.981,
           3080153
          ],
          [
           38.977,
           3428839
          ],
          [
           40.973,
           3840161
          ],
          [
           41.974,
           4353666
          ],
          [
           42.955,
           5828892
          ],
          [
           44.50100000000001,
           6921858
          ],
          [
           39.658,
           6099799
          ],
          [
           43.795,
           6633514
          ],
          [
           45.93600000000001,
           7753310
          ],
          [
           48.159,
           9118773
          ],
          [
           45.00899999999999,
           14264935
          ],
          [
           47.985,
           16151549
          ],
          [
           49.951,
           18356657
          ],
          [
           51.927,
           20997321
          ],
          [
           53.69600000000001,
           23935810
          ],
          [
           55.527,
           27129932
          ],
          [
           58.161,
           31140029
          ],
          [
           60.834,
           35933379
          ],
          [
           61.88800000000001,
           39964159
          ],
          [
           60.236,
           42835005
          ],
          [
           53.365,
           44433622
          ],
          [
           49.339,
           43997828
          ],
          [
           38.635,
           8504667
          ],
          [
           39.624,
           9753392
          ],
          [
           40.87,
           11183227
          ],
          [
           42.858,
           12716129
          ],
          [
           45.083,
           14597019
          ],
          [
           47.8,
           17104986
          ],
          [
           50.338,
           20367053
          ],
          [
           51.744,
           24725960
          ],
          [
           53.556,
           28227588
          ],
          [
           55.37300000000001,
           32160729
          ],
          [
           56.369,
           37090298
          ],
          [
           58.556,
           42292929
          ],
          [
           41.407,
           290243
          ],
          [
           43.424,
           326741
          ],
          [
           44.992,
           370006
          ],
          [
           46.633,
           420690
          ],
          [
           49.552,
           480105
          ],
          [
           52.537,
           551425
          ],
          [
           55.56100000000001,
           649901
          ],
          [
           57.678,
           779348
          ],
          [
           58.474,
           962344
          ],
          [
           54.289,
           1054486
          ],
          [
           43.869,
           1130269
          ],
          [
           39.613,
           1133066
          ],
          [
           41.215,
           8322925
          ],
          [
           42.974,
           9452826
          ],
          [
           44.246,
           10863958
          ],
          [
           45.757,
           12607312
          ],
          [
           47.62,
           14706593
          ],
          [
           49.919,
           17129565
          ],
          [
           50.608,
           19844382
          ],
          [
           51.535,
           23040630
          ],
          [
           50.44,
           26605473
          ],
          [
           48.466,
           30686889
          ],
          [
           49.651,
           34593779
          ],
          [
           52.517,
           38139640
          ],
          [
           38.596,
           1219113
          ],
          [
           41.208,
           1357445
          ],
          [
           43.922,
           1528098
          ],
          [
           46.769,
           1735550
          ],
          [
           49.75899999999999,
           2056351
          ],
          [
           52.887,
           2308582
          ],
          [
           55.471,
           2644765
          ],
          [
           56.941,
           3154264
          ],
          [
           58.06100000000001,
           3747553
          ],
          [
           58.39,
           4320890
          ],
          [
           57.56100000000001,
           4977378
          ],
          [
           58.42,
           5701579
          ],
          [
           44.6,
           3647735
          ],
          [
           47.1,
           3950849
          ],
          [
           49.57899999999999,
           4286552
          ],
          [
           52.053,
           4786986
          ],
          [
           55.602,
           5303507
          ],
          [
           59.837,
           6005061
          ],
          [
           64.048,
           6734098
          ],
          [
           66.89399999999999,
           7724976
          ],
          [
           70.001,
           8523077
          ],
          [
           71.973,
           9231669
          ],
          [
           73.042,
           9770575
          ],
          [
           73.923,
           10276158
          ],
          [
           39.978,
           5824797
          ],
          [
           42.57100000000001,
           6675501
          ],
          [
           45.344,
           7688797
          ],
          [
           48.051,
           8900294
          ],
          [
           51.01600000000001,
           10190285
          ],
          [
           50.35,
           11457758
          ],
          [
           49.849,
           12939400
          ],
          [
           51.50899999999999,
           15283050
          ],
          [
           48.825,
           18252190
          ],
          [
           44.578,
           21210254
          ],
          [
           47.813,
           24739869
          ],
          [
           51.542,
           29170398
          ],
          [
           42.038,
           2672000
          ],
          [
           44.077,
           3016000
          ],
          [
           46.023,
           3421000
          ],
          [
           47.768,
           3900000
          ],
          [
           50.107,
           4506497
          ],
          [
           51.386,
           5216550
          ],
          [
           51.82100000000001,
           6100407
          ],
          [
           50.82100000000001,
           7272406
          ],
          [
           46.1,
           8381163
          ],
          [
           40.238,
           9417789
          ],
          [
           39.19300000000001,
           10595811
          ],
          [
           42.38399999999999,
           11746035
          ],
          [
           48.451,
           3080907
          ],
          [
           50.469,
           3646340
          ],
          [
           52.358,
           4277736
          ],
          [
           53.995,
           4995432
          ],
          [
           55.635,
           5861135
          ],
          [
           57.674,
           6642107
          ],
          [
           60.363,
           7636524
          ],
          [
           62.351000000000006,
           9216418
          ],
          [
           60.377,
           10704340
          ],
          [
           46.809,
           11404948
          ],
          [
           39.989,
           11926563
          ],
          [
           43.487,
           12311143
          ]
         ],
         "geo": "geo",
         "hovertemplate": "<b>%{hovertext}</b><br><br>continent=Africa<br>iso_alpha=%{location}<br>lifeExp=%{customdata[0]}<br>pop=%{customdata[1]}<extra></extra>",
         "hovertext": [
          "Algeria",
          "Algeria",
          "Algeria",
          "Algeria",
          "Algeria",
          "Algeria",
          "Algeria",
          "Algeria",
          "Algeria",
          "Algeria",
          "Algeria",
          "Algeria",
          "Angola",
          "Angola",
          "Angola",
          "Angola",
          "Angola",
          "Angola",
          "Angola",
          "Angola",
          "Angola",
          "Angola",
          "Angola",
          "Angola",
          "Benin",
          "Benin",
          "Benin",
          "Benin",
          "Benin",
          "Benin",
          "Benin",
          "Benin",
          "Benin",
          "Benin",
          "Benin",
          "Benin",
          "Botswana",
          "Botswana",
          "Botswana",
          "Botswana",
          "Botswana",
          "Botswana",
          "Botswana",
          "Botswana",
          "Botswana",
          "Botswana",
          "Botswana",
          "Botswana",
          "Burkina Faso",
          "Burkina Faso",
          "Burkina Faso",
          "Burkina Faso",
          "Burkina Faso",
          "Burkina Faso",
          "Burkina Faso",
          "Burkina Faso",
          "Burkina Faso",
          "Burkina Faso",
          "Burkina Faso",
          "Burkina Faso",
          "Burundi",
          "Burundi",
          "Burundi",
          "Burundi",
          "Burundi",
          "Burundi",
          "Burundi",
          "Burundi",
          "Burundi",
          "Burundi",
          "Burundi",
          "Burundi",
          "Cameroon",
          "Cameroon",
          "Cameroon",
          "Cameroon",
          "Cameroon",
          "Cameroon",
          "Cameroon",
          "Cameroon",
          "Cameroon",
          "Cameroon",
          "Cameroon",
          "Cameroon",
          "Central African Republic",
          "Central African Republic",
          "Central African Republic",
          "Central African Republic",
          "Central African Republic",
          "Central African Republic",
          "Central African Republic",
          "Central African Republic",
          "Central African Republic",
          "Central African Republic",
          "Central African Republic",
          "Central African Republic",
          "Chad",
          "Chad",
          "Chad",
          "Chad",
          "Chad",
          "Chad",
          "Chad",
          "Chad",
          "Chad",
          "Chad",
          "Chad",
          "Chad",
          "Comoros",
          "Comoros",
          "Comoros",
          "Comoros",
          "Comoros",
          "Comoros",
          "Comoros",
          "Comoros",
          "Comoros",
          "Comoros",
          "Comoros",
          "Comoros",
          "Congo, Dem. Rep.",
          "Congo, Dem. Rep.",
          "Congo, Dem. Rep.",
          "Congo, Dem. Rep.",
          "Congo, Dem. Rep.",
          "Congo, Dem. Rep.",
          "Congo, Dem. Rep.",
          "Congo, Dem. Rep.",
          "Congo, Dem. Rep.",
          "Congo, Dem. Rep.",
          "Congo, Dem. Rep.",
          "Congo, Dem. Rep.",
          "Congo, Rep.",
          "Congo, Rep.",
          "Congo, Rep.",
          "Congo, Rep.",
          "Congo, Rep.",
          "Congo, Rep.",
          "Congo, Rep.",
          "Congo, Rep.",
          "Congo, Rep.",
          "Congo, Rep.",
          "Congo, Rep.",
          "Congo, Rep.",
          "Cote d'Ivoire",
          "Cote d'Ivoire",
          "Cote d'Ivoire",
          "Cote d'Ivoire",
          "Cote d'Ivoire",
          "Cote d'Ivoire",
          "Cote d'Ivoire",
          "Cote d'Ivoire",
          "Cote d'Ivoire",
          "Cote d'Ivoire",
          "Cote d'Ivoire",
          "Cote d'Ivoire",
          "Djibouti",
          "Djibouti",
          "Djibouti",
          "Djibouti",
          "Djibouti",
          "Djibouti",
          "Djibouti",
          "Djibouti",
          "Djibouti",
          "Djibouti",
          "Djibouti",
          "Djibouti",
          "Egypt",
          "Egypt",
          "Egypt",
          "Egypt",
          "Egypt",
          "Egypt",
          "Egypt",
          "Egypt",
          "Egypt",
          "Egypt",
          "Egypt",
          "Egypt",
          "Equatorial Guinea",
          "Equatorial Guinea",
          "Equatorial Guinea",
          "Equatorial Guinea",
          "Equatorial Guinea",
          "Equatorial Guinea",
          "Equatorial Guinea",
          "Equatorial Guinea",
          "Equatorial Guinea",
          "Equatorial Guinea",
          "Equatorial Guinea",
          "Equatorial Guinea",
          "Eritrea",
          "Eritrea",
          "Eritrea",
          "Eritrea",
          "Eritrea",
          "Eritrea",
          "Eritrea",
          "Eritrea",
          "Eritrea",
          "Eritrea",
          "Eritrea",
          "Eritrea",
          "Ethiopia",
          "Ethiopia",
          "Ethiopia",
          "Ethiopia",
          "Ethiopia",
          "Ethiopia",
          "Ethiopia",
          "Ethiopia",
          "Ethiopia",
          "Ethiopia",
          "Ethiopia",
          "Ethiopia",
          "Gabon",
          "Gabon",
          "Gabon",
          "Gabon",
          "Gabon",
          "Gabon",
          "Gabon",
          "Gabon",
          "Gabon",
          "Gabon",
          "Gabon",
          "Gabon",
          "Gambia",
          "Gambia",
          "Gambia",
          "Gambia",
          "Gambia",
          "Gambia",
          "Gambia",
          "Gambia",
          "Gambia",
          "Gambia",
          "Gambia",
          "Gambia",
          "Ghana",
          "Ghana",
          "Ghana",
          "Ghana",
          "Ghana",
          "Ghana",
          "Ghana",
          "Ghana",
          "Ghana",
          "Ghana",
          "Ghana",
          "Ghana",
          "Guinea",
          "Guinea",
          "Guinea",
          "Guinea",
          "Guinea",
          "Guinea",
          "Guinea",
          "Guinea",
          "Guinea",
          "Guinea",
          "Guinea",
          "Guinea",
          "Guinea-Bissau",
          "Guinea-Bissau",
          "Guinea-Bissau",
          "Guinea-Bissau",
          "Guinea-Bissau",
          "Guinea-Bissau",
          "Guinea-Bissau",
          "Guinea-Bissau",
          "Guinea-Bissau",
          "Guinea-Bissau",
          "Guinea-Bissau",
          "Guinea-Bissau",
          "Kenya",
          "Kenya",
          "Kenya",
          "Kenya",
          "Kenya",
          "Kenya",
          "Kenya",
          "Kenya",
          "Kenya",
          "Kenya",
          "Kenya",
          "Kenya",
          "Lesotho",
          "Lesotho",
          "Lesotho",
          "Lesotho",
          "Lesotho",
          "Lesotho",
          "Lesotho",
          "Lesotho",
          "Lesotho",
          "Lesotho",
          "Lesotho",
          "Lesotho",
          "Liberia",
          "Liberia",
          "Liberia",
          "Liberia",
          "Liberia",
          "Liberia",
          "Liberia",
          "Liberia",
          "Liberia",
          "Liberia",
          "Liberia",
          "Liberia",
          "Libya",
          "Libya",
          "Libya",
          "Libya",
          "Libya",
          "Libya",
          "Libya",
          "Libya",
          "Libya",
          "Libya",
          "Libya",
          "Libya",
          "Madagascar",
          "Madagascar",
          "Madagascar",
          "Madagascar",
          "Madagascar",
          "Madagascar",
          "Madagascar",
          "Madagascar",
          "Madagascar",
          "Madagascar",
          "Madagascar",
          "Madagascar",
          "Malawi",
          "Malawi",
          "Malawi",
          "Malawi",
          "Malawi",
          "Malawi",
          "Malawi",
          "Malawi",
          "Malawi",
          "Malawi",
          "Malawi",
          "Malawi",
          "Mali",
          "Mali",
          "Mali",
          "Mali",
          "Mali",
          "Mali",
          "Mali",
          "Mali",
          "Mali",
          "Mali",
          "Mali",
          "Mali",
          "Mauritania",
          "Mauritania",
          "Mauritania",
          "Mauritania",
          "Mauritania",
          "Mauritania",
          "Mauritania",
          "Mauritania",
          "Mauritania",
          "Mauritania",
          "Mauritania",
          "Mauritania",
          "Mauritius",
          "Mauritius",
          "Mauritius",
          "Mauritius",
          "Mauritius",
          "Mauritius",
          "Mauritius",
          "Mauritius",
          "Mauritius",
          "Mauritius",
          "Mauritius",
          "Mauritius",
          "Morocco",
          "Morocco",
          "Morocco",
          "Morocco",
          "Morocco",
          "Morocco",
          "Morocco",
          "Morocco",
          "Morocco",
          "Morocco",
          "Morocco",
          "Morocco",
          "Mozambique",
          "Mozambique",
          "Mozambique",
          "Mozambique",
          "Mozambique",
          "Mozambique",
          "Mozambique",
          "Mozambique",
          "Mozambique",
          "Mozambique",
          "Mozambique",
          "Mozambique",
          "Namibia",
          "Namibia",
          "Namibia",
          "Namibia",
          "Namibia",
          "Namibia",
          "Namibia",
          "Namibia",
          "Namibia",
          "Namibia",
          "Namibia",
          "Namibia",
          "Niger",
          "Niger",
          "Niger",
          "Niger",
          "Niger",
          "Niger",
          "Niger",
          "Niger",
          "Niger",
          "Niger",
          "Niger",
          "Niger",
          "Nigeria",
          "Nigeria",
          "Nigeria",
          "Nigeria",
          "Nigeria",
          "Nigeria",
          "Nigeria",
          "Nigeria",
          "Nigeria",
          "Nigeria",
          "Nigeria",
          "Nigeria",
          "Reunion",
          "Reunion",
          "Reunion",
          "Reunion",
          "Reunion",
          "Reunion",
          "Reunion",
          "Reunion",
          "Reunion",
          "Reunion",
          "Reunion",
          "Reunion",
          "Rwanda",
          "Rwanda",
          "Rwanda",
          "Rwanda",
          "Rwanda",
          "Rwanda",
          "Rwanda",
          "Rwanda",
          "Rwanda",
          "Rwanda",
          "Rwanda",
          "Rwanda",
          "Sao Tome and Principe",
          "Sao Tome and Principe",
          "Sao Tome and Principe",
          "Sao Tome and Principe",
          "Sao Tome and Principe",
          "Sao Tome and Principe",
          "Sao Tome and Principe",
          "Sao Tome and Principe",
          "Sao Tome and Principe",
          "Sao Tome and Principe",
          "Sao Tome and Principe",
          "Sao Tome and Principe",
          "Senegal",
          "Senegal",
          "Senegal",
          "Senegal",
          "Senegal",
          "Senegal",
          "Senegal",
          "Senegal",
          "Senegal",
          "Senegal",
          "Senegal",
          "Senegal",
          "Sierra Leone",
          "Sierra Leone",
          "Sierra Leone",
          "Sierra Leone",
          "Sierra Leone",
          "Sierra Leone",
          "Sierra Leone",
          "Sierra Leone",
          "Sierra Leone",
          "Sierra Leone",
          "Sierra Leone",
          "Sierra Leone",
          "Somalia",
          "Somalia",
          "Somalia",
          "Somalia",
          "Somalia",
          "Somalia",
          "Somalia",
          "Somalia",
          "Somalia",
          "Somalia",
          "Somalia",
          "Somalia",
          "South Africa",
          "South Africa",
          "South Africa",
          "South Africa",
          "South Africa",
          "South Africa",
          "South Africa",
          "South Africa",
          "South Africa",
          "South Africa",
          "South Africa",
          "South Africa",
          "Sudan",
          "Sudan",
          "Sudan",
          "Sudan",
          "Sudan",
          "Sudan",
          "Sudan",
          "Sudan",
          "Sudan",
          "Sudan",
          "Sudan",
          "Sudan",
          "Swaziland",
          "Swaziland",
          "Swaziland",
          "Swaziland",
          "Swaziland",
          "Swaziland",
          "Swaziland",
          "Swaziland",
          "Swaziland",
          "Swaziland",
          "Swaziland",
          "Swaziland",
          "Tanzania",
          "Tanzania",
          "Tanzania",
          "Tanzania",
          "Tanzania",
          "Tanzania",
          "Tanzania",
          "Tanzania",
          "Tanzania",
          "Tanzania",
          "Tanzania",
          "Tanzania",
          "Togo",
          "Togo",
          "Togo",
          "Togo",
          "Togo",
          "Togo",
          "Togo",
          "Togo",
          "Togo",
          "Togo",
          "Togo",
          "Togo",
          "Tunisia",
          "Tunisia",
          "Tunisia",
          "Tunisia",
          "Tunisia",
          "Tunisia",
          "Tunisia",
          "Tunisia",
          "Tunisia",
          "Tunisia",
          "Tunisia",
          "Tunisia",
          "Uganda",
          "Uganda",
          "Uganda",
          "Uganda",
          "Uganda",
          "Uganda",
          "Uganda",
          "Uganda",
          "Uganda",
          "Uganda",
          "Uganda",
          "Uganda",
          "Zambia",
          "Zambia",
          "Zambia",
          "Zambia",
          "Zambia",
          "Zambia",
          "Zambia",
          "Zambia",
          "Zambia",
          "Zambia",
          "Zambia",
          "Zambia",
          "Zimbabwe",
          "Zimbabwe",
          "Zimbabwe",
          "Zimbabwe",
          "Zimbabwe",
          "Zimbabwe",
          "Zimbabwe",
          "Zimbabwe",
          "Zimbabwe",
          "Zimbabwe",
          "Zimbabwe",
          "Zimbabwe"
         ],
         "legendgroup": "Africa",
         "locations": [
          "DZA",
          "DZA",
          "DZA",
          "DZA",
          "DZA",
          "DZA",
          "DZA",
          "DZA",
          "DZA",
          "DZA",
          "DZA",
          "DZA",
          "AGO",
          "AGO",
          "AGO",
          "AGO",
          "AGO",
          "AGO",
          "AGO",
          "AGO",
          "AGO",
          "AGO",
          "AGO",
          "AGO",
          "BEN",
          "BEN",
          "BEN",
          "BEN",
          "BEN",
          "BEN",
          "BEN",
          "BEN",
          "BEN",
          "BEN",
          "BEN",
          "BEN",
          "BWA",
          "BWA",
          "BWA",
          "BWA",
          "BWA",
          "BWA",
          "BWA",
          "BWA",
          "BWA",
          "BWA",
          "BWA",
          "BWA",
          "BFA",
          "BFA",
          "BFA",
          "BFA",
          "BFA",
          "BFA",
          "BFA",
          "BFA",
          "BFA",
          "BFA",
          "BFA",
          "BFA",
          "BDI",
          "BDI",
          "BDI",
          "BDI",
          "BDI",
          "BDI",
          "BDI",
          "BDI",
          "BDI",
          "BDI",
          "BDI",
          "BDI",
          "CMR",
          "CMR",
          "CMR",
          "CMR",
          "CMR",
          "CMR",
          "CMR",
          "CMR",
          "CMR",
          "CMR",
          "CMR",
          "CMR",
          "CAF",
          "CAF",
          "CAF",
          "CAF",
          "CAF",
          "CAF",
          "CAF",
          "CAF",
          "CAF",
          "CAF",
          "CAF",
          "CAF",
          "TCD",
          "TCD",
          "TCD",
          "TCD",
          "TCD",
          "TCD",
          "TCD",
          "TCD",
          "TCD",
          "TCD",
          "TCD",
          "TCD",
          "COM",
          "COM",
          "COM",
          "COM",
          "COM",
          "COM",
          "COM",
          "COM",
          "COM",
          "COM",
          "COM",
          "COM",
          "COD",
          "COD",
          "COD",
          "COD",
          "COD",
          "COD",
          "COD",
          "COD",
          "COD",
          "COD",
          "COD",
          "COD",
          "COG",
          "COG",
          "COG",
          "COG",
          "COG",
          "COG",
          "COG",
          "COG",
          "COG",
          "COG",
          "COG",
          "COG",
          "CIV",
          "CIV",
          "CIV",
          "CIV",
          "CIV",
          "CIV",
          "CIV",
          "CIV",
          "CIV",
          "CIV",
          "CIV",
          "CIV",
          "DJI",
          "DJI",
          "DJI",
          "DJI",
          "DJI",
          "DJI",
          "DJI",
          "DJI",
          "DJI",
          "DJI",
          "DJI",
          "DJI",
          "EGY",
          "EGY",
          "EGY",
          "EGY",
          "EGY",
          "EGY",
          "EGY",
          "EGY",
          "EGY",
          "EGY",
          "EGY",
          "EGY",
          "GNQ",
          "GNQ",
          "GNQ",
          "GNQ",
          "GNQ",
          "GNQ",
          "GNQ",
          "GNQ",
          "GNQ",
          "GNQ",
          "GNQ",
          "GNQ",
          "ERI",
          "ERI",
          "ERI",
          "ERI",
          "ERI",
          "ERI",
          "ERI",
          "ERI",
          "ERI",
          "ERI",
          "ERI",
          "ERI",
          "ETH",
          "ETH",
          "ETH",
          "ETH",
          "ETH",
          "ETH",
          "ETH",
          "ETH",
          "ETH",
          "ETH",
          "ETH",
          "ETH",
          "GAB",
          "GAB",
          "GAB",
          "GAB",
          "GAB",
          "GAB",
          "GAB",
          "GAB",
          "GAB",
          "GAB",
          "GAB",
          "GAB",
          "GMB",
          "GMB",
          "GMB",
          "GMB",
          "GMB",
          "GMB",
          "GMB",
          "GMB",
          "GMB",
          "GMB",
          "GMB",
          "GMB",
          "GHA",
          "GHA",
          "GHA",
          "GHA",
          "GHA",
          "GHA",
          "GHA",
          "GHA",
          "GHA",
          "GHA",
          "GHA",
          "GHA",
          "GIN",
          "GIN",
          "GIN",
          "GIN",
          "GIN",
          "GIN",
          "GIN",
          "GIN",
          "GIN",
          "GIN",
          "GIN",
          "GIN",
          "GNB",
          "GNB",
          "GNB",
          "GNB",
          "GNB",
          "GNB",
          "GNB",
          "GNB",
          "GNB",
          "GNB",
          "GNB",
          "GNB",
          "KEN",
          "KEN",
          "KEN",
          "KEN",
          "KEN",
          "KEN",
          "KEN",
          "KEN",
          "KEN",
          "KEN",
          "KEN",
          "KEN",
          "LSO",
          "LSO",
          "LSO",
          "LSO",
          "LSO",
          "LSO",
          "LSO",
          "LSO",
          "LSO",
          "LSO",
          "LSO",
          "LSO",
          "LBR",
          "LBR",
          "LBR",
          "LBR",
          "LBR",
          "LBR",
          "LBR",
          "LBR",
          "LBR",
          "LBR",
          "LBR",
          "LBR",
          "LBY",
          "LBY",
          "LBY",
          "LBY",
          "LBY",
          "LBY",
          "LBY",
          "LBY",
          "LBY",
          "LBY",
          "LBY",
          "LBY",
          "MDG",
          "MDG",
          "MDG",
          "MDG",
          "MDG",
          "MDG",
          "MDG",
          "MDG",
          "MDG",
          "MDG",
          "MDG",
          "MDG",
          "MWI",
          "MWI",
          "MWI",
          "MWI",
          "MWI",
          "MWI",
          "MWI",
          "MWI",
          "MWI",
          "MWI",
          "MWI",
          "MWI",
          "MLI",
          "MLI",
          "MLI",
          "MLI",
          "MLI",
          "MLI",
          "MLI",
          "MLI",
          "MLI",
          "MLI",
          "MLI",
          "MLI",
          "MRT",
          "MRT",
          "MRT",
          "MRT",
          "MRT",
          "MRT",
          "MRT",
          "MRT",
          "MRT",
          "MRT",
          "MRT",
          "MRT",
          "MUS",
          "MUS",
          "MUS",
          "MUS",
          "MUS",
          "MUS",
          "MUS",
          "MUS",
          "MUS",
          "MUS",
          "MUS",
          "MUS",
          "MAR",
          "MAR",
          "MAR",
          "MAR",
          "MAR",
          "MAR",
          "MAR",
          "MAR",
          "MAR",
          "MAR",
          "MAR",
          "MAR",
          "MOZ",
          "MOZ",
          "MOZ",
          "MOZ",
          "MOZ",
          "MOZ",
          "MOZ",
          "MOZ",
          "MOZ",
          "MOZ",
          "MOZ",
          "MOZ",
          "NAM",
          "NAM",
          "NAM",
          "NAM",
          "NAM",
          "NAM",
          "NAM",
          "NAM",
          "NAM",
          "NAM",
          "NAM",
          "NAM",
          "NER",
          "NER",
          "NER",
          "NER",
          "NER",
          "NER",
          "NER",
          "NER",
          "NER",
          "NER",
          "NER",
          "NER",
          "NGA",
          "NGA",
          "NGA",
          "NGA",
          "NGA",
          "NGA",
          "NGA",
          "NGA",
          "NGA",
          "NGA",
          "NGA",
          "NGA",
          "REU",
          "REU",
          "REU",
          "REU",
          "REU",
          "REU",
          "REU",
          "REU",
          "REU",
          "REU",
          "REU",
          "REU",
          "RWA",
          "RWA",
          "RWA",
          "RWA",
          "RWA",
          "RWA",
          "RWA",
          "RWA",
          "RWA",
          "RWA",
          "RWA",
          "RWA",
          "STP",
          "STP",
          "STP",
          "STP",
          "STP",
          "STP",
          "STP",
          "STP",
          "STP",
          "STP",
          "STP",
          "STP",
          "SEN",
          "SEN",
          "SEN",
          "SEN",
          "SEN",
          "SEN",
          "SEN",
          "SEN",
          "SEN",
          "SEN",
          "SEN",
          "SEN",
          "SLE",
          "SLE",
          "SLE",
          "SLE",
          "SLE",
          "SLE",
          "SLE",
          "SLE",
          "SLE",
          "SLE",
          "SLE",
          "SLE",
          "SOM",
          "SOM",
          "SOM",
          "SOM",
          "SOM",
          "SOM",
          "SOM",
          "SOM",
          "SOM",
          "SOM",
          "SOM",
          "SOM",
          "ZAF",
          "ZAF",
          "ZAF",
          "ZAF",
          "ZAF",
          "ZAF",
          "ZAF",
          "ZAF",
          "ZAF",
          "ZAF",
          "ZAF",
          "ZAF",
          "SDN",
          "SDN",
          "SDN",
          "SDN",
          "SDN",
          "SDN",
          "SDN",
          "SDN",
          "SDN",
          "SDN",
          "SDN",
          "SDN",
          "SWZ",
          "SWZ",
          "SWZ",
          "SWZ",
          "SWZ",
          "SWZ",
          "SWZ",
          "SWZ",
          "SWZ",
          "SWZ",
          "SWZ",
          "SWZ",
          "TZA",
          "TZA",
          "TZA",
          "TZA",
          "TZA",
          "TZA",
          "TZA",
          "TZA",
          "TZA",
          "TZA",
          "TZA",
          "TZA",
          "TGO",
          "TGO",
          "TGO",
          "TGO",
          "TGO",
          "TGO",
          "TGO",
          "TGO",
          "TGO",
          "TGO",
          "TGO",
          "TGO",
          "TUN",
          "TUN",
          "TUN",
          "TUN",
          "TUN",
          "TUN",
          "TUN",
          "TUN",
          "TUN",
          "TUN",
          "TUN",
          "TUN",
          "UGA",
          "UGA",
          "UGA",
          "UGA",
          "UGA",
          "UGA",
          "UGA",
          "UGA",
          "UGA",
          "UGA",
          "UGA",
          "UGA",
          "ZMB",
          "ZMB",
          "ZMB",
          "ZMB",
          "ZMB",
          "ZMB",
          "ZMB",
          "ZMB",
          "ZMB",
          "ZMB",
          "ZMB",
          "ZMB",
          "ZWE",
          "ZWE",
          "ZWE",
          "ZWE",
          "ZWE",
          "ZWE",
          "ZWE",
          "ZWE",
          "ZWE",
          "ZWE",
          "ZWE",
          "ZWE"
         ],
         "marker": {
          "color": "#00cc96",
          "opacity": 0.8,
          "symbol": "circle"
         },
         "mode": "markers",
         "name": "Africa",
         "showlegend": true,
         "type": "scattergeo"
        },
        {
         "customdata": [
          [
           62.485,
           17876956
          ],
          [
           64.399,
           19610538
          ],
          [
           65.142,
           21283783
          ],
          [
           65.634,
           22934225
          ],
          [
           67.065,
           24779799
          ],
          [
           68.48100000000001,
           26983828
          ],
          [
           69.942,
           29341374
          ],
          [
           70.774,
           31620918
          ],
          [
           71.868,
           33958947
          ],
          [
           73.275,
           36203463
          ],
          [
           74.34,
           38331121
          ],
          [
           75.32,
           40301927
          ],
          [
           40.414,
           2883315
          ],
          [
           41.89,
           3211738
          ],
          [
           43.428,
           3593918
          ],
          [
           45.032,
           4040665
          ],
          [
           46.714,
           4565872
          ],
          [
           50.023,
           5079716
          ],
          [
           53.859,
           5642224
          ],
          [
           57.25100000000001,
           6156369
          ],
          [
           59.957,
           6893451
          ],
          [
           62.05,
           7693188
          ],
          [
           63.883,
           8445134
          ],
          [
           65.554,
           9119152
          ],
          [
           50.917,
           56602560
          ],
          [
           53.285,
           65551171
          ],
          [
           55.665,
           76039390
          ],
          [
           57.632,
           88049823
          ],
          [
           59.504,
           100840058
          ],
          [
           61.489,
           114313951
          ],
          [
           63.33600000000001,
           128962939
          ],
          [
           65.205,
           142938076
          ],
          [
           67.057,
           155975974
          ],
          [
           69.388,
           168546719
          ],
          [
           71.006,
           179914212
          ],
          [
           72.39,
           190010647
          ],
          [
           68.75,
           14785584
          ],
          [
           69.96,
           17010154
          ],
          [
           71.3,
           18985849
          ],
          [
           72.13,
           20819767
          ],
          [
           72.88,
           22284500
          ],
          [
           74.21,
           23796400
          ],
          [
           75.76,
           25201900
          ],
          [
           76.86,
           26549700
          ],
          [
           77.95,
           28523502
          ],
          [
           78.61,
           30305843
          ],
          [
           79.77,
           31902268
          ],
          [
           80.653,
           33390141
          ],
          [
           54.745,
           6377619
          ],
          [
           56.074,
           7048426
          ],
          [
           57.924,
           7961258
          ],
          [
           60.523,
           8858908
          ],
          [
           63.441,
           9717524
          ],
          [
           67.05199999999999,
           10599793
          ],
          [
           70.565,
           11487112
          ],
          [
           72.492,
           12463354
          ],
          [
           74.126,
           13572994
          ],
          [
           75.816,
           14599929
          ],
          [
           77.86,
           15497046
          ],
          [
           78.553,
           16284741
          ],
          [
           50.643,
           12350771
          ],
          [
           55.118,
           14485993
          ],
          [
           57.863,
           17009885
          ],
          [
           59.963,
           19764027
          ],
          [
           61.62300000000001,
           22542890
          ],
          [
           63.837,
           25094412
          ],
          [
           66.653,
           27764644
          ],
          [
           67.768,
           30964245
          ],
          [
           68.421,
           34202721
          ],
          [
           70.313,
           37657830
          ],
          [
           71.682,
           41008227
          ],
          [
           72.889,
           44227550
          ],
          [
           57.206,
           926317
          ],
          [
           60.026,
           1112300
          ],
          [
           62.842,
           1345187
          ],
          [
           65.42399999999999,
           1588717
          ],
          [
           67.84899999999999,
           1834796
          ],
          [
           70.75,
           2108457
          ],
          [
           73.45,
           2424367
          ],
          [
           74.752,
           2799811
          ],
          [
           75.71300000000002,
           3173216
          ],
          [
           77.26,
           3518107
          ],
          [
           78.123,
           3834934
          ],
          [
           78.782,
           4133884
          ],
          [
           59.42100000000001,
           6007797
          ],
          [
           62.325,
           6640752
          ],
          [
           65.24600000000001,
           7254373
          ],
          [
           68.29,
           8139332
          ],
          [
           70.723,
           8831348
          ],
          [
           72.649,
           9537988
          ],
          [
           73.717,
           9789224
          ],
          [
           74.17399999999998,
           10239839
          ],
          [
           74.414,
           10723260
          ],
          [
           76.15100000000002,
           10983007
          ],
          [
           77.158,
           11226999
          ],
          [
           78.273,
           11416987
          ],
          [
           45.928,
           2491346
          ],
          [
           49.828,
           2923186
          ],
          [
           53.459,
           3453434
          ],
          [
           56.75100000000001,
           4049146
          ],
          [
           59.631,
           4671329
          ],
          [
           61.788,
           5302800
          ],
          [
           63.727,
           5968349
          ],
          [
           66.046,
           6655297
          ],
          [
           68.457,
           7351181
          ],
          [
           69.957,
           7992357
          ],
          [
           70.847,
           8650322
          ],
          [
           72.235,
           9319622
          ],
          [
           48.357,
           3548753
          ],
          [
           51.356,
           4058385
          ],
          [
           54.64,
           4681707
          ],
          [
           56.678,
           5432424
          ],
          [
           58.79600000000001,
           6298651
          ],
          [
           61.31,
           7278866
          ],
          [
           64.342,
           8365850
          ],
          [
           67.23100000000001,
           9545158
          ],
          [
           69.613,
           10748394
          ],
          [
           72.312,
           11911819
          ],
          [
           74.173,
           12921234
          ],
          [
           74.994,
           13755680
          ],
          [
           45.262,
           2042865
          ],
          [
           48.57,
           2355805
          ],
          [
           52.307,
           2747687
          ],
          [
           55.855,
           3232927
          ],
          [
           58.207,
           3790903
          ],
          [
           56.69600000000001,
           4282586
          ],
          [
           56.604,
           4474873
          ],
          [
           63.154,
           4842194
          ],
          [
           66.798,
           5274649
          ],
          [
           69.535,
           5783439
          ],
          [
           70.734,
           6353681
          ],
          [
           71.878,
           6939688
          ],
          [
           42.023,
           3146381
          ],
          [
           44.142,
           3640876
          ],
          [
           46.95399999999999,
           4208858
          ],
          [
           50.01600000000001,
           4690773
          ],
          [
           53.738,
           5149581
          ],
          [
           56.029,
           5703430
          ],
          [
           58.137,
           6395630
          ],
          [
           60.782,
           7326406
          ],
          [
           63.37300000000001,
           8486949
          ],
          [
           66.322,
           9803875
          ],
          [
           68.97800000000001,
           11178650
          ],
          [
           70.259,
           12572928
          ],
          [
           37.579,
           3201488
          ],
          [
           40.696,
           3507701
          ],
          [
           43.59,
           3880130
          ],
          [
           46.243,
           4318137
          ],
          [
           48.042,
           4698301
          ],
          [
           49.923,
           4908554
          ],
          [
           51.46100000000001,
           5198399
          ],
          [
           53.636,
           5756203
          ],
          [
           55.089,
           6326682
          ],
          [
           56.67100000000001,
           6913545
          ],
          [
           58.137,
           7607651
          ],
          [
           60.916,
           8502814
          ],
          [
           41.912,
           1517453
          ],
          [
           44.665,
           1770390
          ],
          [
           48.041,
           2090162
          ],
          [
           50.924,
           2500689
          ],
          [
           53.88399999999999,
           2965146
          ],
          [
           57.402,
           3055235
          ],
          [
           60.909,
           3669448
          ],
          [
           64.492,
           4372203
          ],
          [
           66.399,
           5077347
          ],
          [
           67.65899999999999,
           5867957
          ],
          [
           68.565,
           6677328
          ],
          [
           70.19800000000001,
           7483763
          ],
          [
           58.53,
           1426095
          ],
          [
           62.61,
           1535090
          ],
          [
           65.61,
           1665128
          ],
          [
           67.51,
           1861096
          ],
          [
           69,
           1997616
          ],
          [
           70.11,
           2156814
          ],
          [
           71.21,
           2298309
          ],
          [
           71.77,
           2326606
          ],
          [
           71.766,
           2378618
          ],
          [
           72.262,
           2531311
          ],
          [
           72.047,
           2664659
          ],
          [
           72.567,
           2780132
          ],
          [
           50.789,
           30144317
          ],
          [
           55.19,
           35015548
          ],
          [
           58.299,
           41121485
          ],
          [
           60.11,
           47995559
          ],
          [
           62.361,
           55984294
          ],
          [
           65.032,
           63759976
          ],
          [
           67.405,
           71640904
          ],
          [
           69.498,
           80122492
          ],
          [
           71.455,
           88111030
          ],
          [
           73.67,
           95895146
          ],
          [
           74.902,
           102479927
          ],
          [
           76.195,
           108700891
          ],
          [
           42.31399999999999,
           1165790
          ],
          [
           45.432,
           1358828
          ],
          [
           48.632,
           1590597
          ],
          [
           51.88399999999999,
           1865490
          ],
          [
           55.151,
           2182908
          ],
          [
           57.47,
           2554598
          ],
          [
           59.298,
           2979423
          ],
          [
           62.008,
           3344353
          ],
          [
           65.843,
           4017939
          ],
          [
           68.426,
           4609572
          ],
          [
           70.836,
           5146848
          ],
          [
           72.899,
           5675356
          ],
          [
           55.191,
           940080
          ],
          [
           59.201,
           1063506
          ],
          [
           61.817,
           1215725
          ],
          [
           64.071,
           1405486
          ],
          [
           66.21600000000001,
           1616384
          ],
          [
           68.681,
           1839782
          ],
          [
           70.472,
           2036305
          ],
          [
           71.523,
           2253639
          ],
          [
           72.462,
           2484997
          ],
          [
           73.738,
           2734531
          ],
          [
           74.712,
           2990875
          ],
          [
           75.53699999999998,
           3242173
          ],
          [
           62.649,
           1555876
          ],
          [
           63.19600000000001,
           1770902
          ],
          [
           64.361,
           2009813
          ],
          [
           64.95100000000001,
           2287985
          ],
          [
           65.815,
           2614104
          ],
          [
           66.35300000000001,
           2984494
          ],
          [
           66.874,
           3366439
          ],
          [
           67.378,
           3886512
          ],
          [
           68.225,
           4483945
          ],
          [
           69.4,
           5154123
          ],
          [
           70.755,
           5884491
          ],
          [
           71.752,
           6667147
          ],
          [
           43.902,
           8025700
          ],
          [
           46.26300000000001,
           9146100
          ],
          [
           49.096,
           10516500
          ],
          [
           51.445,
           12132200
          ],
          [
           55.448,
           13954700
          ],
          [
           58.447,
           15990099
          ],
          [
           61.40600000000001,
           18125129
          ],
          [
           64.134,
           20195924
          ],
          [
           66.458,
           22430449
          ],
          [
           68.38600000000001,
           24748122
          ],
          [
           69.906,
           26769436
          ],
          [
           71.421,
           28674757
          ],
          [
           64.28,
           2227000
          ],
          [
           68.54,
           2260000
          ],
          [
           69.62,
           2448046
          ],
          [
           71.1,
           2648961
          ],
          [
           72.16,
           2847132
          ],
          [
           73.44,
           3080828
          ],
          [
           73.75,
           3279001
          ],
          [
           74.63,
           3444468
          ],
          [
           73.911,
           3585176
          ],
          [
           74.917,
           3759430
          ],
          [
           77.778,
           3859606
          ],
          [
           78.74600000000002,
           3942491
          ],
          [
           59.1,
           662850
          ],
          [
           61.8,
           764900
          ],
          [
           64.9,
           887498
          ],
          [
           65.4,
           960155
          ],
          [
           65.9,
           975199
          ],
          [
           68.3,
           1039009
          ],
          [
           68.832,
           1116479
          ],
          [
           69.582,
           1191336
          ],
          [
           69.862,
           1183669
          ],
          [
           69.465,
           1138101
          ],
          [
           68.976,
           1101832
          ],
          [
           69.819,
           1056608
          ],
          [
           68.44,
           157553000
          ],
          [
           69.49,
           171984000
          ],
          [
           70.21,
           186538000
          ],
          [
           70.76,
           198712000
          ],
          [
           71.34,
           209896000
          ],
          [
           73.38,
           220239000
          ],
          [
           74.65,
           232187835
          ],
          [
           75.02,
           242803533
          ],
          [
           76.09,
           256894189
          ],
          [
           76.81,
           272911760
          ],
          [
           77.31,
           287675526
          ],
          [
           78.242,
           301139947
          ],
          [
           66.071,
           2252965
          ],
          [
           67.044,
           2424959
          ],
          [
           68.253,
           2598466
          ],
          [
           68.468,
           2748579
          ],
          [
           68.673,
           2829526
          ],
          [
           69.48100000000001,
           2873520
          ],
          [
           70.805,
           2953997
          ],
          [
           71.918,
           3045153
          ],
          [
           72.752,
           3149262
          ],
          [
           74.223,
           3262838
          ],
          [
           75.307,
           3363085
          ],
          [
           76.384,
           3447496
          ],
          [
           55.088,
           5439568
          ],
          [
           57.907,
           6702668
          ],
          [
           60.77,
           8143375
          ],
          [
           63.479,
           9709552
          ],
          [
           65.712,
           11515649
          ],
          [
           67.456,
           13503563
          ],
          [
           68.557,
           15620766
          ],
          [
           70.19,
           17910182
          ],
          [
           71.15,
           20265563
          ],
          [
           72.146,
           22374398
          ],
          [
           72.766,
           24287670
          ],
          [
           73.747,
           26084662
          ]
         ],
         "geo": "geo",
         "hovertemplate": "<b>%{hovertext}</b><br><br>continent=Americas<br>iso_alpha=%{location}<br>lifeExp=%{customdata[0]}<br>pop=%{customdata[1]}<extra></extra>",
         "hovertext": [
          "Argentina",
          "Argentina",
          "Argentina",
          "Argentina",
          "Argentina",
          "Argentina",
          "Argentina",
          "Argentina",
          "Argentina",
          "Argentina",
          "Argentina",
          "Argentina",
          "Bolivia",
          "Bolivia",
          "Bolivia",
          "Bolivia",
          "Bolivia",
          "Bolivia",
          "Bolivia",
          "Bolivia",
          "Bolivia",
          "Bolivia",
          "Bolivia",
          "Bolivia",
          "Brazil",
          "Brazil",
          "Brazil",
          "Brazil",
          "Brazil",
          "Brazil",
          "Brazil",
          "Brazil",
          "Brazil",
          "Brazil",
          "Brazil",
          "Brazil",
          "Canada",
          "Canada",
          "Canada",
          "Canada",
          "Canada",
          "Canada",
          "Canada",
          "Canada",
          "Canada",
          "Canada",
          "Canada",
          "Canada",
          "Chile",
          "Chile",
          "Chile",
          "Chile",
          "Chile",
          "Chile",
          "Chile",
          "Chile",
          "Chile",
          "Chile",
          "Chile",
          "Chile",
          "Colombia",
          "Colombia",
          "Colombia",
          "Colombia",
          "Colombia",
          "Colombia",
          "Colombia",
          "Colombia",
          "Colombia",
          "Colombia",
          "Colombia",
          "Colombia",
          "Costa Rica",
          "Costa Rica",
          "Costa Rica",
          "Costa Rica",
          "Costa Rica",
          "Costa Rica",
          "Costa Rica",
          "Costa Rica",
          "Costa Rica",
          "Costa Rica",
          "Costa Rica",
          "Costa Rica",
          "Cuba",
          "Cuba",
          "Cuba",
          "Cuba",
          "Cuba",
          "Cuba",
          "Cuba",
          "Cuba",
          "Cuba",
          "Cuba",
          "Cuba",
          "Cuba",
          "Dominican Republic",
          "Dominican Republic",
          "Dominican Republic",
          "Dominican Republic",
          "Dominican Republic",
          "Dominican Republic",
          "Dominican Republic",
          "Dominican Republic",
          "Dominican Republic",
          "Dominican Republic",
          "Dominican Republic",
          "Dominican Republic",
          "Ecuador",
          "Ecuador",
          "Ecuador",
          "Ecuador",
          "Ecuador",
          "Ecuador",
          "Ecuador",
          "Ecuador",
          "Ecuador",
          "Ecuador",
          "Ecuador",
          "Ecuador",
          "El Salvador",
          "El Salvador",
          "El Salvador",
          "El Salvador",
          "El Salvador",
          "El Salvador",
          "El Salvador",
          "El Salvador",
          "El Salvador",
          "El Salvador",
          "El Salvador",
          "El Salvador",
          "Guatemala",
          "Guatemala",
          "Guatemala",
          "Guatemala",
          "Guatemala",
          "Guatemala",
          "Guatemala",
          "Guatemala",
          "Guatemala",
          "Guatemala",
          "Guatemala",
          "Guatemala",
          "Haiti",
          "Haiti",
          "Haiti",
          "Haiti",
          "Haiti",
          "Haiti",
          "Haiti",
          "Haiti",
          "Haiti",
          "Haiti",
          "Haiti",
          "Haiti",
          "Honduras",
          "Honduras",
          "Honduras",
          "Honduras",
          "Honduras",
          "Honduras",
          "Honduras",
          "Honduras",
          "Honduras",
          "Honduras",
          "Honduras",
          "Honduras",
          "Jamaica",
          "Jamaica",
          "Jamaica",
          "Jamaica",
          "Jamaica",
          "Jamaica",
          "Jamaica",
          "Jamaica",
          "Jamaica",
          "Jamaica",
          "Jamaica",
          "Jamaica",
          "Mexico",
          "Mexico",
          "Mexico",
          "Mexico",
          "Mexico",
          "Mexico",
          "Mexico",
          "Mexico",
          "Mexico",
          "Mexico",
          "Mexico",
          "Mexico",
          "Nicaragua",
          "Nicaragua",
          "Nicaragua",
          "Nicaragua",
          "Nicaragua",
          "Nicaragua",
          "Nicaragua",
          "Nicaragua",
          "Nicaragua",
          "Nicaragua",
          "Nicaragua",
          "Nicaragua",
          "Panama",
          "Panama",
          "Panama",
          "Panama",
          "Panama",
          "Panama",
          "Panama",
          "Panama",
          "Panama",
          "Panama",
          "Panama",
          "Panama",
          "Paraguay",
          "Paraguay",
          "Paraguay",
          "Paraguay",
          "Paraguay",
          "Paraguay",
          "Paraguay",
          "Paraguay",
          "Paraguay",
          "Paraguay",
          "Paraguay",
          "Paraguay",
          "Peru",
          "Peru",
          "Peru",
          "Peru",
          "Peru",
          "Peru",
          "Peru",
          "Peru",
          "Peru",
          "Peru",
          "Peru",
          "Peru",
          "Puerto Rico",
          "Puerto Rico",
          "Puerto Rico",
          "Puerto Rico",
          "Puerto Rico",
          "Puerto Rico",
          "Puerto Rico",
          "Puerto Rico",
          "Puerto Rico",
          "Puerto Rico",
          "Puerto Rico",
          "Puerto Rico",
          "Trinidad and Tobago",
          "Trinidad and Tobago",
          "Trinidad and Tobago",
          "Trinidad and Tobago",
          "Trinidad and Tobago",
          "Trinidad and Tobago",
          "Trinidad and Tobago",
          "Trinidad and Tobago",
          "Trinidad and Tobago",
          "Trinidad and Tobago",
          "Trinidad and Tobago",
          "Trinidad and Tobago",
          "United States",
          "United States",
          "United States",
          "United States",
          "United States",
          "United States",
          "United States",
          "United States",
          "United States",
          "United States",
          "United States",
          "United States",
          "Uruguay",
          "Uruguay",
          "Uruguay",
          "Uruguay",
          "Uruguay",
          "Uruguay",
          "Uruguay",
          "Uruguay",
          "Uruguay",
          "Uruguay",
          "Uruguay",
          "Uruguay",
          "Venezuela",
          "Venezuela",
          "Venezuela",
          "Venezuela",
          "Venezuela",
          "Venezuela",
          "Venezuela",
          "Venezuela",
          "Venezuela",
          "Venezuela",
          "Venezuela",
          "Venezuela"
         ],
         "legendgroup": "Americas",
         "locations": [
          "ARG",
          "ARG",
          "ARG",
          "ARG",
          "ARG",
          "ARG",
          "ARG",
          "ARG",
          "ARG",
          "ARG",
          "ARG",
          "ARG",
          "BOL",
          "BOL",
          "BOL",
          "BOL",
          "BOL",
          "BOL",
          "BOL",
          "BOL",
          "BOL",
          "BOL",
          "BOL",
          "BOL",
          "BRA",
          "BRA",
          "BRA",
          "BRA",
          "BRA",
          "BRA",
          "BRA",
          "BRA",
          "BRA",
          "BRA",
          "BRA",
          "BRA",
          "CAN",
          "CAN",
          "CAN",
          "CAN",
          "CAN",
          "CAN",
          "CAN",
          "CAN",
          "CAN",
          "CAN",
          "CAN",
          "CAN",
          "CHL",
          "CHL",
          "CHL",
          "CHL",
          "CHL",
          "CHL",
          "CHL",
          "CHL",
          "CHL",
          "CHL",
          "CHL",
          "CHL",
          "COL",
          "COL",
          "COL",
          "COL",
          "COL",
          "COL",
          "COL",
          "COL",
          "COL",
          "COL",
          "COL",
          "COL",
          "CRI",
          "CRI",
          "CRI",
          "CRI",
          "CRI",
          "CRI",
          "CRI",
          "CRI",
          "CRI",
          "CRI",
          "CRI",
          "CRI",
          "CUB",
          "CUB",
          "CUB",
          "CUB",
          "CUB",
          "CUB",
          "CUB",
          "CUB",
          "CUB",
          "CUB",
          "CUB",
          "CUB",
          "DOM",
          "DOM",
          "DOM",
          "DOM",
          "DOM",
          "DOM",
          "DOM",
          "DOM",
          "DOM",
          "DOM",
          "DOM",
          "DOM",
          "ECU",
          "ECU",
          "ECU",
          "ECU",
          "ECU",
          "ECU",
          "ECU",
          "ECU",
          "ECU",
          "ECU",
          "ECU",
          "ECU",
          "SLV",
          "SLV",
          "SLV",
          "SLV",
          "SLV",
          "SLV",
          "SLV",
          "SLV",
          "SLV",
          "SLV",
          "SLV",
          "SLV",
          "GTM",
          "GTM",
          "GTM",
          "GTM",
          "GTM",
          "GTM",
          "GTM",
          "GTM",
          "GTM",
          "GTM",
          "GTM",
          "GTM",
          "HTI",
          "HTI",
          "HTI",
          "HTI",
          "HTI",
          "HTI",
          "HTI",
          "HTI",
          "HTI",
          "HTI",
          "HTI",
          "HTI",
          "HND",
          "HND",
          "HND",
          "HND",
          "HND",
          "HND",
          "HND",
          "HND",
          "HND",
          "HND",
          "HND",
          "HND",
          "JAM",
          "JAM",
          "JAM",
          "JAM",
          "JAM",
          "JAM",
          "JAM",
          "JAM",
          "JAM",
          "JAM",
          "JAM",
          "JAM",
          "MEX",
          "MEX",
          "MEX",
          "MEX",
          "MEX",
          "MEX",
          "MEX",
          "MEX",
          "MEX",
          "MEX",
          "MEX",
          "MEX",
          "NIC",
          "NIC",
          "NIC",
          "NIC",
          "NIC",
          "NIC",
          "NIC",
          "NIC",
          "NIC",
          "NIC",
          "NIC",
          "NIC",
          "PAN",
          "PAN",
          "PAN",
          "PAN",
          "PAN",
          "PAN",
          "PAN",
          "PAN",
          "PAN",
          "PAN",
          "PAN",
          "PAN",
          "PRY",
          "PRY",
          "PRY",
          "PRY",
          "PRY",
          "PRY",
          "PRY",
          "PRY",
          "PRY",
          "PRY",
          "PRY",
          "PRY",
          "PER",
          "PER",
          "PER",
          "PER",
          "PER",
          "PER",
          "PER",
          "PER",
          "PER",
          "PER",
          "PER",
          "PER",
          "PRI",
          "PRI",
          "PRI",
          "PRI",
          "PRI",
          "PRI",
          "PRI",
          "PRI",
          "PRI",
          "PRI",
          "PRI",
          "PRI",
          "TTO",
          "TTO",
          "TTO",
          "TTO",
          "TTO",
          "TTO",
          "TTO",
          "TTO",
          "TTO",
          "TTO",
          "TTO",
          "TTO",
          "USA",
          "USA",
          "USA",
          "USA",
          "USA",
          "USA",
          "USA",
          "USA",
          "USA",
          "USA",
          "USA",
          "USA",
          "URY",
          "URY",
          "URY",
          "URY",
          "URY",
          "URY",
          "URY",
          "URY",
          "URY",
          "URY",
          "URY",
          "URY",
          "VEN",
          "VEN",
          "VEN",
          "VEN",
          "VEN",
          "VEN",
          "VEN",
          "VEN",
          "VEN",
          "VEN",
          "VEN",
          "VEN"
         ],
         "marker": {
          "color": "#ab63fa",
          "opacity": 0.8,
          "symbol": "circle"
         },
         "mode": "markers",
         "name": "Americas",
         "showlegend": true,
         "type": "scattergeo"
        },
        {
         "customdata": [
          [
           69.12,
           8691212
          ],
          [
           70.33,
           9712569
          ],
          [
           70.93,
           10794968
          ],
          [
           71.1,
           11872264
          ],
          [
           71.93,
           13177000
          ],
          [
           73.49,
           14074100
          ],
          [
           74.74,
           15184200
          ],
          [
           76.32,
           16257249
          ],
          [
           77.56,
           17481977
          ],
          [
           78.83,
           18565243
          ],
          [
           80.37,
           19546792
          ],
          [
           81.235,
           20434176
          ],
          [
           69.39,
           1994794
          ],
          [
           70.26,
           2229407
          ],
          [
           71.24,
           2488550
          ],
          [
           71.52,
           2728150
          ],
          [
           71.89,
           2929100
          ],
          [
           72.22,
           3164900
          ],
          [
           73.84,
           3210650
          ],
          [
           74.32,
           3317166
          ],
          [
           76.33,
           3437674
          ],
          [
           77.55,
           3676187
          ],
          [
           79.11,
           3908037
          ],
          [
           80.204,
           4115771
          ]
         ],
         "geo": "geo",
         "hovertemplate": "<b>%{hovertext}</b><br><br>continent=Oceania<br>iso_alpha=%{location}<br>lifeExp=%{customdata[0]}<br>pop=%{customdata[1]}<extra></extra>",
         "hovertext": [
          "Australia",
          "Australia",
          "Australia",
          "Australia",
          "Australia",
          "Australia",
          "Australia",
          "Australia",
          "Australia",
          "Australia",
          "Australia",
          "Australia",
          "New Zealand",
          "New Zealand",
          "New Zealand",
          "New Zealand",
          "New Zealand",
          "New Zealand",
          "New Zealand",
          "New Zealand",
          "New Zealand",
          "New Zealand",
          "New Zealand",
          "New Zealand"
         ],
         "legendgroup": "Oceania",
         "locations": [
          "AUS",
          "AUS",
          "AUS",
          "AUS",
          "AUS",
          "AUS",
          "AUS",
          "AUS",
          "AUS",
          "AUS",
          "AUS",
          "AUS",
          "NZL",
          "NZL",
          "NZL",
          "NZL",
          "NZL",
          "NZL",
          "NZL",
          "NZL",
          "NZL",
          "NZL",
          "NZL",
          "NZL"
         ],
         "marker": {
          "color": "#FFA15A",
          "opacity": 0.8,
          "symbol": "circle"
         },
         "mode": "markers",
         "name": "Oceania",
         "showlegend": true,
         "type": "scattergeo"
        }
       ],
       "layout": {
        "geo": {
         "center": {},
         "domain": {
          "x": [
           0,
           1
          ],
          "y": [
           0,
           1
          ]
         },
         "projection": {
          "type": "orthographic"
         }
        },
        "legend": {
         "title": {
          "text": "continent"
         },
         "tracegroupgap": 0
        },
        "margin": {
         "t": 60
        },
        "template": {
         "data": {
          "bar": [
           {
            "error_x": {
             "color": "#2a3f5f"
            },
            "error_y": {
             "color": "#2a3f5f"
            },
            "marker": {
             "line": {
              "color": "#E5ECF6",
              "width": 0.5
             },
             "pattern": {
              "fillmode": "overlay",
              "size": 10,
              "solidity": 0.2
             }
            },
            "type": "bar"
           }
          ],
          "barpolar": [
           {
            "marker": {
             "line": {
              "color": "#E5ECF6",
              "width": 0.5
             },
             "pattern": {
              "fillmode": "overlay",
              "size": 10,
              "solidity": 0.2
             }
            },
            "type": "barpolar"
           }
          ],
          "carpet": [
           {
            "aaxis": {
             "endlinecolor": "#2a3f5f",
             "gridcolor": "white",
             "linecolor": "white",
             "minorgridcolor": "white",
             "startlinecolor": "#2a3f5f"
            },
            "baxis": {
             "endlinecolor": "#2a3f5f",
             "gridcolor": "white",
             "linecolor": "white",
             "minorgridcolor": "white",
             "startlinecolor": "#2a3f5f"
            },
            "type": "carpet"
           }
          ],
          "choropleth": [
           {
            "colorbar": {
             "outlinewidth": 0,
             "ticks": ""
            },
            "type": "choropleth"
           }
          ],
          "contour": [
           {
            "colorbar": {
             "outlinewidth": 0,
             "ticks": ""
            },
            "colorscale": [
             [
              0,
              "#0d0887"
             ],
             [
              0.1111111111111111,
              "#46039f"
             ],
             [
              0.2222222222222222,
              "#7201a8"
             ],
             [
              0.3333333333333333,
              "#9c179e"
             ],
             [
              0.4444444444444444,
              "#bd3786"
             ],
             [
              0.5555555555555556,
              "#d8576b"
             ],
             [
              0.6666666666666666,
              "#ed7953"
             ],
             [
              0.7777777777777778,
              "#fb9f3a"
             ],
             [
              0.8888888888888888,
              "#fdca26"
             ],
             [
              1,
              "#f0f921"
             ]
            ],
            "type": "contour"
           }
          ],
          "contourcarpet": [
           {
            "colorbar": {
             "outlinewidth": 0,
             "ticks": ""
            },
            "type": "contourcarpet"
           }
          ],
          "heatmap": [
           {
            "colorbar": {
             "outlinewidth": 0,
             "ticks": ""
            },
            "colorscale": [
             [
              0,
              "#0d0887"
             ],
             [
              0.1111111111111111,
              "#46039f"
             ],
             [
              0.2222222222222222,
              "#7201a8"
             ],
             [
              0.3333333333333333,
              "#9c179e"
             ],
             [
              0.4444444444444444,
              "#bd3786"
             ],
             [
              0.5555555555555556,
              "#d8576b"
             ],
             [
              0.6666666666666666,
              "#ed7953"
             ],
             [
              0.7777777777777778,
              "#fb9f3a"
             ],
             [
              0.8888888888888888,
              "#fdca26"
             ],
             [
              1,
              "#f0f921"
             ]
            ],
            "type": "heatmap"
           }
          ],
          "heatmapgl": [
           {
            "colorbar": {
             "outlinewidth": 0,
             "ticks": ""
            },
            "colorscale": [
             [
              0,
              "#0d0887"
             ],
             [
              0.1111111111111111,
              "#46039f"
             ],
             [
              0.2222222222222222,
              "#7201a8"
             ],
             [
              0.3333333333333333,
              "#9c179e"
             ],
             [
              0.4444444444444444,
              "#bd3786"
             ],
             [
              0.5555555555555556,
              "#d8576b"
             ],
             [
              0.6666666666666666,
              "#ed7953"
             ],
             [
              0.7777777777777778,
              "#fb9f3a"
             ],
             [
              0.8888888888888888,
              "#fdca26"
             ],
             [
              1,
              "#f0f921"
             ]
            ],
            "type": "heatmapgl"
           }
          ],
          "histogram": [
           {
            "marker": {
             "pattern": {
              "fillmode": "overlay",
              "size": 10,
              "solidity": 0.2
             }
            },
            "type": "histogram"
           }
          ],
          "histogram2d": [
           {
            "colorbar": {
             "outlinewidth": 0,
             "ticks": ""
            },
            "colorscale": [
             [
              0,
              "#0d0887"
             ],
             [
              0.1111111111111111,
              "#46039f"
             ],
             [
              0.2222222222222222,
              "#7201a8"
             ],
             [
              0.3333333333333333,
              "#9c179e"
             ],
             [
              0.4444444444444444,
              "#bd3786"
             ],
             [
              0.5555555555555556,
              "#d8576b"
             ],
             [
              0.6666666666666666,
              "#ed7953"
             ],
             [
              0.7777777777777778,
              "#fb9f3a"
             ],
             [
              0.8888888888888888,
              "#fdca26"
             ],
             [
              1,
              "#f0f921"
             ]
            ],
            "type": "histogram2d"
           }
          ],
          "histogram2dcontour": [
           {
            "colorbar": {
             "outlinewidth": 0,
             "ticks": ""
            },
            "colorscale": [
             [
              0,
              "#0d0887"
             ],
             [
              0.1111111111111111,
              "#46039f"
             ],
             [
              0.2222222222222222,
              "#7201a8"
             ],
             [
              0.3333333333333333,
              "#9c179e"
             ],
             [
              0.4444444444444444,
              "#bd3786"
             ],
             [
              0.5555555555555556,
              "#d8576b"
             ],
             [
              0.6666666666666666,
              "#ed7953"
             ],
             [
              0.7777777777777778,
              "#fb9f3a"
             ],
             [
              0.8888888888888888,
              "#fdca26"
             ],
             [
              1,
              "#f0f921"
             ]
            ],
            "type": "histogram2dcontour"
           }
          ],
          "mesh3d": [
           {
            "colorbar": {
             "outlinewidth": 0,
             "ticks": ""
            },
            "type": "mesh3d"
           }
          ],
          "parcoords": [
           {
            "line": {
             "colorbar": {
              "outlinewidth": 0,
              "ticks": ""
             }
            },
            "type": "parcoords"
           }
          ],
          "pie": [
           {
            "automargin": true,
            "type": "pie"
           }
          ],
          "scatter": [
           {
            "fillpattern": {
             "fillmode": "overlay",
             "size": 10,
             "solidity": 0.2
            },
            "type": "scatter"
           }
          ],
          "scatter3d": [
           {
            "line": {
             "colorbar": {
              "outlinewidth": 0,
              "ticks": ""
             }
            },
            "marker": {
             "colorbar": {
              "outlinewidth": 0,
              "ticks": ""
             }
            },
            "type": "scatter3d"
           }
          ],
          "scattercarpet": [
           {
            "marker": {
             "colorbar": {
              "outlinewidth": 0,
              "ticks": ""
             }
            },
            "type": "scattercarpet"
           }
          ],
          "scattergeo": [
           {
            "marker": {
             "colorbar": {
              "outlinewidth": 0,
              "ticks": ""
             }
            },
            "type": "scattergeo"
           }
          ],
          "scattergl": [
           {
            "marker": {
             "colorbar": {
              "outlinewidth": 0,
              "ticks": ""
             }
            },
            "type": "scattergl"
           }
          ],
          "scattermapbox": [
           {
            "marker": {
             "colorbar": {
              "outlinewidth": 0,
              "ticks": ""
             }
            },
            "type": "scattermapbox"
           }
          ],
          "scatterpolar": [
           {
            "marker": {
             "colorbar": {
              "outlinewidth": 0,
              "ticks": ""
             }
            },
            "type": "scatterpolar"
           }
          ],
          "scatterpolargl": [
           {
            "marker": {
             "colorbar": {
              "outlinewidth": 0,
              "ticks": ""
             }
            },
            "type": "scatterpolargl"
           }
          ],
          "scatterternary": [
           {
            "marker": {
             "colorbar": {
              "outlinewidth": 0,
              "ticks": ""
             }
            },
            "type": "scatterternary"
           }
          ],
          "surface": [
           {
            "colorbar": {
             "outlinewidth": 0,
             "ticks": ""
            },
            "colorscale": [
             [
              0,
              "#0d0887"
             ],
             [
              0.1111111111111111,
              "#46039f"
             ],
             [
              0.2222222222222222,
              "#7201a8"
             ],
             [
              0.3333333333333333,
              "#9c179e"
             ],
             [
              0.4444444444444444,
              "#bd3786"
             ],
             [
              0.5555555555555556,
              "#d8576b"
             ],
             [
              0.6666666666666666,
              "#ed7953"
             ],
             [
              0.7777777777777778,
              "#fb9f3a"
             ],
             [
              0.8888888888888888,
              "#fdca26"
             ],
             [
              1,
              "#f0f921"
             ]
            ],
            "type": "surface"
           }
          ],
          "table": [
           {
            "cells": {
             "fill": {
              "color": "#EBF0F8"
             },
             "line": {
              "color": "white"
             }
            },
            "header": {
             "fill": {
              "color": "#C8D4E3"
             },
             "line": {
              "color": "white"
             }
            },
            "type": "table"
           }
          ]
         },
         "layout": {
          "annotationdefaults": {
           "arrowcolor": "#2a3f5f",
           "arrowhead": 0,
           "arrowwidth": 1
          },
          "autotypenumbers": "strict",
          "coloraxis": {
           "colorbar": {
            "outlinewidth": 0,
            "ticks": ""
           }
          },
          "colorscale": {
           "diverging": [
            [
             0,
             "#8e0152"
            ],
            [
             0.1,
             "#c51b7d"
            ],
            [
             0.2,
             "#de77ae"
            ],
            [
             0.3,
             "#f1b6da"
            ],
            [
             0.4,
             "#fde0ef"
            ],
            [
             0.5,
             "#f7f7f7"
            ],
            [
             0.6,
             "#e6f5d0"
            ],
            [
             0.7,
             "#b8e186"
            ],
            [
             0.8,
             "#7fbc41"
            ],
            [
             0.9,
             "#4d9221"
            ],
            [
             1,
             "#276419"
            ]
           ],
           "sequential": [
            [
             0,
             "#0d0887"
            ],
            [
             0.1111111111111111,
             "#46039f"
            ],
            [
             0.2222222222222222,
             "#7201a8"
            ],
            [
             0.3333333333333333,
             "#9c179e"
            ],
            [
             0.4444444444444444,
             "#bd3786"
            ],
            [
             0.5555555555555556,
             "#d8576b"
            ],
            [
             0.6666666666666666,
             "#ed7953"
            ],
            [
             0.7777777777777778,
             "#fb9f3a"
            ],
            [
             0.8888888888888888,
             "#fdca26"
            ],
            [
             1,
             "#f0f921"
            ]
           ],
           "sequentialminus": [
            [
             0,
             "#0d0887"
            ],
            [
             0.1111111111111111,
             "#46039f"
            ],
            [
             0.2222222222222222,
             "#7201a8"
            ],
            [
             0.3333333333333333,
             "#9c179e"
            ],
            [
             0.4444444444444444,
             "#bd3786"
            ],
            [
             0.5555555555555556,
             "#d8576b"
            ],
            [
             0.6666666666666666,
             "#ed7953"
            ],
            [
             0.7777777777777778,
             "#fb9f3a"
            ],
            [
             0.8888888888888888,
             "#fdca26"
            ],
            [
             1,
             "#f0f921"
            ]
           ]
          },
          "colorway": [
           "#636efa",
           "#EF553B",
           "#00cc96",
           "#ab63fa",
           "#FFA15A",
           "#19d3f3",
           "#FF6692",
           "#B6E880",
           "#FF97FF",
           "#FECB52"
          ],
          "font": {
           "color": "#2a3f5f"
          },
          "geo": {
           "bgcolor": "white",
           "lakecolor": "white",
           "landcolor": "#E5ECF6",
           "showlakes": true,
           "showland": true,
           "subunitcolor": "white"
          },
          "hoverlabel": {
           "align": "left"
          },
          "hovermode": "closest",
          "mapbox": {
           "style": "light"
          },
          "paper_bgcolor": "white",
          "plot_bgcolor": "#E5ECF6",
          "polar": {
           "angularaxis": {
            "gridcolor": "white",
            "linecolor": "white",
            "ticks": ""
           },
           "bgcolor": "#E5ECF6",
           "radialaxis": {
            "gridcolor": "white",
            "linecolor": "white",
            "ticks": ""
           }
          },
          "scene": {
           "xaxis": {
            "backgroundcolor": "#E5ECF6",
            "gridcolor": "white",
            "gridwidth": 2,
            "linecolor": "white",
            "showbackground": true,
            "ticks": "",
            "zerolinecolor": "white"
           },
           "yaxis": {
            "backgroundcolor": "#E5ECF6",
            "gridcolor": "white",
            "gridwidth": 2,
            "linecolor": "white",
            "showbackground": true,
            "ticks": "",
            "zerolinecolor": "white"
           },
           "zaxis": {
            "backgroundcolor": "#E5ECF6",
            "gridcolor": "white",
            "gridwidth": 2,
            "linecolor": "white",
            "showbackground": true,
            "ticks": "",
            "zerolinecolor": "white"
           }
          },
          "shapedefaults": {
           "line": {
            "color": "#2a3f5f"
           }
          },
          "ternary": {
           "aaxis": {
            "gridcolor": "white",
            "linecolor": "white",
            "ticks": ""
           },
           "baxis": {
            "gridcolor": "white",
            "linecolor": "white",
            "ticks": ""
           },
           "bgcolor": "#E5ECF6",
           "caxis": {
            "gridcolor": "white",
            "linecolor": "white",
            "ticks": ""
           }
          },
          "title": {
           "x": 0.05
          },
          "xaxis": {
           "automargin": true,
           "gridcolor": "white",
           "linecolor": "white",
           "ticks": "",
           "title": {
            "standoff": 15
           },
           "zerolinecolor": "white",
           "zerolinewidth": 2
          },
          "yaxis": {
           "automargin": true,
           "gridcolor": "white",
           "linecolor": "white",
           "ticks": "",
           "title": {
            "standoff": 15
           },
           "zerolinecolor": "white",
           "zerolinewidth": 2
          }
         }
        }
       }
      }
     },
     "metadata": {},
     "output_type": "display_data"
    }
   ],
   "source": [
    "map_fig = px.scatter_geo(\n",
    "    country_data,\n",
    "    locations = 'iso_alpha',\n",
    "    projection = 'orthographic',\n",
    "    color = 'continent',\n",
    "    opacity=0.8,\n",
    "    hover_name = 'country',\n",
    "    hover_data = ['lifeExp','pop']\n",
    ")\n",
    "\n",
    "map_fig.show()"
   ]
  },
  {
   "attachments": {},
   "cell_type": "markdown",
   "metadata": {},
   "source": [
    "##### Remove Low Responding Countries\n",
    "For accuracy amongst inferential data collected, removing the countries with less than 10 respondents is going to ensure that the generalised values such as mean or median is accurately reflected by a high number of respondents to counteract outliers. \n",
    "\n",
    "Any analysis to do with countries is going to remove the countries as listed below."
   ]
  },
  {
   "cell_type": "code",
   "execution_count": 15,
   "metadata": {},
   "outputs": [
    {
     "data": {
      "text/plain": [
       "Index(['Afghanistan', 'Andorra', 'Angola', 'Antigua and Barbuda', 'Bahrain',\n",
       "       'Barbados', 'Belize', 'Benin', 'Botswana', 'Brunei Darussalam',\n",
       "       'Burkina Faso', 'Burundi', 'Cameroon', 'Cape Verde', 'Côte d'Ivoire',\n",
       "       'Djibouti', 'Dominica', 'Fiji', 'Gabon', 'Guinea', 'Guinea-Bissau',\n",
       "       'Guyana', 'Isle of Man', 'Jamaica', 'Kosovo', 'Kuwait',\n",
       "       'Lao People's Democratic Republic', 'Lesotho', 'Libyan Arab Jamahiriya',\n",
       "       'Liechtenstein', 'Madagascar', 'Malawi', 'Maldives', 'Mali',\n",
       "       'Mauritania', 'Monaco', 'Mozambique', 'Namibia', 'Niger', 'Oman',\n",
       "       'Palau', 'Qatar', 'Rwanda', 'Saint Kitts and Nevis', 'Saint Lucia',\n",
       "       'Saint Vincent and the Grenadines', 'Senegal', 'Sierra Leone',\n",
       "       'Somalia', 'Sudan', 'Suriname', 'Swaziland', 'Tajikistan', 'Togo',\n",
       "       'Trinidad and Tobago', 'Turkmenistan', 'Yemen', 'Zambia', 'Zimbabwe'],\n",
       "      dtype='object', name='Country')"
      ]
     },
     "execution_count": 15,
     "metadata": {},
     "output_type": "execute_result"
    }
   ],
   "source": [
    "# get a count of respondents with different countries\n",
    "country_respondents_count = data.groupby('Country')['Salary'].count()\n",
    "\n",
    "# create mask which has less than 10 respondents per country\n",
    "country_sub_10_respondents_mask = country_respondents_count > 10\n",
    "\n",
    "# extract the list of countries with less than 10 respondents\n",
    "country_sub_10_respondents_list = country_sub_10_respondents_mask[~country_sub_10_respondents_mask].index\n",
    "\n",
    "# output the countries that have been removed\n",
    "country_sub_10_respondents_list"
   ]
  },
  {
   "attachments": {},
   "cell_type": "markdown",
   "metadata": {},
   "source": [
    "The countries listed above that are going to be removed consist of about 650 respondents from Asia, Europe, Oceania, the Middle East and the Carribbean. It is likely that the people who use the website that the survey was collected from does not have as high of an outreach to these countries. Removing this data is going to be useful for understanding the spread of salaries."
   ]
  },
  {
   "cell_type": "code",
   "execution_count": 16,
   "metadata": {},
   "outputs": [
    {
     "name": "stdout",
     "output_type": "stream",
     "text": [
      "Top 10 Countries Median Salary:                            Salary\n",
      "Country                           \n",
      "United States of America 150000.00\n",
      "Switzerland              121238.00\n",
      "Israel                   112257.00\n",
      "Luxembourg               107090.00\n",
      "Nomadic                  100000.00\n",
      "Ireland                   96381.00\n",
      "Australia                 95851.00\n",
      "Denmark                   93173.00\n",
      "Canada                    89222.00\n",
      "Iceland                   85182.00\n"
     ]
    }
   ],
   "source": [
    "# create a list of those countries who have greater than 10 respondents\n",
    "countries_10_plus_respondents = country_sub_10_respondents_mask[country_sub_10_respondents_mask].index.tolist()\n",
    "\n",
    "# create a dataframe with those countries with greater than 10 respondents\n",
    "countries_ten_plus_df = data[data['Country'].isin(countries_10_plus_respondents)]\n",
    "\n",
    "# create a median of each country\n",
    "median_salary_survey_country = countries_ten_plus_df.groupby('Country').median()\n",
    "\n",
    "# sort the data\n",
    "median_salary_survey_country_sorted = median_salary_survey_country.sort_values(by='Salary',ascending=False)\n",
    "\n",
    "# output the top 5\n",
    "print(f'Top 10 Countries Median Salary:{median_salary_survey_country_sorted.head(10)}')"
   ]
  },
  {
   "attachments": {},
   "cell_type": "markdown",
   "metadata": {},
   "source": [
    "The United States of America stands out as an outler with a median income of 150k a year with Switzerland with a median value almost 30k less. The use of the median income reduces the effects of individual outliers who may have far higher incomes which would skew the data. \n",
    "\n",
    "Also observe that there is a country called Nomadic, this is not commonly known as a single country so lets investigate:"
   ]
  },
  {
   "cell_type": "code",
   "execution_count": 17,
   "metadata": {},
   "outputs": [
    {
     "data": {
      "text/plain": [
       "USD\\tUnited States dollar     9\n",
       "EUR European Euro             4\n",
       "DKK\\tDanish krone             1\n",
       "KYD\\tCayman Islands dollar    1\n",
       "BGN\\tBulgarian lev            1\n",
       "INR\\tIndian rupee             1\n",
       "Name: Currency, dtype: int64"
      ]
     },
     "execution_count": 17,
     "metadata": {},
     "output_type": "execute_result"
    }
   ],
   "source": [
    "# look at the currency to try to understand where 'Nomadic' is\n",
    "data[data['Country'] == 'Nomadic']['Currency'].value_counts()"
   ]
  },
  {
   "attachments": {},
   "cell_type": "markdown",
   "metadata": {},
   "source": [
    "The majority currency is in USD and EUR so this does not help much. I am not going to remove the data from the df but it is important to take note.\n",
    "\n",
    "The next question is: do these respondents get paid less on average by their country or is it due to the lack of payment for these jobs in the countries. To answer this, import global median income values. Let's compare the position of the country based on their survey ranking for median salary compared with their global ranking."
   ]
  },
  {
   "attachments": {},
   "cell_type": "markdown",
   "metadata": {},
   "source": [
    "##### Nations with highest Global Median Income"
   ]
  },
  {
   "cell_type": "code",
   "execution_count": 18,
   "metadata": {},
   "outputs": [
    {
     "data": {
      "text/html": [
       "<div>\n",
       "<style scoped>\n",
       "    .dataframe tbody tr th:only-of-type {\n",
       "        vertical-align: middle;\n",
       "    }\n",
       "\n",
       "    .dataframe tbody tr th {\n",
       "        vertical-align: top;\n",
       "    }\n",
       "\n",
       "    .dataframe thead th {\n",
       "        text-align: right;\n",
       "    }\n",
       "</style>\n",
       "<table border=\"1\" class=\"dataframe\">\n",
       "  <thead>\n",
       "    <tr style=\"text-align: right;\">\n",
       "      <th></th>\n",
       "      <th>country</th>\n",
       "      <th>Global Median Salary</th>\n",
       "    </tr>\n",
       "  </thead>\n",
       "  <tbody>\n",
       "    <tr>\n",
       "      <th>2</th>\n",
       "      <td>United States</td>\n",
       "      <td>24327.00</td>\n",
       "    </tr>\n",
       "    <tr>\n",
       "      <th>3</th>\n",
       "      <td>Pakistan</td>\n",
       "      <td>1399.00</td>\n",
       "    </tr>\n",
       "    <tr>\n",
       "      <th>4</th>\n",
       "      <td>Nigeria</td>\n",
       "      <td>825.00</td>\n",
       "    </tr>\n",
       "    <tr>\n",
       "      <th>5</th>\n",
       "      <td>Brazil</td>\n",
       "      <td>4230.00</td>\n",
       "    </tr>\n",
       "    <tr>\n",
       "      <th>6</th>\n",
       "      <td>Bangladesh</td>\n",
       "      <td>1131.00</td>\n",
       "    </tr>\n",
       "    <tr>\n",
       "      <th>...</th>\n",
       "      <td>...</td>\n",
       "      <td>...</td>\n",
       "    </tr>\n",
       "    <tr>\n",
       "      <th>156</th>\n",
       "      <td>Kiribati</td>\n",
       "      <td>1489.00</td>\n",
       "    </tr>\n",
       "    <tr>\n",
       "      <th>157</th>\n",
       "      <td>Micronesia</td>\n",
       "      <td>1413.00</td>\n",
       "    </tr>\n",
       "    <tr>\n",
       "      <th>158</th>\n",
       "      <td>Tonga</td>\n",
       "      <td>2782.00</td>\n",
       "    </tr>\n",
       "    <tr>\n",
       "      <th>159</th>\n",
       "      <td>Seychelles</td>\n",
       "      <td>7118.00</td>\n",
       "    </tr>\n",
       "    <tr>\n",
       "      <th>160</th>\n",
       "      <td>Tuvalu</td>\n",
       "      <td>2099.00</td>\n",
       "    </tr>\n",
       "  </tbody>\n",
       "</table>\n",
       "<p>159 rows × 2 columns</p>\n",
       "</div>"
      ],
      "text/plain": [
       "           country  Global Median Salary\n",
       "2    United States              24327.00\n",
       "3         Pakistan               1399.00\n",
       "4          Nigeria                825.00\n",
       "5           Brazil               4230.00\n",
       "6       Bangladesh               1131.00\n",
       "..             ...                   ...\n",
       "156       Kiribati               1489.00\n",
       "157     Micronesia               1413.00\n",
       "158          Tonga               2782.00\n",
       "159     Seychelles               7118.00\n",
       "160         Tuvalu               2099.00\n",
       "\n",
       "[159 rows x 2 columns]"
      ]
     },
     "execution_count": 18,
     "metadata": {},
     "output_type": "execute_result"
    }
   ],
   "source": [
    "# download median income by country to see how incomes compare\n",
    "global_median_income = pd.read_csv('/Users/ben_nicholson/Visual_Code_Projects/Personal_Projects/Stack Overflow Survey Analysis/Stack-Overflow-Survey-Analysis-2023/imported data/median-income-by-country-2024.csv')\n",
    "\n",
    "# drop na values\n",
    "global_median_income = global_median_income[['country','medianIncomeByCountry_medianIncome']].dropna()\n",
    "\n",
    "# rename columns\n",
    "global_median_income.rename(columns={'medianIncomeByCountry_medianIncome':'Global Median Salary'},inplace=True)\n",
    "\n",
    "# output data\n",
    "global_median_income"
   ]
  },
  {
   "cell_type": "code",
   "execution_count": 19,
   "metadata": {},
   "outputs": [
    {
     "data": {
      "text/html": [
       "<div>\n",
       "<style scoped>\n",
       "    .dataframe tbody tr th:only-of-type {\n",
       "        vertical-align: middle;\n",
       "    }\n",
       "\n",
       "    .dataframe tbody tr th {\n",
       "        vertical-align: top;\n",
       "    }\n",
       "\n",
       "    .dataframe thead th {\n",
       "        text-align: right;\n",
       "    }\n",
       "</style>\n",
       "<table border=\"1\" class=\"dataframe\">\n",
       "  <thead>\n",
       "    <tr style=\"text-align: right;\">\n",
       "      <th></th>\n",
       "      <th>Global Median Salary</th>\n",
       "      <th>Ranking Global Median Salary</th>\n",
       "    </tr>\n",
       "    <tr>\n",
       "      <th>country</th>\n",
       "      <th></th>\n",
       "      <th></th>\n",
       "    </tr>\n",
       "  </thead>\n",
       "  <tbody>\n",
       "    <tr>\n",
       "      <th>Luxembourg</th>\n",
       "      <td>28382.00</td>\n",
       "      <td>1</td>\n",
       "    </tr>\n",
       "    <tr>\n",
       "      <th>United Arab Emirates</th>\n",
       "      <td>26324.00</td>\n",
       "      <td>2</td>\n",
       "    </tr>\n",
       "    <tr>\n",
       "      <th>United States</th>\n",
       "      <td>24327.00</td>\n",
       "      <td>3</td>\n",
       "    </tr>\n",
       "    <tr>\n",
       "      <th>Norway</th>\n",
       "      <td>23835.00</td>\n",
       "      <td>4</td>\n",
       "    </tr>\n",
       "    <tr>\n",
       "      <th>Switzerland</th>\n",
       "      <td>23488.00</td>\n",
       "      <td>5</td>\n",
       "    </tr>\n",
       "    <tr>\n",
       "      <th>...</th>\n",
       "      <td>...</td>\n",
       "      <td>...</td>\n",
       "    </tr>\n",
       "    <tr>\n",
       "      <th>Central African Republic</th>\n",
       "      <td>491.00</td>\n",
       "      <td>155</td>\n",
       "    </tr>\n",
       "    <tr>\n",
       "      <th>Malawi</th>\n",
       "      <td>484.00</td>\n",
       "      <td>156</td>\n",
       "    </tr>\n",
       "    <tr>\n",
       "      <th>Burundi</th>\n",
       "      <td>475.00</td>\n",
       "      <td>157</td>\n",
       "    </tr>\n",
       "    <tr>\n",
       "      <th>Madagascar</th>\n",
       "      <td>398.00</td>\n",
       "      <td>158</td>\n",
       "    </tr>\n",
       "    <tr>\n",
       "      <th>DR Congo</th>\n",
       "      <td>395.00</td>\n",
       "      <td>159</td>\n",
       "    </tr>\n",
       "  </tbody>\n",
       "</table>\n",
       "<p>159 rows × 2 columns</p>\n",
       "</div>"
      ],
      "text/plain": [
       "                          Global Median Salary  Ranking Global Median Salary\n",
       "country                                                                     \n",
       "Luxembourg                            28382.00                             1\n",
       "United Arab Emirates                  26324.00                             2\n",
       "United States                         24327.00                             3\n",
       "Norway                                23835.00                             4\n",
       "Switzerland                           23488.00                             5\n",
       "...                                        ...                           ...\n",
       "Central African Republic                491.00                           155\n",
       "Malawi                                  484.00                           156\n",
       "Burundi                                 475.00                           157\n",
       "Madagascar                              398.00                           158\n",
       "DR Congo                                395.00                           159\n",
       "\n",
       "[159 rows x 2 columns]"
      ]
     },
     "execution_count": 19,
     "metadata": {},
     "output_type": "execute_result"
    }
   ],
   "source": [
    "# sort by median income\n",
    "global_median_income_sorted = global_median_income.sort_values(by='Global Median Salary',ascending=False)\n",
    "\n",
    "# give a number ranking as a new column\n",
    "global_median_income_sorted['Ranking Global Median Salary'] = range(1,len(global_median_income_sorted)+1)\n",
    "\n",
    "global_median_income_sorted.set_index('country',inplace=True)\n",
    "\n",
    "global_median_income_sorted"
   ]
  },
  {
   "cell_type": "code",
   "execution_count": 20,
   "metadata": {},
   "outputs": [],
   "source": [
    "# rename column\n",
    "median_salary_survey_country_sorted.rename(columns={'Salary':'Survey Median Salary'},inplace=True)\n",
    "\n",
    "# create ranking\n",
    "median_salary_survey_country_sorted['Ranking Survey Median Salary'] = range(1,len(median_salary_survey_country)+1)\n",
    "\n",
    "# reset index to replace values in country column\n",
    "median_salary_survey_country_sorted.reset_index(inplace=True)\n",
    "\n",
    "# replace values so that they can be similar with other df\n",
    "median_salary_survey_country_sorted['Country'] = median_salary_survey_country_sorted['Country'].replace({\n",
    "    'United States of America': 'United States',\n",
    "    'United Kingdom of Great Britain and Northern Ireland': 'United Kingdom'\n",
    "})\n",
    "\n",
    "# set country to index so that it can join with global median df\n",
    "median_salary_survey_country_sorted.set_index('Country',inplace=True)"
   ]
  },
  {
   "cell_type": "code",
   "execution_count": 21,
   "metadata": {},
   "outputs": [
    {
     "data": {
      "text/html": [
       "<div>\n",
       "<style scoped>\n",
       "    .dataframe tbody tr th:only-of-type {\n",
       "        vertical-align: middle;\n",
       "    }\n",
       "\n",
       "    .dataframe tbody tr th {\n",
       "        vertical-align: top;\n",
       "    }\n",
       "\n",
       "    .dataframe thead th {\n",
       "        text-align: right;\n",
       "    }\n",
       "</style>\n",
       "<table border=\"1\" class=\"dataframe\">\n",
       "  <thead>\n",
       "    <tr style=\"text-align: right;\">\n",
       "      <th></th>\n",
       "      <th>Survey Median Salary</th>\n",
       "      <th>Ranking Survey Median Salary</th>\n",
       "      <th>Global Median Salary</th>\n",
       "      <th>Ranking Global Median Salary</th>\n",
       "    </tr>\n",
       "  </thead>\n",
       "  <tbody>\n",
       "    <tr>\n",
       "      <th>United States</th>\n",
       "      <td>150000.00</td>\n",
       "      <td>1</td>\n",
       "      <td>24327.00</td>\n",
       "      <td>3</td>\n",
       "    </tr>\n",
       "    <tr>\n",
       "      <th>Switzerland</th>\n",
       "      <td>121238.00</td>\n",
       "      <td>2</td>\n",
       "      <td>23488.00</td>\n",
       "      <td>5</td>\n",
       "    </tr>\n",
       "    <tr>\n",
       "      <th>Israel</th>\n",
       "      <td>112257.00</td>\n",
       "      <td>3</td>\n",
       "      <td>12282.00</td>\n",
       "      <td>30</td>\n",
       "    </tr>\n",
       "    <tr>\n",
       "      <th>Luxembourg</th>\n",
       "      <td>107090.00</td>\n",
       "      <td>4</td>\n",
       "      <td>28382.00</td>\n",
       "      <td>1</td>\n",
       "    </tr>\n",
       "    <tr>\n",
       "      <th>Ireland</th>\n",
       "      <td>96381.00</td>\n",
       "      <td>6</td>\n",
       "      <td>17962.00</td>\n",
       "      <td>17</td>\n",
       "    </tr>\n",
       "    <tr>\n",
       "      <th>Australia</th>\n",
       "      <td>95851.00</td>\n",
       "      <td>7</td>\n",
       "      <td>19363.00</td>\n",
       "      <td>12</td>\n",
       "    </tr>\n",
       "    <tr>\n",
       "      <th>Denmark</th>\n",
       "      <td>93173.00</td>\n",
       "      <td>8</td>\n",
       "      <td>20593.00</td>\n",
       "      <td>9</td>\n",
       "    </tr>\n",
       "    <tr>\n",
       "      <th>Canada</th>\n",
       "      <td>89222.00</td>\n",
       "      <td>9</td>\n",
       "      <td>20550.00</td>\n",
       "      <td>10</td>\n",
       "    </tr>\n",
       "    <tr>\n",
       "      <th>Iceland</th>\n",
       "      <td>85182.00</td>\n",
       "      <td>10</td>\n",
       "      <td>20630.00</td>\n",
       "      <td>8</td>\n",
       "    </tr>\n",
       "    <tr>\n",
       "      <th>United Kingdom</th>\n",
       "      <td>81931.00</td>\n",
       "      <td>11</td>\n",
       "      <td>16907.00</td>\n",
       "      <td>19</td>\n",
       "    </tr>\n",
       "  </tbody>\n",
       "</table>\n",
       "</div>"
      ],
      "text/plain": [
       "                Survey Median Salary  Ranking Survey Median Salary  \\\n",
       "United States              150000.00                             1   \n",
       "Switzerland                121238.00                             2   \n",
       "Israel                     112257.00                             3   \n",
       "Luxembourg                 107090.00                             4   \n",
       "Ireland                     96381.00                             6   \n",
       "Australia                   95851.00                             7   \n",
       "Denmark                     93173.00                             8   \n",
       "Canada                      89222.00                             9   \n",
       "Iceland                     85182.00                            10   \n",
       "United Kingdom              81931.00                            11   \n",
       "\n",
       "                Global Median Salary  Ranking Global Median Salary  \n",
       "United States               24327.00                             3  \n",
       "Switzerland                 23488.00                             5  \n",
       "Israel                      12282.00                            30  \n",
       "Luxembourg                  28382.00                             1  \n",
       "Ireland                     17962.00                            17  \n",
       "Australia                   19363.00                            12  \n",
       "Denmark                     20593.00                             9  \n",
       "Canada                      20550.00                            10  \n",
       "Iceland                     20630.00                             8  \n",
       "United Kingdom              16907.00                            19  "
      ]
     },
     "execution_count": 21,
     "metadata": {},
     "output_type": "execute_result"
    }
   ],
   "source": [
    "# merge the two dataframes to compare rankings with one another\n",
    "salary_comparison_df = median_salary_survey_country_sorted.merge(global_median_income_sorted,left_index=True,right_index=True)\n",
    "\n",
    "# show the top 10\n",
    "salary_comparison_df.sort_values(by='Survey Median Salary',ascending=False).head(10)"
   ]
  },
  {
   "attachments": {},
   "cell_type": "markdown",
   "metadata": {},
   "source": [
    "Notice that the median salary for survey respondents seem to perform overall much better than their global median salary. This suggests that these countries such as Israel, Ireland, Australia and United Kingdom are paying their Data jobs at a better rate than other jobs."
   ]
  },
  {
   "attachments": {},
   "cell_type": "markdown",
   "metadata": {},
   "source": [
    "##### Spread of Nations Pay for Data Roles"
   ]
  },
  {
   "cell_type": "code",
   "execution_count": 22,
   "metadata": {},
   "outputs": [
    {
     "data": {
      "image/png": "[encoded data removed]",
      "text/plain": [
       "<Figure size 1000x600 with 1 Axes>"
      ]
     },
     "metadata": {},
     "output_type": "display_data"
    }
   ],
   "source": [
    "# plot all the countries median salaries\n",
    "plot_histogram(median_salary_survey_country,10,'Median Income per Country','Median Income','Frequency')"
   ]
  },
  {
   "attachments": {},
   "cell_type": "markdown",
   "metadata": {},
   "source": [
    "Notice that only a small percentage of countries are paying their Data roles at greater than 60k a year. Meanwhile some nations are recieving between 0-20k which is likely due to the lower median salary of these nations, let's look at the opposite end of the survey salary vs global median salary rankings"
   ]
  },
  {
   "cell_type": "code",
   "execution_count": 23,
   "metadata": {},
   "outputs": [
    {
     "data": {
      "text/html": [
       "<div>\n",
       "<style scoped>\n",
       "    .dataframe tbody tr th:only-of-type {\n",
       "        vertical-align: middle;\n",
       "    }\n",
       "\n",
       "    .dataframe tbody tr th {\n",
       "        vertical-align: top;\n",
       "    }\n",
       "\n",
       "    .dataframe thead th {\n",
       "        text-align: right;\n",
       "    }\n",
       "</style>\n",
       "<table border=\"1\" class=\"dataframe\">\n",
       "  <thead>\n",
       "    <tr style=\"text-align: right;\">\n",
       "      <th></th>\n",
       "      <th>Survey Median Salary</th>\n",
       "      <th>Ranking Survey Median Salary</th>\n",
       "      <th>Global Median Salary</th>\n",
       "      <th>Ranking Global Median Salary</th>\n",
       "    </tr>\n",
       "  </thead>\n",
       "  <tbody>\n",
       "    <tr>\n",
       "      <th>Myanmar</th>\n",
       "      <td>2385.00</td>\n",
       "      <td>112</td>\n",
       "      <td>1909.00</td>\n",
       "      <td>102</td>\n",
       "    </tr>\n",
       "    <tr>\n",
       "      <th>Ghana</th>\n",
       "      <td>4437.00</td>\n",
       "      <td>111</td>\n",
       "      <td>1779.00</td>\n",
       "      <td>104</td>\n",
       "    </tr>\n",
       "    <tr>\n",
       "      <th>Ethiopia</th>\n",
       "      <td>4841.00</td>\n",
       "      <td>110</td>\n",
       "      <td>907.00</td>\n",
       "      <td>130</td>\n",
       "    </tr>\n",
       "    <tr>\n",
       "      <th>Pakistan</th>\n",
       "      <td>5952.00</td>\n",
       "      <td>109</td>\n",
       "      <td>1399.00</td>\n",
       "      <td>114</td>\n",
       "    </tr>\n",
       "    <tr>\n",
       "      <th>Nepal</th>\n",
       "      <td>6063.00</td>\n",
       "      <td>108</td>\n",
       "      <td>1155.00</td>\n",
       "      <td>121</td>\n",
       "    </tr>\n",
       "    <tr>\n",
       "      <th>Bangladesh</th>\n",
       "      <td>6508.00</td>\n",
       "      <td>106</td>\n",
       "      <td>1131.00</td>\n",
       "      <td>123</td>\n",
       "    </tr>\n",
       "    <tr>\n",
       "      <th>Egypt</th>\n",
       "      <td>7954.00</td>\n",
       "      <td>103</td>\n",
       "      <td>1485.00</td>\n",
       "      <td>110</td>\n",
       "    </tr>\n",
       "    <tr>\n",
       "      <th>Tunisia</th>\n",
       "      <td>8030.00</td>\n",
       "      <td>102</td>\n",
       "      <td>3366.00</td>\n",
       "      <td>69</td>\n",
       "    </tr>\n",
       "    <tr>\n",
       "      <th>Algeria</th>\n",
       "      <td>8782.00</td>\n",
       "      <td>101</td>\n",
       "      <td>2612.00</td>\n",
       "      <td>85</td>\n",
       "    </tr>\n",
       "    <tr>\n",
       "      <th>Uganda</th>\n",
       "      <td>9654.00</td>\n",
       "      <td>100</td>\n",
       "      <td>804.00</td>\n",
       "      <td>139</td>\n",
       "    </tr>\n",
       "    <tr>\n",
       "      <th>Kenya</th>\n",
       "      <td>9871.50</td>\n",
       "      <td>99</td>\n",
       "      <td>874.00</td>\n",
       "      <td>135</td>\n",
       "    </tr>\n",
       "    <tr>\n",
       "      <th>Iraq</th>\n",
       "      <td>9987.50</td>\n",
       "      <td>98</td>\n",
       "      <td>1951.00</td>\n",
       "      <td>100</td>\n",
       "    </tr>\n",
       "    <tr>\n",
       "      <th>Sri Lanka</th>\n",
       "      <td>10162.50</td>\n",
       "      <td>97</td>\n",
       "      <td>2277.00</td>\n",
       "      <td>91</td>\n",
       "    </tr>\n",
       "    <tr>\n",
       "      <th>Nigeria</th>\n",
       "      <td>10398.00</td>\n",
       "      <td>96</td>\n",
       "      <td>825.00</td>\n",
       "      <td>138</td>\n",
       "    </tr>\n",
       "    <tr>\n",
       "      <th>Albania</th>\n",
       "      <td>10741.00</td>\n",
       "      <td>95</td>\n",
       "      <td>3358.00</td>\n",
       "      <td>70</td>\n",
       "    </tr>\n",
       "    <tr>\n",
       "      <th>Uzbekistan</th>\n",
       "      <td>11000.00</td>\n",
       "      <td>94</td>\n",
       "      <td>591.00</td>\n",
       "      <td>152</td>\n",
       "    </tr>\n",
       "    <tr>\n",
       "      <th>Mongolia</th>\n",
       "      <td>11365.00</td>\n",
       "      <td>93</td>\n",
       "      <td>2800.00</td>\n",
       "      <td>80</td>\n",
       "    </tr>\n",
       "    <tr>\n",
       "      <th>Morocco</th>\n",
       "      <td>11824.00</td>\n",
       "      <td>92</td>\n",
       "      <td>2716.00</td>\n",
       "      <td>83</td>\n",
       "    </tr>\n",
       "    <tr>\n",
       "      <th>Bolivia</th>\n",
       "      <td>12594.00</td>\n",
       "      <td>89</td>\n",
       "      <td>5442.00</td>\n",
       "      <td>52</td>\n",
       "    </tr>\n",
       "    <tr>\n",
       "      <th>Lebanon</th>\n",
       "      <td>16200.00</td>\n",
       "      <td>85</td>\n",
       "      <td>7712.00</td>\n",
       "      <td>42</td>\n",
       "    </tr>\n",
       "  </tbody>\n",
       "</table>\n",
       "</div>"
      ],
      "text/plain": [
       "            Survey Median Salary  Ranking Survey Median Salary  \\\n",
       "Myanmar                  2385.00                           112   \n",
       "Ghana                    4437.00                           111   \n",
       "Ethiopia                 4841.00                           110   \n",
       "Pakistan                 5952.00                           109   \n",
       "Nepal                    6063.00                           108   \n",
       "Bangladesh               6508.00                           106   \n",
       "Egypt                    7954.00                           103   \n",
       "Tunisia                  8030.00                           102   \n",
       "Algeria                  8782.00                           101   \n",
       "Uganda                   9654.00                           100   \n",
       "Kenya                    9871.50                            99   \n",
       "Iraq                     9987.50                            98   \n",
       "Sri Lanka               10162.50                            97   \n",
       "Nigeria                 10398.00                            96   \n",
       "Albania                 10741.00                            95   \n",
       "Uzbekistan              11000.00                            94   \n",
       "Mongolia                11365.00                            93   \n",
       "Morocco                 11824.00                            92   \n",
       "Bolivia                 12594.00                            89   \n",
       "Lebanon                 16200.00                            85   \n",
       "\n",
       "            Global Median Salary  Ranking Global Median Salary  \n",
       "Myanmar                  1909.00                           102  \n",
       "Ghana                    1779.00                           104  \n",
       "Ethiopia                  907.00                           130  \n",
       "Pakistan                 1399.00                           114  \n",
       "Nepal                    1155.00                           121  \n",
       "Bangladesh               1131.00                           123  \n",
       "Egypt                    1485.00                           110  \n",
       "Tunisia                  3366.00                            69  \n",
       "Algeria                  2612.00                            85  \n",
       "Uganda                    804.00                           139  \n",
       "Kenya                     874.00                           135  \n",
       "Iraq                     1951.00                           100  \n",
       "Sri Lanka                2277.00                            91  \n",
       "Nigeria                   825.00                           138  \n",
       "Albania                  3358.00                            70  \n",
       "Uzbekistan                591.00                           152  \n",
       "Mongolia                 2800.00                            80  \n",
       "Morocco                  2716.00                            83  \n",
       "Bolivia                  5442.00                            52  \n",
       "Lebanon                  7712.00                            42  "
      ]
     },
     "execution_count": 23,
     "metadata": {},
     "output_type": "execute_result"
    }
   ],
   "source": [
    "# show the lowest 20 countries for median pay\n",
    "salary_comparison_df.tail(20).sort_values(by='Survey Median Salary',ascending=True)"
   ]
  },
  {
   "attachments": {},
   "cell_type": "markdown",
   "metadata": {},
   "source": [
    "The comparison also shows that those countries with lower Median salaries in the survey are also those with lower Global Median Salaries. Notice that those in Data role are still earning far higher than the average for every country. Proving that these roles are lucaritve in every country. However this highlights an even greater wealth distribution problem amonst nations as a majority of countries typical person is earning less than 60k a year while a typical person in the US is earnign 150k a year."
   ]
  },
  {
   "attachments": {},
   "cell_type": "markdown",
   "metadata": {},
   "source": [
    "##### Compare Global Income level with Survey Data\n",
    "As it is difficult to generalise countries data for future predictive analysis, import data by the world bank and compare how the low income, lower middle income, upperm iddle income and high income compares with the median salaries of countries. The goal is to then have 4 different nation types for their salaries to then be included in a predictive model."
   ]
  },
  {
   "cell_type": "code",
   "execution_count": 24,
   "metadata": {},
   "outputs": [
    {
     "data": {
      "text/html": [
       "<div>\n",
       "<style scoped>\n",
       "    .dataframe tbody tr th:only-of-type {\n",
       "        vertical-align: middle;\n",
       "    }\n",
       "\n",
       "    .dataframe tbody tr th {\n",
       "        vertical-align: top;\n",
       "    }\n",
       "\n",
       "    .dataframe thead th {\n",
       "        text-align: right;\n",
       "    }\n",
       "</style>\n",
       "<table border=\"1\" class=\"dataframe\">\n",
       "  <thead>\n",
       "    <tr style=\"text-align: right;\">\n",
       "      <th></th>\n",
       "      <th>Income Level (imported data)</th>\n",
       "    </tr>\n",
       "    <tr>\n",
       "      <th>Economy</th>\n",
       "      <th></th>\n",
       "    </tr>\n",
       "  </thead>\n",
       "  <tbody>\n",
       "    <tr>\n",
       "      <th>Aruba</th>\n",
       "      <td>High income</td>\n",
       "    </tr>\n",
       "    <tr>\n",
       "      <th>Afghanistan</th>\n",
       "      <td>Low income</td>\n",
       "    </tr>\n",
       "    <tr>\n",
       "      <th>Angola</th>\n",
       "      <td>Lower middle income</td>\n",
       "    </tr>\n",
       "    <tr>\n",
       "      <th>Albania</th>\n",
       "      <td>Upper middle income</td>\n",
       "    </tr>\n",
       "    <tr>\n",
       "      <th>Andorra</th>\n",
       "      <td>High income</td>\n",
       "    </tr>\n",
       "    <tr>\n",
       "      <th>...</th>\n",
       "      <td>...</td>\n",
       "    </tr>\n",
       "    <tr>\n",
       "      <th>Sub-Saharan Africa</th>\n",
       "      <td>NaN</td>\n",
       "    </tr>\n",
       "    <tr>\n",
       "      <th>Sub-Saharan Africa (excluding high income)</th>\n",
       "      <td>NaN</td>\n",
       "    </tr>\n",
       "    <tr>\n",
       "      <th>Sub-Saharan Africa (IDA &amp; IBRD)</th>\n",
       "      <td>NaN</td>\n",
       "    </tr>\n",
       "    <tr>\n",
       "      <th>Upper middle income</th>\n",
       "      <td>NaN</td>\n",
       "    </tr>\n",
       "    <tr>\n",
       "      <th>World</th>\n",
       "      <td>NaN</td>\n",
       "    </tr>\n",
       "  </tbody>\n",
       "</table>\n",
       "<p>267 rows × 1 columns</p>\n",
       "</div>"
      ],
      "text/plain": [
       "                                           Income Level (imported data)\n",
       "Economy                                                                \n",
       "Aruba                                                       High income\n",
       "Afghanistan                                                  Low income\n",
       "Angola                                              Lower middle income\n",
       "Albania                                             Upper middle income\n",
       "Andorra                                                     High income\n",
       "...                                                                 ...\n",
       "Sub-Saharan Africa                                                  NaN\n",
       "Sub-Saharan Africa (excluding high income)                          NaN\n",
       "Sub-Saharan Africa (IDA & IBRD)                                     NaN\n",
       "Upper middle income                                                 NaN\n",
       "World                                                               NaN\n",
       "\n",
       "[267 rows x 1 columns]"
      ]
     },
     "execution_count": 24,
     "metadata": {},
     "output_type": "execute_result"
    }
   ],
   "source": [
    "# import the data from excel\n",
    "income_class = pd.read_excel('/Users/ben_nicholson/Visual_Code_Projects/Personal_Projects/Stack Overflow Survey Analysis/Stack-Overflow-Survey-Analysis-2023/imported data/CLASS.xlsx')\n",
    "\n",
    "# choose the specific columns that are relevant\n",
    "income_class = income_class[['Economy','Income group']]\n",
    "\n",
    "income_class.rename(columns={'Income group':'Income Level (imported data)'},inplace=True)\n",
    "\n",
    "# set the index to economy (country)\n",
    "income_class.set_index('Economy',inplace=True)\n",
    "\n",
    "# output the data\n",
    "income_class"
   ]
  },
  {
   "cell_type": "code",
   "execution_count": 25,
   "metadata": {},
   "outputs": [],
   "source": [
    "\n",
    "# Assuming median_salary_survey_country is a DataFrame containing 'Salary' column\n",
    "\n",
    "# Calculate max and min values\n",
    "median_salary_country_max_value = median_salary_survey_country['Salary'].max()\n",
    "median_salary_country_min_value = median_salary_survey_country['Salary'].min()\n",
    "\n",
    "# Calculate the range (difference between max and min)\n",
    "min_max_difference_median_salary_country = median_salary_country_max_value - median_salary_country_min_value\n",
    "\n",
    "# Normalize salaries by dividing each by the range\n",
    "median_salary_survey_country_min_max = median_salary_survey_country['Salary'] / min_max_difference_median_salary_country\n",
    "\n",
    "# Calculate percentiles\n",
    "salary_percentiles = np.percentile(median_salary_survey_country_min_max, [25, 50, 75, 100])\n",
    "\n",
    "# Define income classes based on percentiles\n",
    "income_class_low = salary_percentiles[0]\n",
    "income_class_low_middle = salary_percentiles[1]\n",
    "income_class_middle = salary_percentiles[2]\n",
    "income_class_high = salary_percentiles[3]\n",
    "\n",
    "# Function to classify income based on normalized salary\n",
    "def classify_income(salary):\n",
    "    if salary <= income_class_low:\n",
    "        return 'Low income'\n",
    "    elif salary <= income_class_low_middle:\n",
    "        return 'Lower middle Income'\n",
    "    elif salary <= income_class_middle:\n",
    "        return 'Upper middle Income'\n",
    "    else:\n",
    "        return 'High income'"
   ]
  },
  {
   "cell_type": "code",
   "execution_count": 26,
   "metadata": {},
   "outputs": [
    {
     "data": {
      "text/html": [
       "<div>\n",
       "<style scoped>\n",
       "    .dataframe tbody tr th:only-of-type {\n",
       "        vertical-align: middle;\n",
       "    }\n",
       "\n",
       "    .dataframe tbody tr th {\n",
       "        vertical-align: top;\n",
       "    }\n",
       "\n",
       "    .dataframe thead th {\n",
       "        text-align: right;\n",
       "    }\n",
       "</style>\n",
       "<table border=\"1\" class=\"dataframe\">\n",
       "  <thead>\n",
       "    <tr style=\"text-align: right;\">\n",
       "      <th></th>\n",
       "      <th>Salary</th>\n",
       "      <th>Survey IncomeGroup</th>\n",
       "      <th>Income Level (imported data)</th>\n",
       "    </tr>\n",
       "  </thead>\n",
       "  <tbody>\n",
       "    <tr>\n",
       "      <th>Albania</th>\n",
       "      <td>10741.00</td>\n",
       "      <td>Low income</td>\n",
       "      <td>Upper middle income</td>\n",
       "    </tr>\n",
       "    <tr>\n",
       "      <th>Algeria</th>\n",
       "      <td>8782.00</td>\n",
       "      <td>Low income</td>\n",
       "      <td>Lower middle income</td>\n",
       "    </tr>\n",
       "    <tr>\n",
       "      <th>Argentina</th>\n",
       "      <td>30000.00</td>\n",
       "      <td>Lower middle Income</td>\n",
       "      <td>Upper middle income</td>\n",
       "    </tr>\n",
       "    <tr>\n",
       "      <th>Armenia</th>\n",
       "      <td>52054.00</td>\n",
       "      <td>Upper middle Income</td>\n",
       "      <td>Upper middle income</td>\n",
       "    </tr>\n",
       "    <tr>\n",
       "      <th>Australia</th>\n",
       "      <td>95851.00</td>\n",
       "      <td>High income</td>\n",
       "      <td>High income</td>\n",
       "    </tr>\n",
       "    <tr>\n",
       "      <th>...</th>\n",
       "      <td>...</td>\n",
       "      <td>...</td>\n",
       "      <td>...</td>\n",
       "    </tr>\n",
       "    <tr>\n",
       "      <th>Uganda</th>\n",
       "      <td>9654.00</td>\n",
       "      <td>Low income</td>\n",
       "      <td>Low income</td>\n",
       "    </tr>\n",
       "    <tr>\n",
       "      <th>Ukraine</th>\n",
       "      <td>44420.00</td>\n",
       "      <td>Upper middle Income</td>\n",
       "      <td>Lower middle income</td>\n",
       "    </tr>\n",
       "    <tr>\n",
       "      <th>United Arab Emirates</th>\n",
       "      <td>58792.00</td>\n",
       "      <td>High income</td>\n",
       "      <td>High income</td>\n",
       "    </tr>\n",
       "    <tr>\n",
       "      <th>Uruguay</th>\n",
       "      <td>50996.00</td>\n",
       "      <td>Upper middle Income</td>\n",
       "      <td>High income</td>\n",
       "    </tr>\n",
       "    <tr>\n",
       "      <th>Uzbekistan</th>\n",
       "      <td>11000.00</td>\n",
       "      <td>Low income</td>\n",
       "      <td>Lower middle income</td>\n",
       "    </tr>\n",
       "  </tbody>\n",
       "</table>\n",
       "<p>93 rows × 3 columns</p>\n",
       "</div>"
      ],
      "text/plain": [
       "                       Salary   Survey IncomeGroup  \\\n",
       "Albania              10741.00           Low income   \n",
       "Algeria               8782.00           Low income   \n",
       "Argentina            30000.00  Lower middle Income   \n",
       "Armenia              52054.00  Upper middle Income   \n",
       "Australia            95851.00          High income   \n",
       "...                       ...                  ...   \n",
       "Uganda                9654.00           Low income   \n",
       "Ukraine              44420.00  Upper middle Income   \n",
       "United Arab Emirates 58792.00          High income   \n",
       "Uruguay              50996.00  Upper middle Income   \n",
       "Uzbekistan           11000.00           Low income   \n",
       "\n",
       "                     Income Level (imported data)  \n",
       "Albania                       Upper middle income  \n",
       "Algeria                       Lower middle income  \n",
       "Argentina                     Upper middle income  \n",
       "Armenia                       Upper middle income  \n",
       "Australia                             High income  \n",
       "...                                           ...  \n",
       "Uganda                                 Low income  \n",
       "Ukraine                       Lower middle income  \n",
       "United Arab Emirates                  High income  \n",
       "Uruguay                               High income  \n",
       "Uzbekistan                    Lower middle income  \n",
       "\n",
       "[93 rows x 3 columns]"
      ]
     },
     "execution_count": 26,
     "metadata": {},
     "output_type": "execute_result"
    }
   ],
   "source": [
    "# Apply the classification function to each element in the Series\n",
    "income_groups = median_salary_survey_country_min_max.apply(classify_income)\n",
    "\n",
    "# Add the income_groups to your DataFrame for further analysis if needed\n",
    "median_salary_survey_country['Survey IncomeGroup'] = income_groups\n",
    "\n",
    "income_group_comparison = median_salary_survey_country.merge(income_class,left_index=True,right_index=True)\n",
    "income_group_comparison"
   ]
  },
  {
   "attachments": {},
   "cell_type": "markdown",
   "metadata": {},
   "source": [
    "#### 3.2 Salaries with Different Education Levels\n",
    "From looking at the inital demographics, it is clear that a majority of those who answered this have some type of degree. Let's try to see how much on average an individual will make as a result of obtaining a new degree"
   ]
  },
  {
   "cell_type": "code",
   "execution_count": 27,
   "metadata": {},
   "outputs": [
    {
     "name": "stderr",
     "output_type": "stream",
     "text": [
      "/var/folders/6q/lw13gkln44z1r6ncfrmcbc5w0000gn/T/ipykernel_61199/3993256672.py:12: SettingWithCopyWarning:\n",
      "\n",
      "\n",
      "A value is trying to be set on a copy of a slice from a DataFrame.\n",
      "Try using .loc[row_indexer,col_indexer] = value instead\n",
      "\n",
      "See the caveats in the documentation: https://pandas.pydata.org/pandas-docs/stable/user_guide/indexing.html#returning-a-view-versus-a-copy\n",
      "\n"
     ]
    },
    {
     "data": {
      "text/plain": [
       "array([\"Bachelor's degree\", 'Some university', \"Master's degree\",\n",
       "       'Primrary/elemntary school', 'Professional degree',\n",
       "       'Associate degree', 'Secondary school', 'Something else'],\n",
       "      dtype=object)"
      ]
     },
     "execution_count": 27,
     "metadata": {},
     "output_type": "execute_result"
    }
   ],
   "source": [
    "# rename the list of EdLevel to be more simple\n",
    "ed_level_unique = data['EdLevel'].dropna().unique()\n",
    "\n",
    "# create a new list of names for different education level\n",
    "ed_level_unique_new = [\"Bachelor's degree\",'Some university',\"Master's degree\",'Primrary/elemntary school',\n",
    "                   'Professional degree','Associate degree','Secondary school','Something else']\n",
    "\n",
    "# using the dict(zip) allows you to replace the old list with a mapping of new values\n",
    "ed_level_map = dict(zip(ed_level_unique,ed_level_unique_new))\n",
    "\n",
    "# replace the old values with the new ones\n",
    "data['EdLevel'] = data['EdLevel'].replace(ed_level_map)\n",
    "\n",
    "# observe the new unique values\n",
    "data['EdLevel'].unique()"
   ]
  },
  {
   "cell_type": "code",
   "execution_count": 28,
   "metadata": {},
   "outputs": [],
   "source": [
    "# group by different education levels\n",
    "median_salary_survey_edlevel = data.groupby('EdLevel')['Salary'].median()"
   ]
  },
  {
   "cell_type": "code",
   "execution_count": 29,
   "metadata": {},
   "outputs": [
    {
     "data": {
      "text/plain": [
       "array([5, 3, 6, 1, 7, 4, 2, 0])"
      ]
     },
     "execution_count": 29,
     "metadata": {},
     "output_type": "execute_result"
    }
   ],
   "source": [
    "# this data can be sorted to be ordinal values\n",
    "# use the same order from above to replace \n",
    "ed_level_numeric = [5,3,6,1,7,4,2,0]\n",
    "\n",
    "# use the same dict(zip) from before to replace the categorical variable as a one hot encoded variable\n",
    "ed_level_one_hot_map = dict(zip(ed_level_unique_new,ed_level_numeric))\n",
    "\n",
    "# create a dataframe which replaces categorical variables with their one hot encoded values\n",
    "# define it as numerical as the goal is to only have numeric values\n",
    "data_numeric = data.copy()\n",
    "\n",
    "# change the 'EdLevel' to the mapping values of the one hot encoded values\n",
    "data_numeric['EdLevel'] = data_numeric['EdLevel'].replace(ed_level_one_hot_map)\n",
    "\n",
    "# ensure that the new values are clearly observed in the df\n",
    "data_numeric['EdLevel'].unique()"
   ]
  },
  {
   "cell_type": "code",
   "execution_count": 30,
   "metadata": {},
   "outputs": [
    {
     "data": {
      "image/png": "[encoded data removed]",
      "text/plain": [
       "<Figure size 1000x600 with 1 Axes>"
      ]
     },
     "metadata": {},
     "output_type": "display_data"
    }
   ],
   "source": [
    "# create a dataframe that orders the data based on education\n",
    "# the top values will start with PhD's then work down to some other experience of school education\n",
    "data_sorted_education = data_numeric.sort_values(by='EdLevel',ascending=False)\n",
    "\n",
    "# create a bar chart to explain the salary comparison with different degrees\n",
    "plt.figure(figsize=(10, 6))\n",
    "plt.bar(ed_level_numeric, median_salary_survey_edlevel, color='skyblue')\n",
    "plt.title('Median Salary vs Education Level')\n",
    "plt.xlabel('Education Level')\n",
    "plt.ylabel('Median Salary')\n",
    "plt.xticks(ed_level_numeric, ed_level_unique_new, rotation=90)  # Set x-axis labels and rotation\n",
    "plt.show()"
   ]
  },
  {
   "cell_type": "code",
   "execution_count": 31,
   "metadata": {},
   "outputs": [
    {
     "data": {
      "text/plain": [
       "Bachelor's degree            115\n",
       "Master's degree               58\n",
       "Some university               36\n",
       "Secondary school              14\n",
       "Professional degree           11\n",
       "Primrary/elemntary school      9\n",
       "Something else                 6\n",
       "Associate degree               6\n",
       "Name: EdLevel, dtype: int64"
      ]
     },
     "execution_count": 31,
     "metadata": {},
     "output_type": "execute_result"
    }
   ],
   "source": [
    "data[data['Salary']<100]['EdLevel'].value_counts()"
   ]
  },
  {
   "cell_type": "code",
   "execution_count": 32,
   "metadata": {},
   "outputs": [
    {
     "data": {
      "text/html": [
       "<div>\n",
       "<style scoped>\n",
       "    .dataframe tbody tr th:only-of-type {\n",
       "        vertical-align: middle;\n",
       "    }\n",
       "\n",
       "    .dataframe tbody tr th {\n",
       "        vertical-align: top;\n",
       "    }\n",
       "\n",
       "    .dataframe thead th {\n",
       "        text-align: right;\n",
       "    }\n",
       "</style>\n",
       "<table border=\"1\" class=\"dataframe\">\n",
       "  <thead>\n",
       "    <tr style=\"text-align: right;\">\n",
       "      <th></th>\n",
       "      <th>Salary</th>\n",
       "    </tr>\n",
       "    <tr>\n",
       "      <th>EdLevel</th>\n",
       "      <th></th>\n",
       "    </tr>\n",
       "  </thead>\n",
       "  <tbody>\n",
       "    <tr>\n",
       "      <th>Associate degree</th>\n",
       "      <td>84504.09</td>\n",
       "    </tr>\n",
       "    <tr>\n",
       "      <th>Bachelor's degree</th>\n",
       "      <td>92294.66</td>\n",
       "    </tr>\n",
       "    <tr>\n",
       "      <th>Master's degree</th>\n",
       "      <td>89825.19</td>\n",
       "    </tr>\n",
       "    <tr>\n",
       "      <th>Primrary/elemntary school</th>\n",
       "      <td>73433.40</td>\n",
       "    </tr>\n",
       "    <tr>\n",
       "      <th>Professional degree</th>\n",
       "      <td>96731.76</td>\n",
       "    </tr>\n",
       "    <tr>\n",
       "      <th>Secondary school</th>\n",
       "      <td>67291.98</td>\n",
       "    </tr>\n",
       "    <tr>\n",
       "      <th>Some university</th>\n",
       "      <td>83603.00</td>\n",
       "    </tr>\n",
       "    <tr>\n",
       "      <th>Something else</th>\n",
       "      <td>64490.44</td>\n",
       "    </tr>\n",
       "  </tbody>\n",
       "</table>\n",
       "</div>"
      ],
      "text/plain": [
       "                            Salary\n",
       "EdLevel                           \n",
       "Associate degree          84504.09\n",
       "Bachelor's degree         92294.66\n",
       "Master's degree           89825.19\n",
       "Primrary/elemntary school 73433.40\n",
       "Professional degree       96731.76\n",
       "Secondary school          67291.98\n",
       "Some university           83603.00\n",
       "Something else            64490.44"
      ]
     },
     "execution_count": 32,
     "metadata": {},
     "output_type": "execute_result"
    }
   ],
   "source": [
    "mean_salary_survey_edlevel = data.groupby('EdLevel').mean()\n",
    "mean_salary_survey_edlevel"
   ]
  },
  {
   "attachments": {},
   "cell_type": "markdown",
   "metadata": {},
   "source": [
    "You can observe that the median value does not change much across different levels of education especially for those going from anything greater than secondary education all the way to a professional degree."
   ]
  },
  {
   "attachments": {},
   "cell_type": "markdown",
   "metadata": {},
   "source": [
    "### Feature Selection\n",
    "The following columns are going to be useful parameters to look at when comparing with yearly income\n",
    "- EdLevel\n",
    "- YearsCodePro\n",
    "- Years Code\n",
    "- DevType\n",
    "- OrgSize\n",
    "- Country\n",
    "- Industry\n",
    "- ConvertedCompYearly"
   ]
  },
  {
   "cell_type": "code",
   "execution_count": 33,
   "metadata": {},
   "outputs": [
    {
     "data": {
      "text/html": [
       "<div>\n",
       "<style scoped>\n",
       "    .dataframe tbody tr th:only-of-type {\n",
       "        vertical-align: middle;\n",
       "    }\n",
       "\n",
       "    .dataframe tbody tr th {\n",
       "        vertical-align: top;\n",
       "    }\n",
       "\n",
       "    .dataframe thead th {\n",
       "        text-align: right;\n",
       "    }\n",
       "</style>\n",
       "<table border=\"1\" class=\"dataframe\">\n",
       "  <thead>\n",
       "    <tr style=\"text-align: right;\">\n",
       "      <th></th>\n",
       "      <th>EdLevel</th>\n",
       "      <th>YearsCodePro</th>\n",
       "      <th>YearsCode</th>\n",
       "      <th>DevType</th>\n",
       "      <th>OrgSize</th>\n",
       "      <th>Country</th>\n",
       "      <th>Industry</th>\n",
       "      <th>Salary</th>\n",
       "    </tr>\n",
       "    <tr>\n",
       "      <th>ResponseId</th>\n",
       "      <th></th>\n",
       "      <th></th>\n",
       "      <th></th>\n",
       "      <th></th>\n",
       "      <th></th>\n",
       "      <th></th>\n",
       "      <th></th>\n",
       "      <th></th>\n",
       "    </tr>\n",
       "  </thead>\n",
       "  <tbody>\n",
       "    <tr>\n",
       "      <th>2</th>\n",
       "      <td>Bachelor's degree</td>\n",
       "      <td>9</td>\n",
       "      <td>18</td>\n",
       "      <td>Senior Executive (C-Suite, VP, etc.)</td>\n",
       "      <td>2 to 9 employees</td>\n",
       "      <td>United States of America</td>\n",
       "      <td>Information Services, IT, Software Development...</td>\n",
       "      <td>285000.00</td>\n",
       "    </tr>\n",
       "    <tr>\n",
       "      <th>3</th>\n",
       "      <td>Bachelor's degree</td>\n",
       "      <td>23</td>\n",
       "      <td>27</td>\n",
       "      <td>Developer, back-end</td>\n",
       "      <td>5,000 to 9,999 employees</td>\n",
       "      <td>United States of America</td>\n",
       "      <td>Information Services, IT, Software Development...</td>\n",
       "      <td>250000.00</td>\n",
       "    </tr>\n",
       "    <tr>\n",
       "      <th>4</th>\n",
       "      <td>Bachelor's degree</td>\n",
       "      <td>7</td>\n",
       "      <td>12</td>\n",
       "      <td>Developer, front-end</td>\n",
       "      <td>100 to 499 employees</td>\n",
       "      <td>United States of America</td>\n",
       "      <td>NaN</td>\n",
       "      <td>156000.00</td>\n",
       "    </tr>\n",
       "    <tr>\n",
       "      <th>5</th>\n",
       "      <td>Bachelor's degree</td>\n",
       "      <td>4</td>\n",
       "      <td>6</td>\n",
       "      <td>Developer, full-stack</td>\n",
       "      <td>20 to 99 employees</td>\n",
       "      <td>Philippines</td>\n",
       "      <td>Other</td>\n",
       "      <td>23456.00</td>\n",
       "    </tr>\n",
       "    <tr>\n",
       "      <th>6</th>\n",
       "      <td>Some university</td>\n",
       "      <td>21</td>\n",
       "      <td>21</td>\n",
       "      <td>Developer, back-end</td>\n",
       "      <td>100 to 499 employees</td>\n",
       "      <td>United Kingdom of Great Britain and Northern I...</td>\n",
       "      <td>Other</td>\n",
       "      <td>96828.00</td>\n",
       "    </tr>\n",
       "    <tr>\n",
       "      <th>...</th>\n",
       "      <td>...</td>\n",
       "      <td>...</td>\n",
       "      <td>...</td>\n",
       "      <td>...</td>\n",
       "      <td>...</td>\n",
       "      <td>...</td>\n",
       "      <td>...</td>\n",
       "      <td>...</td>\n",
       "    </tr>\n",
       "    <tr>\n",
       "      <th>89163</th>\n",
       "      <td>Master's degree</td>\n",
       "      <td>24</td>\n",
       "      <td>30</td>\n",
       "      <td>Developer, back-end</td>\n",
       "      <td>5,000 to 9,999 employees</td>\n",
       "      <td>Brazil</td>\n",
       "      <td>Information Services, IT, Software Development...</td>\n",
       "      <td>50719.00</td>\n",
       "    </tr>\n",
       "    <tr>\n",
       "      <th>89167</th>\n",
       "      <td>Some university</td>\n",
       "      <td>2</td>\n",
       "      <td>7</td>\n",
       "      <td>Developer, full-stack</td>\n",
       "      <td>20 to 99 employees</td>\n",
       "      <td>Armenia</td>\n",
       "      <td>Financial Services</td>\n",
       "      <td>16917.00</td>\n",
       "    </tr>\n",
       "    <tr>\n",
       "      <th>89168</th>\n",
       "      <td>Bachelor's degree</td>\n",
       "      <td>2</td>\n",
       "      <td>6</td>\n",
       "      <td>Developer, mobile</td>\n",
       "      <td>20 to 99 employees</td>\n",
       "      <td>India</td>\n",
       "      <td>Retail and Consumer Services</td>\n",
       "      <td>15752.00</td>\n",
       "    </tr>\n",
       "    <tr>\n",
       "      <th>89171</th>\n",
       "      <td>Master's degree</td>\n",
       "      <td>9</td>\n",
       "      <td>18</td>\n",
       "      <td>Other (please specify):</td>\n",
       "      <td>500 to 999 employees</td>\n",
       "      <td>France</td>\n",
       "      <td>Other</td>\n",
       "      <td>64254.00</td>\n",
       "    </tr>\n",
       "    <tr>\n",
       "      <th>89172</th>\n",
       "      <td>Master's degree</td>\n",
       "      <td>9</td>\n",
       "      <td>20</td>\n",
       "      <td>Developer, full-stack</td>\n",
       "      <td>10 to 19 employees</td>\n",
       "      <td>Greece</td>\n",
       "      <td>Information Services, IT, Software Development...</td>\n",
       "      <td>61041.00</td>\n",
       "    </tr>\n",
       "  </tbody>\n",
       "</table>\n",
       "<p>47566 rows × 8 columns</p>\n",
       "</div>"
      ],
      "text/plain": [
       "                      EdLevel YearsCodePro YearsCode  \\\n",
       "ResponseId                                             \n",
       "2           Bachelor's degree            9        18   \n",
       "3           Bachelor's degree           23        27   \n",
       "4           Bachelor's degree            7        12   \n",
       "5           Bachelor's degree            4         6   \n",
       "6             Some university           21        21   \n",
       "...                       ...          ...       ...   \n",
       "89163         Master's degree           24        30   \n",
       "89167         Some university            2         7   \n",
       "89168       Bachelor's degree            2         6   \n",
       "89171         Master's degree            9        18   \n",
       "89172         Master's degree            9        20   \n",
       "\n",
       "                                         DevType                   OrgSize  \\\n",
       "ResponseId                                                                   \n",
       "2           Senior Executive (C-Suite, VP, etc.)          2 to 9 employees   \n",
       "3                            Developer, back-end  5,000 to 9,999 employees   \n",
       "4                           Developer, front-end      100 to 499 employees   \n",
       "5                          Developer, full-stack        20 to 99 employees   \n",
       "6                            Developer, back-end      100 to 499 employees   \n",
       "...                                          ...                       ...   \n",
       "89163                        Developer, back-end  5,000 to 9,999 employees   \n",
       "89167                      Developer, full-stack        20 to 99 employees   \n",
       "89168                          Developer, mobile        20 to 99 employees   \n",
       "89171                    Other (please specify):      500 to 999 employees   \n",
       "89172                      Developer, full-stack        10 to 19 employees   \n",
       "\n",
       "                                                      Country  \\\n",
       "ResponseId                                                      \n",
       "2                                    United States of America   \n",
       "3                                    United States of America   \n",
       "4                                    United States of America   \n",
       "5                                                 Philippines   \n",
       "6           United Kingdom of Great Britain and Northern I...   \n",
       "...                                                       ...   \n",
       "89163                                                  Brazil   \n",
       "89167                                                 Armenia   \n",
       "89168                                                   India   \n",
       "89171                                                  France   \n",
       "89172                                                  Greece   \n",
       "\n",
       "                                                     Industry    Salary  \n",
       "ResponseId                                                               \n",
       "2           Information Services, IT, Software Development... 285000.00  \n",
       "3           Information Services, IT, Software Development... 250000.00  \n",
       "4                                                         NaN 156000.00  \n",
       "5                                                       Other  23456.00  \n",
       "6                                                       Other  96828.00  \n",
       "...                                                       ...       ...  \n",
       "89163       Information Services, IT, Software Development...  50719.00  \n",
       "89167                                      Financial Services  16917.00  \n",
       "89168                            Retail and Consumer Services  15752.00  \n",
       "89171                                                   Other  64254.00  \n",
       "89172       Information Services, IT, Software Development...  61041.00  \n",
       "\n",
       "[47566 rows x 8 columns]"
      ]
     },
     "execution_count": 33,
     "metadata": {},
     "output_type": "execute_result"
    }
   ],
   "source": [
    "# create new dataframe\n",
    "earnings_data = data[['EdLevel','YearsCodePro','YearsCode','DevType','OrgSize','Country','Industry','Salary']]\n",
    "earnings_data"
   ]
  },
  {
   "attachments": {},
   "cell_type": "markdown",
   "metadata": {},
   "source": [
    "### Data Cleaning\n",
    "As the goal for this section is to understand what leads to respondents with a high income. Remove any of the respondents who answered 'Salary' as NA."
   ]
  },
  {
   "cell_type": "code",
   "execution_count": 34,
   "metadata": {},
   "outputs": [
    {
     "data": {
      "text/html": [
       "<div>\n",
       "<style scoped>\n",
       "    .dataframe tbody tr th:only-of-type {\n",
       "        vertical-align: middle;\n",
       "    }\n",
       "\n",
       "    .dataframe tbody tr th {\n",
       "        vertical-align: top;\n",
       "    }\n",
       "\n",
       "    .dataframe thead th {\n",
       "        text-align: right;\n",
       "    }\n",
       "</style>\n",
       "<table border=\"1\" class=\"dataframe\">\n",
       "  <thead>\n",
       "    <tr style=\"text-align: right;\">\n",
       "      <th></th>\n",
       "      <th>EdLevel</th>\n",
       "      <th>YearsCodePro</th>\n",
       "      <th>YearsCode</th>\n",
       "      <th>DevType</th>\n",
       "      <th>OrgSize</th>\n",
       "      <th>Country</th>\n",
       "      <th>Industry</th>\n",
       "      <th>Salary</th>\n",
       "    </tr>\n",
       "    <tr>\n",
       "      <th>ResponseId</th>\n",
       "      <th></th>\n",
       "      <th></th>\n",
       "      <th></th>\n",
       "      <th></th>\n",
       "      <th></th>\n",
       "      <th></th>\n",
       "      <th></th>\n",
       "      <th></th>\n",
       "    </tr>\n",
       "  </thead>\n",
       "  <tbody>\n",
       "    <tr>\n",
       "      <th>2</th>\n",
       "      <td>Bachelor's degree</td>\n",
       "      <td>9</td>\n",
       "      <td>18</td>\n",
       "      <td>Senior Executive (C-Suite, VP, etc.)</td>\n",
       "      <td>2 to 9 employees</td>\n",
       "      <td>United States of America</td>\n",
       "      <td>Information Services, IT, Software Development...</td>\n",
       "      <td>285000.00</td>\n",
       "    </tr>\n",
       "    <tr>\n",
       "      <th>3</th>\n",
       "      <td>Bachelor's degree</td>\n",
       "      <td>23</td>\n",
       "      <td>27</td>\n",
       "      <td>Developer, back-end</td>\n",
       "      <td>5,000 to 9,999 employees</td>\n",
       "      <td>United States of America</td>\n",
       "      <td>Information Services, IT, Software Development...</td>\n",
       "      <td>250000.00</td>\n",
       "    </tr>\n",
       "    <tr>\n",
       "      <th>4</th>\n",
       "      <td>Bachelor's degree</td>\n",
       "      <td>7</td>\n",
       "      <td>12</td>\n",
       "      <td>Developer, front-end</td>\n",
       "      <td>100 to 499 employees</td>\n",
       "      <td>United States of America</td>\n",
       "      <td>NaN</td>\n",
       "      <td>156000.00</td>\n",
       "    </tr>\n",
       "    <tr>\n",
       "      <th>5</th>\n",
       "      <td>Bachelor's degree</td>\n",
       "      <td>4</td>\n",
       "      <td>6</td>\n",
       "      <td>Developer, full-stack</td>\n",
       "      <td>20 to 99 employees</td>\n",
       "      <td>Philippines</td>\n",
       "      <td>Other</td>\n",
       "      <td>23456.00</td>\n",
       "    </tr>\n",
       "    <tr>\n",
       "      <th>6</th>\n",
       "      <td>Some university</td>\n",
       "      <td>21</td>\n",
       "      <td>21</td>\n",
       "      <td>Developer, back-end</td>\n",
       "      <td>100 to 499 employees</td>\n",
       "      <td>United Kingdom of Great Britain and Northern I...</td>\n",
       "      <td>Other</td>\n",
       "      <td>96828.00</td>\n",
       "    </tr>\n",
       "    <tr>\n",
       "      <th>...</th>\n",
       "      <td>...</td>\n",
       "      <td>...</td>\n",
       "      <td>...</td>\n",
       "      <td>...</td>\n",
       "      <td>...</td>\n",
       "      <td>...</td>\n",
       "      <td>...</td>\n",
       "      <td>...</td>\n",
       "    </tr>\n",
       "    <tr>\n",
       "      <th>89163</th>\n",
       "      <td>Master's degree</td>\n",
       "      <td>24</td>\n",
       "      <td>30</td>\n",
       "      <td>Developer, back-end</td>\n",
       "      <td>5,000 to 9,999 employees</td>\n",
       "      <td>Brazil</td>\n",
       "      <td>Information Services, IT, Software Development...</td>\n",
       "      <td>50719.00</td>\n",
       "    </tr>\n",
       "    <tr>\n",
       "      <th>89167</th>\n",
       "      <td>Some university</td>\n",
       "      <td>2</td>\n",
       "      <td>7</td>\n",
       "      <td>Developer, full-stack</td>\n",
       "      <td>20 to 99 employees</td>\n",
       "      <td>Armenia</td>\n",
       "      <td>Financial Services</td>\n",
       "      <td>16917.00</td>\n",
       "    </tr>\n",
       "    <tr>\n",
       "      <th>89168</th>\n",
       "      <td>Bachelor's degree</td>\n",
       "      <td>2</td>\n",
       "      <td>6</td>\n",
       "      <td>Developer, mobile</td>\n",
       "      <td>20 to 99 employees</td>\n",
       "      <td>India</td>\n",
       "      <td>Retail and Consumer Services</td>\n",
       "      <td>15752.00</td>\n",
       "    </tr>\n",
       "    <tr>\n",
       "      <th>89171</th>\n",
       "      <td>Master's degree</td>\n",
       "      <td>9</td>\n",
       "      <td>18</td>\n",
       "      <td>Other (please specify):</td>\n",
       "      <td>500 to 999 employees</td>\n",
       "      <td>France</td>\n",
       "      <td>Other</td>\n",
       "      <td>64254.00</td>\n",
       "    </tr>\n",
       "    <tr>\n",
       "      <th>89172</th>\n",
       "      <td>Master's degree</td>\n",
       "      <td>9</td>\n",
       "      <td>20</td>\n",
       "      <td>Developer, full-stack</td>\n",
       "      <td>10 to 19 employees</td>\n",
       "      <td>Greece</td>\n",
       "      <td>Information Services, IT, Software Development...</td>\n",
       "      <td>61041.00</td>\n",
       "    </tr>\n",
       "  </tbody>\n",
       "</table>\n",
       "<p>47566 rows × 8 columns</p>\n",
       "</div>"
      ],
      "text/plain": [
       "                      EdLevel YearsCodePro YearsCode  \\\n",
       "ResponseId                                             \n",
       "2           Bachelor's degree            9        18   \n",
       "3           Bachelor's degree           23        27   \n",
       "4           Bachelor's degree            7        12   \n",
       "5           Bachelor's degree            4         6   \n",
       "6             Some university           21        21   \n",
       "...                       ...          ...       ...   \n",
       "89163         Master's degree           24        30   \n",
       "89167         Some university            2         7   \n",
       "89168       Bachelor's degree            2         6   \n",
       "89171         Master's degree            9        18   \n",
       "89172         Master's degree            9        20   \n",
       "\n",
       "                                         DevType                   OrgSize  \\\n",
       "ResponseId                                                                   \n",
       "2           Senior Executive (C-Suite, VP, etc.)          2 to 9 employees   \n",
       "3                            Developer, back-end  5,000 to 9,999 employees   \n",
       "4                           Developer, front-end      100 to 499 employees   \n",
       "5                          Developer, full-stack        20 to 99 employees   \n",
       "6                            Developer, back-end      100 to 499 employees   \n",
       "...                                          ...                       ...   \n",
       "89163                        Developer, back-end  5,000 to 9,999 employees   \n",
       "89167                      Developer, full-stack        20 to 99 employees   \n",
       "89168                          Developer, mobile        20 to 99 employees   \n",
       "89171                    Other (please specify):      500 to 999 employees   \n",
       "89172                      Developer, full-stack        10 to 19 employees   \n",
       "\n",
       "                                                      Country  \\\n",
       "ResponseId                                                      \n",
       "2                                    United States of America   \n",
       "3                                    United States of America   \n",
       "4                                    United States of America   \n",
       "5                                                 Philippines   \n",
       "6           United Kingdom of Great Britain and Northern I...   \n",
       "...                                                       ...   \n",
       "89163                                                  Brazil   \n",
       "89167                                                 Armenia   \n",
       "89168                                                   India   \n",
       "89171                                                  France   \n",
       "89172                                                  Greece   \n",
       "\n",
       "                                                     Industry    Salary  \n",
       "ResponseId                                                               \n",
       "2           Information Services, IT, Software Development... 285000.00  \n",
       "3           Information Services, IT, Software Development... 250000.00  \n",
       "4                                                         NaN 156000.00  \n",
       "5                                                       Other  23456.00  \n",
       "6                                                       Other  96828.00  \n",
       "...                                                       ...       ...  \n",
       "89163       Information Services, IT, Software Development...  50719.00  \n",
       "89167                                      Financial Services  16917.00  \n",
       "89168                            Retail and Consumer Services  15752.00  \n",
       "89171                                                   Other  64254.00  \n",
       "89172       Information Services, IT, Software Development...  61041.00  \n",
       "\n",
       "[47566 rows x 8 columns]"
      ]
     },
     "execution_count": 34,
     "metadata": {},
     "output_type": "execute_result"
    }
   ],
   "source": [
    "# collect those who responses to 'Salary' was na\n",
    "# create a mask to remove from the 'earnings_data' df\n",
    "na_for_salary = earnings_data['Salary'].isna()\n",
    "\n",
    "# remove those who had na responses for 'CompTotal' and 'Salary'\n",
    "earnings_data = earnings_data[~na_for_salary]\n",
    "\n",
    "# return dataframe\n",
    "# this dataframe is going to be used for analysis\n",
    "earnings_data"
   ]
  },
  {
   "cell_type": "code",
   "execution_count": 35,
   "metadata": {},
   "outputs": [
    {
     "data": {
      "image/png": "[encoded data removed]",
      "text/plain": [
       "<Figure size 1000x600 with 1 Axes>"
      ]
     },
     "metadata": {},
     "output_type": "display_data"
    }
   ],
   "source": [
    "# create a percentage value of na values as responses for the df\n",
    "earner_data_na_responses = get_na_percentages(earnings_data,1)\n",
    "\n",
    "# plot the data\n",
    "plot_histogram(earner_data_na_responses,9,'Respondents Answer as NA in Higher Earner Data','Percentage of Answers as NA','Frequency')"
   ]
  },
  {
   "attachments": {},
   "cell_type": "markdown",
   "metadata": {},
   "source": [
    "Most of the respondents have very few columns with NA as responses, with none going above about 50% which means that the data has been processed to have enough information to draw insightful conclusions"
   ]
  },
  {
   "attachments": {},
   "cell_type": "markdown",
   "metadata": {},
   "source": [
    "### One-Hot Encoding DF"
   ]
  },
  {
   "cell_type": "code",
   "execution_count": 36,
   "metadata": {},
   "outputs": [],
   "source": [
    "# create a copy of the new dataframe which will have one hot encoded values\n",
    "earnings_data_one_hot = earnings_data.copy()"
   ]
  },
  {
   "cell_type": "code",
   "execution_count": 37,
   "metadata": {},
   "outputs": [
    {
     "data": {
      "text/plain": [
       "['EdLevel',\n",
       " 'YearsCodePro',\n",
       " 'YearsCode',\n",
       " 'DevType',\n",
       " 'OrgSize',\n",
       " 'Country',\n",
       " 'Industry']"
      ]
     },
     "execution_count": 37,
     "metadata": {},
     "output_type": "execute_result"
    }
   ],
   "source": [
    "# create a list of the columns that need to changed to one hot encoded\n",
    "earnings_data.select_dtypes(include=['object']).columns.tolist()"
   ]
  },
  {
   "attachments": {},
   "cell_type": "markdown",
   "metadata": {},
   "source": [
    "#### EdLevel\n",
    "This data represents the type of official education that has been done by the respondent"
   ]
  },
  {
   "cell_type": "code",
   "execution_count": 38,
   "metadata": {},
   "outputs": [
    {
     "data": {
      "text/plain": [
       "array([\"Bachelor's degree\", 'Some university', \"Master's degree\",\n",
       "       'Primrary/elemntary school', 'Professional degree',\n",
       "       'Associate degree', 'Secondary school', 'Something else'],\n",
       "      dtype=object)"
      ]
     },
     "execution_count": 38,
     "metadata": {},
     "output_type": "execute_result"
    }
   ],
   "source": [
    "# output the unique values\n",
    "education_levels = earnings_data['EdLevel'].unique()\n",
    "education_levels"
   ]
  },
  {
   "attachments": {},
   "cell_type": "markdown",
   "metadata": {},
   "source": [
    "As this is something that has an order, allocate the following values with their respective numbers\n",
    "- 'Something else': 0\n",
    "- 'Primary/elemantary': 1\n",
    "- 'Secondary school': 2\n",
    "- 'Some college/university study without earning a degree': 3\n",
    "- 'Associate degree': 4\n",
    "- 'Bachelor's degree': 5\n",
    "- 'Master's degree': 6\n",
    "- 'Professional degree': 7"
   ]
  },
  {
   "cell_type": "code",
   "execution_count": 39,
   "metadata": {},
   "outputs": [
    {
     "data": {
      "text/html": [
       "<div>\n",
       "<style scoped>\n",
       "    .dataframe tbody tr th:only-of-type {\n",
       "        vertical-align: middle;\n",
       "    }\n",
       "\n",
       "    .dataframe tbody tr th {\n",
       "        vertical-align: top;\n",
       "    }\n",
       "\n",
       "    .dataframe thead th {\n",
       "        text-align: right;\n",
       "    }\n",
       "</style>\n",
       "<table border=\"1\" class=\"dataframe\">\n",
       "  <thead>\n",
       "    <tr style=\"text-align: right;\">\n",
       "      <th></th>\n",
       "      <th>EdLevel</th>\n",
       "      <th>YearsCodePro</th>\n",
       "      <th>YearsCode</th>\n",
       "      <th>DevType</th>\n",
       "      <th>OrgSize</th>\n",
       "      <th>Country</th>\n",
       "      <th>Industry</th>\n",
       "      <th>Salary</th>\n",
       "    </tr>\n",
       "    <tr>\n",
       "      <th>ResponseId</th>\n",
       "      <th></th>\n",
       "      <th></th>\n",
       "      <th></th>\n",
       "      <th></th>\n",
       "      <th></th>\n",
       "      <th></th>\n",
       "      <th></th>\n",
       "      <th></th>\n",
       "    </tr>\n",
       "  </thead>\n",
       "  <tbody>\n",
       "    <tr>\n",
       "      <th>2</th>\n",
       "      <td>NaN</td>\n",
       "      <td>9</td>\n",
       "      <td>18</td>\n",
       "      <td>Senior Executive (C-Suite, VP, etc.)</td>\n",
       "      <td>2 to 9 employees</td>\n",
       "      <td>United States of America</td>\n",
       "      <td>Information Services, IT, Software Development...</td>\n",
       "      <td>285000.00</td>\n",
       "    </tr>\n",
       "    <tr>\n",
       "      <th>3</th>\n",
       "      <td>NaN</td>\n",
       "      <td>23</td>\n",
       "      <td>27</td>\n",
       "      <td>Developer, back-end</td>\n",
       "      <td>5,000 to 9,999 employees</td>\n",
       "      <td>United States of America</td>\n",
       "      <td>Information Services, IT, Software Development...</td>\n",
       "      <td>250000.00</td>\n",
       "    </tr>\n",
       "    <tr>\n",
       "      <th>4</th>\n",
       "      <td>NaN</td>\n",
       "      <td>7</td>\n",
       "      <td>12</td>\n",
       "      <td>Developer, front-end</td>\n",
       "      <td>100 to 499 employees</td>\n",
       "      <td>United States of America</td>\n",
       "      <td>NaN</td>\n",
       "      <td>156000.00</td>\n",
       "    </tr>\n",
       "    <tr>\n",
       "      <th>5</th>\n",
       "      <td>NaN</td>\n",
       "      <td>4</td>\n",
       "      <td>6</td>\n",
       "      <td>Developer, full-stack</td>\n",
       "      <td>20 to 99 employees</td>\n",
       "      <td>Philippines</td>\n",
       "      <td>Other</td>\n",
       "      <td>23456.00</td>\n",
       "    </tr>\n",
       "    <tr>\n",
       "      <th>6</th>\n",
       "      <td>NaN</td>\n",
       "      <td>21</td>\n",
       "      <td>21</td>\n",
       "      <td>Developer, back-end</td>\n",
       "      <td>100 to 499 employees</td>\n",
       "      <td>United Kingdom of Great Britain and Northern I...</td>\n",
       "      <td>Other</td>\n",
       "      <td>96828.00</td>\n",
       "    </tr>\n",
       "    <tr>\n",
       "      <th>...</th>\n",
       "      <td>...</td>\n",
       "      <td>...</td>\n",
       "      <td>...</td>\n",
       "      <td>...</td>\n",
       "      <td>...</td>\n",
       "      <td>...</td>\n",
       "      <td>...</td>\n",
       "      <td>...</td>\n",
       "    </tr>\n",
       "    <tr>\n",
       "      <th>89163</th>\n",
       "      <td>NaN</td>\n",
       "      <td>24</td>\n",
       "      <td>30</td>\n",
       "      <td>Developer, back-end</td>\n",
       "      <td>5,000 to 9,999 employees</td>\n",
       "      <td>Brazil</td>\n",
       "      <td>Information Services, IT, Software Development...</td>\n",
       "      <td>50719.00</td>\n",
       "    </tr>\n",
       "    <tr>\n",
       "      <th>89167</th>\n",
       "      <td>NaN</td>\n",
       "      <td>2</td>\n",
       "      <td>7</td>\n",
       "      <td>Developer, full-stack</td>\n",
       "      <td>20 to 99 employees</td>\n",
       "      <td>Armenia</td>\n",
       "      <td>Financial Services</td>\n",
       "      <td>16917.00</td>\n",
       "    </tr>\n",
       "    <tr>\n",
       "      <th>89168</th>\n",
       "      <td>NaN</td>\n",
       "      <td>2</td>\n",
       "      <td>6</td>\n",
       "      <td>Developer, mobile</td>\n",
       "      <td>20 to 99 employees</td>\n",
       "      <td>India</td>\n",
       "      <td>Retail and Consumer Services</td>\n",
       "      <td>15752.00</td>\n",
       "    </tr>\n",
       "    <tr>\n",
       "      <th>89171</th>\n",
       "      <td>NaN</td>\n",
       "      <td>9</td>\n",
       "      <td>18</td>\n",
       "      <td>Other (please specify):</td>\n",
       "      <td>500 to 999 employees</td>\n",
       "      <td>France</td>\n",
       "      <td>Other</td>\n",
       "      <td>64254.00</td>\n",
       "    </tr>\n",
       "    <tr>\n",
       "      <th>89172</th>\n",
       "      <td>NaN</td>\n",
       "      <td>9</td>\n",
       "      <td>20</td>\n",
       "      <td>Developer, full-stack</td>\n",
       "      <td>10 to 19 employees</td>\n",
       "      <td>Greece</td>\n",
       "      <td>Information Services, IT, Software Development...</td>\n",
       "      <td>61041.00</td>\n",
       "    </tr>\n",
       "  </tbody>\n",
       "</table>\n",
       "<p>47566 rows × 8 columns</p>\n",
       "</div>"
      ],
      "text/plain": [
       "            EdLevel YearsCodePro YearsCode  \\\n",
       "ResponseId                                   \n",
       "2               NaN            9        18   \n",
       "3               NaN           23        27   \n",
       "4               NaN            7        12   \n",
       "5               NaN            4         6   \n",
       "6               NaN           21        21   \n",
       "...             ...          ...       ...   \n",
       "89163           NaN           24        30   \n",
       "89167           NaN            2         7   \n",
       "89168           NaN            2         6   \n",
       "89171           NaN            9        18   \n",
       "89172           NaN            9        20   \n",
       "\n",
       "                                         DevType                   OrgSize  \\\n",
       "ResponseId                                                                   \n",
       "2           Senior Executive (C-Suite, VP, etc.)          2 to 9 employees   \n",
       "3                            Developer, back-end  5,000 to 9,999 employees   \n",
       "4                           Developer, front-end      100 to 499 employees   \n",
       "5                          Developer, full-stack        20 to 99 employees   \n",
       "6                            Developer, back-end      100 to 499 employees   \n",
       "...                                          ...                       ...   \n",
       "89163                        Developer, back-end  5,000 to 9,999 employees   \n",
       "89167                      Developer, full-stack        20 to 99 employees   \n",
       "89168                          Developer, mobile        20 to 99 employees   \n",
       "89171                    Other (please specify):      500 to 999 employees   \n",
       "89172                      Developer, full-stack        10 to 19 employees   \n",
       "\n",
       "                                                      Country  \\\n",
       "ResponseId                                                      \n",
       "2                                    United States of America   \n",
       "3                                    United States of America   \n",
       "4                                    United States of America   \n",
       "5                                                 Philippines   \n",
       "6           United Kingdom of Great Britain and Northern I...   \n",
       "...                                                       ...   \n",
       "89163                                                  Brazil   \n",
       "89167                                                 Armenia   \n",
       "89168                                                   India   \n",
       "89171                                                  France   \n",
       "89172                                                  Greece   \n",
       "\n",
       "                                                     Industry    Salary  \n",
       "ResponseId                                                               \n",
       "2           Information Services, IT, Software Development... 285000.00  \n",
       "3           Information Services, IT, Software Development... 250000.00  \n",
       "4                                                         NaN 156000.00  \n",
       "5                                                       Other  23456.00  \n",
       "6                                                       Other  96828.00  \n",
       "...                                                       ...       ...  \n",
       "89163       Information Services, IT, Software Development...  50719.00  \n",
       "89167                                      Financial Services  16917.00  \n",
       "89168                            Retail and Consumer Services  15752.00  \n",
       "89171                                                   Other  64254.00  \n",
       "89172       Information Services, IT, Software Development...  61041.00  \n",
       "\n",
       "[47566 rows x 8 columns]"
      ]
     },
     "execution_count": 39,
     "metadata": {},
     "output_type": "execute_result"
    }
   ],
   "source": [
    "# create the list of numbers based on the values in earnings data\n",
    "ed_level_one_hot = [0,1,2,3,4,5,6,7]\n",
    "ed_level = ['Something else',\n",
    "            'Primary/elementary school',\n",
    "            'Secondary school (e.g. American high school, German Realschule or Gymnasium, etc.)',\n",
    "            'Some college/university study without earning a degree',\n",
    "            'Associate degree (A.A., A.S., etc.)',\n",
    "            'Bachelor’s degree (B.A., B.S., B.Eng., etc.)',\n",
    "            'Master’s degree (M.A., M.S., M.Eng., MBA, etc.)',\n",
    "            'Professional degree (JD, MD, Ph.D, Ed.D, etc.)']\n",
    "\n",
    "# Create a mapping from ed_level to ed_level_one_hot\n",
    "ed_level_mapping = dict(zip(ed_level, ed_level_one_hot))\n",
    "\n",
    "earnings_data_one_hot['EdLevel'] = earnings_data['EdLevel'].map(ed_level_mapping)\n",
    "earnings_data_one_hot"
   ]
  }
 ],
 "metadata": {
  "kernelspec": {
   "display_name": "base",
   "language": "python",
   "name": "python3"
  },
  "language_info": {
   "codemirror_mode": {
    "name": "ipython",
    "version": 3
   },
   "file_extension": ".py",
   "mimetype": "text/x-python",
   "name": "python",
   "nbconvert_exporter": "python",
   "pygments_lexer": "ipython3",
   "version": "3.9.13"
  },
  "orig_nbformat": 4
 },
 "nbformat": 4,
 "nbformat_minor": 2
}
